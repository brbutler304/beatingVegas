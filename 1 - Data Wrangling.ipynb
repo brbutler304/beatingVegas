{
 "cells": [
  {
   "attachments": {},
   "cell_type": "markdown",
   "metadata": {},
   "source": [
    "Baseball Prediction: 1 - Data Wrangling\n",
    "\n",
    "In this notebook, we will wrangle data downloaded from www.retrosheet.org into a dataframe suitable for model building. Specifically, for each game, we will calculate some team statistics over their past 162 games.\n",
    "\n",
    "At the end, we save our dataframe to a file. This file will be the starting point for the next notebook, in which we build our first model.\n",
    "\n",
    "To use this notebook, you must first download the game logs here: https://www.retrosheet.org/gamelogs/index.html Towards the bottom of the page there are links for ZIP files containing multiple seasons. Download the zip files containing the 'gamelog' data, decompress it, and then move all of the single season files to a single directory. You will then need the path to that directory for the variable fname below."
   ]
  },
  {
   "cell_type": "code",
   "execution_count": null,
   "metadata": {},
   "outputs": [],
   "source": [
    "import numpy as np\n",
    "import pandas as pd\n",
    "import matplotlib.pyplot as plt\n",
    "%matplotlib inline\n",
    "\n",
    "pd.set_option('display.max_columns',1000)\n",
    "pd.set_option('display.max_rows',1000)"
   ]
  },
  {
   "cell_type": "code",
   "execution_count": null,
   "metadata": {},
   "outputs": [],
   "source": [
    "fname = '/Users/antiprotons/Downloads/alldata/gamelogs/'+'gl2022.txt'\n",
    "df = pd.read_csv(fname, header=None)"
   ]
  },
  {
   "cell_type": "code",
   "execution_count": null,
   "metadata": {},
   "outputs": [],
   "source": [
    "df.head(25)"
   ]
  },
  {
   "cell_type": "code",
   "execution_count": null,
   "metadata": {},
   "outputs": [],
   "source": [
    "colnames = ['date','dblheader_code','day_of_week','team_v','league_v','game_no_v',\n",
    "           'team_h','league_h','game_no_h', 'runs_v', 'runs_h','outs_total','day_night',\n",
    "            'completion_info','forfeit_info','protest_info','ballpark_id','attendance','game_minutes',\n",
    "            'linescore_v','linescore_h',\n",
    "           'AB_v','H_v','2B_v','3B_v','HR_v','RBI_v','SH_v','SF_v','HBP_v','BB_v','IBB_v','SO_v',\n",
    "            'SB_v', 'CS_v','GIDP_v','CI_v','LOB_v',\n",
    "            'P_num_v','ERind_v','ERteam_v','WP_v','balk_v',\n",
    "            'PO_v','ASST_v','ERR_v','PB_v','DP_v','TP_v',\n",
    "           'AB_h', 'H_h', '2B_h', '3B_h', 'HR_h', 'RBI_h', 'SH_h', 'SF_h', 'HBP_h', 'BB_h', 'IBB_h','SO_h',\n",
    "            'SB_h', 'CS_h', 'GIDP_h', 'CI_h', 'LOB_h',\n",
    "            'P_num_h', 'ERind_h', 'ERteam_h', 'WP_h', 'balk_h',\n",
    "            'PO_h', 'ASST_h', 'ERR_h', 'PB_h', 'DP_h', 'TP_h',\n",
    "            'ump_HB_id', 'ump_HB_name','ump_1B_id', 'ump_1B_name','ump_2B_id', 'ump_2B_name',\n",
    "            'ump_3B_id', 'ump_3B_name','ump_LF_id', 'ump_LF_name','ump_RF_id', 'ump_RF_name',\n",
    "            'mgr_id_v', 'mgr_name_v', 'mgr_id_h', 'mgr_name_h',\n",
    "            'pitcher_id_w','pitcher_name_w','pitcher_id_l','pitcher_name_l','pitcher_id_s','pitcher_name_s',\n",
    "            'GWRBI_id','GWRBI_name','pitcher_start_id_v','pitcher_start_name_v','pitcher_start_id_h','pitcher_start_name_h',\n",
    "            'batter1_name_v', 'batter1_id_v', 'batter1_pos_v', 'batter2_name_v', 'batter2_id_v', 'batter2_pos_v',\n",
    "            'batter3_name_v', 'batter3_id_v', 'batter3_pos_v', 'batter4_name_v', 'batter4_id_v', 'batter4_pos_v',\n",
    "            'batter5_name_v', 'batter5_id_v', 'batter5_pos_v', 'batter6_name_v', 'batter6_id_v', 'batter6_pos_v',\n",
    "            'batter7_name_v', 'batter7_id_v', 'batter7_pos_v', 'batter8_name_v', 'batter8_id_v', 'batter8_pos_v',\n",
    "            'batter9_name_v', 'batter9_id_v', 'batter9_pos_v', 'batter1_name_h', 'batter1_id_h', 'batter1_pos_h',\n",
    "            'batter2_name_h', 'batter2_id_h', 'batter2_pos_h', 'batter3_name_h', 'batter3_id_h', 'batter3_pos_h',\n",
    "            'batter4_name_h', 'batter4_id_h', 'batter4_pos_h', 'batter5_name_h', 'batter5_id_h', 'batter5_pos_h',\n",
    "            'batter6_name_h', 'batter6_id_h', 'batter6_pos_h', 'batter7_name_h', 'batter7_id_h', 'batter7_pos_h',\n",
    "            'batter8_name_h', 'batter8_id_h', 'batter8_pos_h', 'batter9_name_h', 'batter9_id_h', 'batter9_pos_h',           \n",
    "           'misc_info','acqui_info'\n",
    "           ]\n",
    "\n",
    "df.columns = colnames\n",
    "\n",
    "df.sample(25)"
   ]
  },
  {
   "attachments": {},
   "cell_type": "markdown",
   "metadata": {},
   "source": [
    "CREATE DATA FRAME CONTAINING THE GAME LOG FOR EVERY GAME OF 'THE MODERN ERA' (1901-PRESENT)"
   ]
  },
  {
   "cell_type": "code",
   "execution_count": null,
   "metadata": {},
   "outputs": [],
   "source": [
    "df = pd.DataFrame()\n",
    "for year in range(1901,2023):\n",
    "    fname = '/Users/antiprotons/Downloads/alldata/gamelogs/gl' +str(year)+'.txt'\n",
    "    df_temp = pd.read_csv(fname, header=None)\n",
    "    df_temp.columns = colnames\n",
    "    df_temp['season'] = year\n",
    "    df = pd.concat((df, df_temp))"
   ]
  },
  {
   "cell_type": "code",
   "execution_count": null,
   "metadata": {},
   "outputs": [],
   "source": [
    "df.shape"
   ]
  },
  {
   "cell_type": "code",
   "execution_count": null,
   "metadata": {},
   "outputs": [],
   "source": [
    "df.info(max_cols=200)"
   ]
  },
  {
   "cell_type": "code",
   "execution_count": null,
   "metadata": {},
   "outputs": [],
   "source": [
    "## Calculate a few useful columns\n",
    "\n",
    "df['run_diff'] = df['runs_h']-df['runs_v']\n",
    "df['home_victory'] = (df['run_diff']>0).astype(int)\n",
    "df['run_total'] = df['runs_h'].copy()+df['runs_v'].copy()\n",
    "df['date_dblhead'] = (df['date'].astype(str) + df['dblheader_code'].astype(str)).astype(int)"
   ]
  },
  {
   "cell_type": "code",
   "execution_count": null,
   "metadata": {},
   "outputs": [],
   "source": [
    "df.home_victory.mean()"
   ]
  },
  {
   "attachments": {},
   "cell_type": "markdown",
   "metadata": {},
   "source": [
    "Big picture - have outcome, need features\n",
    "\n",
    "- Would like to start simple, base features on team results over past n games\n",
    "- Need to do a bit of \"data wrangling\"\n",
    "- First, we need to have each team's games in chronological order\n",
    "- Then can use pandas 'rolling' functionality to aggregate over windows in the past\n",
    "\n",
    "- Immediate goal, get batting average, on-base percentage, and slugging percentage\n",
    "- Need \"running values\" based on the past, not including the current game"
   ]
  },
  {
   "cell_type": "code",
   "execution_count": null,
   "metadata": {},
   "outputs": [],
   "source": [
    "# Let's look at a single team's games\n",
    "\n",
    "df_reds = df.loc[((df.team_v=='CIN') | (df.team_h=='CIN')), :]\n",
    "df_reds.shape"
   ]
  },
  {
   "cell_type": "code",
   "execution_count": null,
   "metadata": {},
   "outputs": [],
   "source": [
    "df_reds.sample(50)"
   ]
  },
  {
   "cell_type": "code",
   "execution_count": null,
   "metadata": {},
   "outputs": [],
   "source": [
    "# Write a function to create a team-specific data frame, given the team\n",
    "def strip_suffix(x, suff):\n",
    "    if x.endswith(suff):\n",
    "        return(x[:-len(suff)])\n",
    "    else:\n",
    "        return(x)\n",
    "\n",
    "visit_cols = [col for col in df.columns if not col.endswith('_h')]\n",
    "visit_cols_stripped = [strip_suffix(col,'_v') for col in visit_cols]\n",
    "home_cols = [col for col in df.columns if not col.endswith('_v')]\n",
    "home_cols_stripped = [strip_suffix(col,'_h') for col in home_cols]\n",
    "\n",
    "## This subsets the game level df by team, to aggregate team statistics easily\n",
    "## We also create rolling sums with an offset, so that the rollsum number represents\n",
    "## statistics up to, but not including, the game in question\n",
    "\n",
    "def create_team_df(team):\n",
    "    df_team_v = df[(df.team_v==team)]\n",
    "    opponent = df_team_v['team_h']\n",
    "    df_team_v = df_team_v[visit_cols]\n",
    "    df_team_v.columns = visit_cols_stripped\n",
    "    df_team_v['home_game'] = 0\n",
    "    df_team_v['opponent'] = opponent\n",
    "\n",
    "    df_team_h = df[(df.team_h==team)]\n",
    "    opponent = df_team_h['team_v']\n",
    "    df_team_h = df_team_h[home_cols]\n",
    "    df_team_h.columns = home_cols_stripped\n",
    "    df_team_h['home_game'] = 1\n",
    "    df_team_h['opponent'] = opponent\n",
    "\n",
    "\n",
    "    df_team = pd.concat((df_team_h, df_team_v))\n",
    "    df_team.sort_values(['date', 'game_no'],inplace=True)\n",
    "    \n",
    "    for winsize in [162,30]:\n",
    "        suff = str(winsize)\n",
    "        for raw_col in ['AB','H','2B','3B','HR','BB','runs','SB','CS','ERR']:\n",
    "            new_col = 'rollsum_'+raw_col+'_'+suff\n",
    "            df_team[new_col] = df_team[raw_col].rolling(winsize, closed='left').sum()\n",
    "\n",
    "        df_team['rollsum_BATAVG_'+suff] = df_team['rollsum_H_'+suff] / df_team['rollsum_AB_'+suff]\n",
    "        df_team['rollsum_OBP_'+suff] = (df_team['rollsum_H_'+suff] + df_team['rollsum_BB_'+suff]) / (\n",
    "                                    df_team['rollsum_AB_'+suff]+df_team['rollsum_BB_'+suff])\n",
    "        df_team['rollsum_SLG_'+suff] = (df_team['rollsum_H_'+suff] + df_team['rollsum_2B_'+suff] \n",
    "                                 + 2*df_team['rollsum_3B_'+suff]+ \n",
    "                                3*df_team['rollsum_HR_'+suff] ) / (df_team['rollsum_AB_'+suff])\n",
    "        df_team['rollsum_OBS_'+suff] = df_team['rollsum_OBP_'+suff] + df_team['rollsum_SLG_'+suff]\n",
    "    \n",
    "    df_team['season_game'] = df_team['season']*1000 + df_team['game_no']\n",
    "    df_team.set_index('season_game', inplace=True)\n",
    "    return(df_team)\n",
    "df_reds = create_team_df('CIN')\n",
    "df_reds.sample(10)"
   ]
  },
  {
   "cell_type": "code",
   "execution_count": null,
   "metadata": {},
   "outputs": [],
   "source": [
    "# Make a dictionary that maps a team name to it's data frame\n",
    "# Create the team level dataframe for each team - put in dict for easy access\n",
    "team_data_dict = {}\n",
    "for team in df.team_v.unique():\n",
    "    team_data_dict[team] = create_team_df(team)"
   ]
  },
  {
   "cell_type": "code",
   "execution_count": null,
   "metadata": {},
   "outputs": [],
   "source": [
    "# Go through the rows of the main dataframe, and augment it with home and visiting teams' features\n",
    "## Create a variety of summarized statistics for each game\n",
    "## For each game, we look up the home and visiting team in the team\n",
    "## data dictionary, and then look up the game, and pull the relevant stats\n",
    "\n",
    "BATAVG_162_h = np.zeros(df.shape[0])\n",
    "BATAVG_162_v = np.zeros(df.shape[0])\n",
    "OBP_162_h = np.zeros(df.shape[0])\n",
    "OBP_162_v = np.zeros(df.shape[0])\n",
    "SLG_162_h = np.zeros(df.shape[0])\n",
    "SLG_162_v = np.zeros(df.shape[0])\n",
    "OBS_162_h = np.zeros(df.shape[0])\n",
    "OBS_162_v = np.zeros(df.shape[0])\n",
    "SB_162_h = np.zeros(df.shape[0])\n",
    "SB_162_v = np.zeros(df.shape[0])\n",
    "CS_162_h = np.zeros(df.shape[0])\n",
    "CS_162_v = np.zeros(df.shape[0])\n",
    "ERR_162_h = np.zeros(df.shape[0])\n",
    "ERR_162_v = np.zeros(df.shape[0])\n",
    "BATAVG_30_h = np.zeros(df.shape[0])\n",
    "BATAVG_30_v = np.zeros(df.shape[0])\n",
    "OBP_30_h = np.zeros(df.shape[0])\n",
    "OBP_30_v = np.zeros(df.shape[0])\n",
    "SLG_30_h = np.zeros(df.shape[0])\n",
    "SLG_30_v = np.zeros(df.shape[0])\n",
    "OBS_30_h = np.zeros(df.shape[0])\n",
    "OBS_30_v = np.zeros(df.shape[0])\n",
    "SB_30_h = np.zeros(df.shape[0])\n",
    "SB_30_v = np.zeros(df.shape[0])\n",
    "CS_30_h = np.zeros(df.shape[0])\n",
    "CS_30_v = np.zeros(df.shape[0])\n",
    "ERR_30_h = np.zeros(df.shape[0])\n",
    "ERR_30_v = np.zeros(df.shape[0])\n",
    "i=0\n",
    "for index, row in df.iterrows():\n",
    "    if i%2500==0:\n",
    "        print(i)\n",
    "    home_team = row['team_h']\n",
    "    visit_team = row['team_v']\n",
    "    game_index_v = row['season']*1000 + row['game_no_v']\n",
    "    game_index_h = row['season']*1000 + row['game_no_h']\n",
    "    BATAVG_162_h[i] = team_data_dict[home_team].loc[game_index_h,'rollsum_BATAVG_162']\n",
    "    BATAVG_162_v[i] = team_data_dict[visit_team].loc[game_index_v,'rollsum_BATAVG_162']\n",
    "    OBP_162_h[i] = team_data_dict[home_team].loc[game_index_h,'rollsum_OBP_162']\n",
    "    OBP_162_v[i] = team_data_dict[visit_team].loc[game_index_v,'rollsum_OBP_162']\n",
    "    SLG_162_h[i] = team_data_dict[home_team].loc[game_index_h,'rollsum_SLG_162']\n",
    "    SLG_162_v[i] = team_data_dict[visit_team].loc[game_index_v,'rollsum_SLG_162']\n",
    "    OBS_162_h[i] = team_data_dict[home_team].loc[game_index_h,'rollsum_OBS_162']\n",
    "    OBS_162_v[i] = team_data_dict[visit_team].loc[game_index_v,'rollsum_OBS_162']\n",
    "    SB_162_h[i] = team_data_dict[home_team].loc[game_index_h,'rollsum_SB_162']\n",
    "    SB_162_v[i] = team_data_dict[visit_team].loc[game_index_v,'rollsum_SB_162']\n",
    "    CS_162_h[i] = team_data_dict[home_team].loc[game_index_h,'rollsum_CS_162']\n",
    "    CS_162_v[i] = team_data_dict[visit_team].loc[game_index_v,'rollsum_CS_162']\n",
    "    ERR_162_h[i] = team_data_dict[home_team].loc[game_index_h,'rollsum_ERR_162']\n",
    "    ERR_162_v[i] = team_data_dict[visit_team].loc[game_index_v,'rollsum_ERR_162']\n",
    "    BATAVG_30_h[i] = team_data_dict[home_team].loc[game_index_h,'rollsum_BATAVG_30']\n",
    "    BATAVG_30_v[i] = team_data_dict[visit_team].loc[game_index_v,'rollsum_BATAVG_30']\n",
    "    OBP_30_h[i] = team_data_dict[home_team].loc[game_index_h,'rollsum_OBP_30']\n",
    "    OBP_30_v[i] = team_data_dict[visit_team].loc[game_index_v,'rollsum_OBP_30']\n",
    "    SLG_30_h[i] = team_data_dict[home_team].loc[game_index_h,'rollsum_SLG_30']\n",
    "    SLG_30_v[i] = team_data_dict[visit_team].loc[game_index_v,'rollsum_SLG_30']\n",
    "    OBS_30_h[i] = team_data_dict[home_team].loc[game_index_h,'rollsum_OBS_30']\n",
    "    OBS_30_v[i] = team_data_dict[visit_team].loc[game_index_v,'rollsum_OBS_30']\n",
    "    SB_30_h[i] = team_data_dict[home_team].loc[game_index_h,'rollsum_SB_30']\n",
    "    SB_30_v[i] = team_data_dict[visit_team].loc[game_index_v,'rollsum_SB_30']\n",
    "    CS_30_h[i] = team_data_dict[home_team].loc[game_index_h,'rollsum_CS_30']\n",
    "    CS_30_v[i] = team_data_dict[visit_team].loc[game_index_v,'rollsum_CS_30']\n",
    "    ERR_30_h[i] = team_data_dict[home_team].loc[game_index_h,'rollsum_ERR_30']\n",
    "    ERR_30_v[i] = team_data_dict[visit_team].loc[game_index_v,'rollsum_ERR_30']\n",
    "    i+=1"
   ]
  },
  {
   "cell_type": "code",
   "execution_count": null,
   "metadata": {},
   "outputs": [],
   "source": [
    "## We then put the constructed arrays into the main game level dataframe\n",
    "df['BATAVG_162_h'] = BATAVG_162_h\n",
    "df['BATAVG_162_v'] = BATAVG_162_v\n",
    "df['OBP_162_h'] = OBP_162_h\n",
    "df['OBP_162_v'] = OBP_162_v\n",
    "df['SLG_162_h'] = SLG_162_h\n",
    "df['SLG_162_v'] = SLG_162_v\n",
    "df['OBS_162_h'] = OBS_162_h\n",
    "df['OBS_162_v'] = OBS_162_v\n",
    "df['SB_162_h'] = SB_162_h\n",
    "df['SB_162_v'] = SB_162_v\n",
    "df['CS_162_h'] = CS_162_h\n",
    "df['CS_162_v'] = CS_162_v\n",
    "df['ERR_162_h'] = ERR_162_h\n",
    "df['ERR_162_v'] = ERR_162_v\n",
    "df['BATAVG_30_h'] = BATAVG_30_h\n",
    "df['BATAVG_30_v'] = BATAVG_30_v\n",
    "df['OBP_30_h'] = OBP_30_h\n",
    "df['OBP_30_v'] = OBP_30_v\n",
    "df['SLG_30_h'] = SLG_30_h\n",
    "df['SLG_30_v'] = SLG_30_v\n",
    "df['OBS_30_h'] = OBS_30_h\n",
    "df['OBS_30_v'] = OBS_30_v\n",
    "df['SB_30_h'] = SB_30_h\n",
    "df['SB_30_v'] = SB_30_v\n",
    "df['CS_30_h'] = CS_30_h\n",
    "df['CS_30_v'] = CS_30_v\n",
    "df['ERR_30_h'] = ERR_30_h\n",
    "df['ERR_30_v'] = ERR_30_v\n",
    "\n",
    "\n",
    "df.shape\n",
    "\n",
    "df.sample(25)"
   ]
  },
  {
   "cell_type": "code",
   "execution_count": null,
   "metadata": {},
   "outputs": [],
   "source": [
    "df.to_csv('df_bp1.csv', index=False)"
   ]
  }
 ],
 "metadata": {
  "kernelspec": {
   "display_name": "Python 3",
   "language": "python",
   "name": "python3"
  },
  "language_info": {
   "codemirror_mode": {
    "name": "ipython",
    "version": 3
   },
   "file_extension": ".py",
   "mimetype": "text/x-python",
   "name": "python",
   "nbconvert_exporter": "python",
   "pygments_lexer": "ipython3",
   "version": "3.9.6"
  },
  "orig_nbformat": 4
 },
 "nbformat": 4,
 "nbformat_minor": 2
}
