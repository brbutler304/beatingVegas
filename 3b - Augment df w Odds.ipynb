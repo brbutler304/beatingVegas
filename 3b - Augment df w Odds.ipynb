{
 "cells": [
  {
   "attachments": {},
   "cell_type": "markdown",
   "metadata": {},
   "source": [
    "Baseball Prediction: 3b - Augment DataFrame with Odds Data\n",
    "\n",
    "In the previous notebook, we got historical odds data from oddsshark.com and saved them as a set of csv files (with a particular naming convention).\n",
    "\n",
    "In this notebook we will load that data and augment our primary (game-level) data frame so that it includes this odds data - specifically, the implied probabilities and the over/under, for each game."
   ]
  },
  {
   "cell_type": "code",
   "execution_count": null,
   "metadata": {},
   "outputs": [],
   "source": [
    "import numpy as np\n",
    "import pandas as pd\n",
    "import matplotlib.pyplot as plt\n",
    "import lxml\n",
    "import html5lib\n",
    "%matplotlib inline\n",
    "from urllib.request import urlopen\n",
    "import time\n",
    "import structureboost as stb\n",
    "import ml_insights as mli\n",
    "pd.set_option('display.max_columns',1000)\n",
    "pd.set_option('display.max_rows',1000)"
   ]
  },
  {
   "cell_type": "code",
   "execution_count": null,
   "metadata": {},
   "outputs": [],
   "source": [
    "df=pd.read_csv('df_bp1.csv', low_memory=False)"
   ]
  },
  {
   "attachments": {},
   "cell_type": "markdown",
   "metadata": {},
   "source": [
    "Plan of attack\n",
    "\n",
    "- Create a dictionary structure to enable us to easily go to a specific game for a particular team and season.\n",
    "- Iterate through the rows of our main dataframe, look up the home and visiting team for that game to get their odds. (Note: need two different lookups per game)"
   ]
  },
  {
   "cell_type": "code",
   "execution_count": null,
   "metadata": {},
   "outputs": [],
   "source": [
    "# Use the same mapping as before\n",
    "# (more elegant to save to file...)\n",
    "\n",
    "oddsshark_num_to_team_dict = {}\n",
    "oddsshark_num_to_team_dict[26995]='PHI'\n",
    "oddsshark_num_to_team_dict[26996]='SDN'\n",
    "oddsshark_num_to_team_dict[26997]='SFN'\n",
    "oddsshark_num_to_team_dict[26998]='ANA'\n",
    "oddsshark_num_to_team_dict[26999]='DET'\n",
    "oddsshark_num_to_team_dict[27000]='CIN'\n",
    "oddsshark_num_to_team_dict[27001]='NYA'\n",
    "oddsshark_num_to_team_dict[27002]='TEX'\n",
    "oddsshark_num_to_team_dict[27003]='TBA'\n",
    "oddsshark_num_to_team_dict[27004]='COL'\n",
    "oddsshark_num_to_team_dict[27005]='MIN'\n",
    "oddsshark_num_to_team_dict[27006]='KCA'\n",
    "oddsshark_num_to_team_dict[27007]='ARI'\n",
    "oddsshark_num_to_team_dict[27008]='BAL'\n",
    "oddsshark_num_to_team_dict[27009]='ATL'\n",
    "oddsshark_num_to_team_dict[27010]='TOR'\n",
    "oddsshark_num_to_team_dict[27011]='SEA'\n",
    "oddsshark_num_to_team_dict[27012]='MIL'\n",
    "oddsshark_num_to_team_dict[27013]='PIT'\n",
    "oddsshark_num_to_team_dict[27014]='NYN'\n",
    "oddsshark_num_to_team_dict[27015]='LAN'\n",
    "oddsshark_num_to_team_dict[27016]='OAK'\n",
    "oddsshark_num_to_team_dict[27017]='WAS'\n",
    "oddsshark_num_to_team_dict[27018]='CHA'\n",
    "oddsshark_num_to_team_dict[27019]='SLN'\n",
    "oddsshark_num_to_team_dict[27020]='CHN'\n",
    "oddsshark_num_to_team_dict[27021]='BOS'\n",
    "oddsshark_num_to_team_dict[27022]='MIA'\n",
    "oddsshark_num_to_team_dict[27023]='HOU'\n",
    "oddsshark_num_to_team_dict[27024]='CLE'\n",
    " \n",
    "# Use the saved files to get the odds information\n",
    "# We create a dict based on team and season for easy lookup\n",
    "df_odds_dict={}\n",
    "for i in range(26995, 27025):\n",
    "    team_name = oddsshark_num_to_team_dict[i]\n",
    "    df_odds_dict[team_name] = {}\n",
    "    print(team_name)\n",
    "    for season in range(2019,2023):\n",
    "        fname = 'oddsshark_'+team_name+'_'+str(season)+'.csv'\n",
    "        df_temp = pd.read_csv('/Users/antiprotons/Desktop/DA/oddshark/'+fname)\n",
    "        df_temp['date_dblhead'] = (df_temp.date_numeric.astype(str) + df_temp.dblheader_num.astype(str)).astype(int)\n",
    "        df_temp.set_index('date_dblhead', inplace=True)\n",
    "        df_odds_dict[team_name][season] = df_temp"
   ]
  },
  {
   "attachments": {},
   "cell_type": "markdown",
   "metadata": {},
   "source": [
    "Augment our main dataframe"
   ]
  },
  {
   "cell_type": "code",
   "execution_count": null,
   "metadata": {},
   "outputs": [],
   "source": [
    "# Again, we iterate through the main dataframe\n",
    "# get the team, season, game and then get\n",
    "# the relevant info from the odds dictionary\n",
    "\n",
    "implied_prob_h = np.zeros(df.shape[0])\n",
    "implied_prob_v = np.zeros(df.shape[0])\n",
    "over_under = np.zeros(df.shape[0])\n",
    "ou_result = np.full(df.shape[0],'', dtype=object)\n",
    "for ind, row in df.iterrows():\n",
    "    if (ind%1000)==0:\n",
    "        print(ind)\n",
    "    if row.season<2019:\n",
    "        continue\n",
    "    else:\n",
    "        season = row['season']\n",
    "        home_team = row['team_h']\n",
    "        visit_team = row['team_v']\n",
    "        home_game_no = row['game_no_h']\n",
    "        visit_game_no = row['game_no_v']\n",
    "        date_dblh = row['date_dblhead']\n",
    "        try:\n",
    "            implied_prob_h[ind] = df_odds_dict[home_team][season].loc[date_dblh,'prob_implied']\n",
    "            over_under[ind] = df_odds_dict[home_team][season].loc[date_dblh,'Total']\n",
    "            ou_result[ind] = df_odds_dict[home_team][season].loc[date_dblh,'OU']\n",
    "        except KeyError:\n",
    "            print(f'Game not found wrt home_team:{home_team} vs {visit_team} date_dbl {date_dblh}')\n",
    "        try:\n",
    "            implied_prob_v[ind] = df_odds_dict[visit_team][season].loc[date_dblh,'prob_implied']\n",
    "        except KeyError:\n",
    "            print(f'Game not found wrt visit_team:{visit_team} vs {home_team} date_dbl {date_dblh}')"
   ]
  },
  {
   "cell_type": "code",
   "execution_count": null,
   "metadata": {},
   "outputs": [],
   "source": [
    "df['implied_prob_h'] = implied_prob_h\n",
    "df['implied_prob_v'] = implied_prob_v\n",
    "df['implied_prob_h_mid'] = (implied_prob_h + (1-implied_prob_v))/2\n",
    "df['over_under_line']=over_under\n",
    "df['over_under_result']=ou_result"
   ]
  },
  {
   "attachments": {},
   "cell_type": "markdown",
   "metadata": {},
   "source": [
    "Drop games with no odds..."
   ]
  },
  {
   "cell_type": "code",
   "execution_count": null,
   "metadata": {},
   "outputs": [],
   "source": [
    "df[(df.season>=2019) & (df.implied_prob_h==0)]"
   ]
  },
  {
   "cell_type": "code",
   "execution_count": null,
   "metadata": {},
   "outputs": [],
   "source": [
    "indicies_to_drop = df[(df.season>=2019) & (df.implied_prob_h==0)].index\n",
    "indicies_to_drop"
   ]
  },
  {
   "cell_type": "code",
   "execution_count": null,
   "metadata": {},
   "outputs": [],
   "source": [
    "df.shape"
   ]
  },
  {
   "cell_type": "code",
   "execution_count": null,
   "metadata": {},
   "outputs": [],
   "source": [
    "df.drop(indicies_to_drop, inplace=True)\n",
    "df.shape"
   ]
  },
  {
   "cell_type": "code",
   "execution_count": null,
   "metadata": {},
   "outputs": [],
   "source": [
    "df.reset_index(inplace=True, drop=True)\n",
    "df.shape"
   ]
  },
  {
   "cell_type": "code",
   "execution_count": null,
   "metadata": {},
   "outputs": [],
   "source": [
    "df.to_csv('df_bp3.csv', index=False)"
   ]
  }
 ],
 "metadata": {
  "kernelspec": {
   "display_name": "Python 3",
   "language": "python",
   "name": "python3"
  },
  "language_info": {
   "codemirror_mode": {
    "name": "ipython",
    "version": 3
   },
   "file_extension": ".py",
   "mimetype": "text/x-python",
   "name": "python",
   "nbconvert_exporter": "python",
   "pygments_lexer": "ipython3",
   "version": "3.9.6"
  },
  "orig_nbformat": 4
 },
 "nbformat": 4,
 "nbformat_minor": 2
}
