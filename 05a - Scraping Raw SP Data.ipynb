{
 "cells": [
  {
   "attachments": {},
   "cell_type": "markdown",
   "metadata": {},
   "source": [
    "Baseball Prediction: 5a - Getting (Raw) Individual Pitcher Data\n",
    "\n",
    "    - In the previous notebook, we compared our simple, hitting-only model to the Las Vegas odds. We concluded that incorporating the starting pitcher information would be a crucial next step to improve our model.\n",
    "\n",
    "    - In this notebook we will learn how to scrape individual, game-level, pitching data from retrosheet. We will write a loop to go through and download the data. This will enable us to augment our game-level dataframe with features derived from the previous performance of the starting pitcher.\n",
    "\n",
    "    - Let's start by going to retrosheet and finding the stats for CC Sabathia (one of my favorite pitchers from my childhood).\n",
    "\n",
    "www.retrosheet.org"
   ]
  },
  {
   "cell_type": "code",
   "execution_count": 21,
   "metadata": {},
   "outputs": [],
   "source": [
    "import os\n",
    "import numpy as np\n",
    "import pandas as pd\n",
    "import matplotlib.pyplot as plt\n",
    "%matplotlib inline\n",
    "\n",
    "pd.set_option('display.max_columns',1000)\n",
    "pd.set_option('display.max_rows',1000)\n",
    "\n",
    "import lxml\n",
    "import html5lib\n",
    "from urllib.request import urlopen\n",
    "import time\n",
    "\n",
    "from bs4 import BeautifulSoup\n",
    "import requests"
   ]
  },
  {
   "cell_type": "code",
   "execution_count": 22,
   "metadata": {},
   "outputs": [],
   "source": [
    "url = 'https://www.retrosheet.org/boxesetc/2007/Ksabac0010072007.htm'\n",
    "page = requests.get(url)"
   ]
  },
  {
   "cell_type": "code",
   "execution_count": 23,
   "metadata": {},
   "outputs": [
    {
     "data": {
      "text/plain": [
       "<!DOCTYPE HTML PUBLIC \"-//W3C//DTD HTML 4.0//EN\" \"https://www.w3.org/TR/REC-html40/strict.dtd\">\n",
       "\n",
       "<html dir=\"LTR\" lang=\"EN\">\n",
       "<pre><a href=\"../MISC/Kdescr.htm\">Read Me</a></pre>\n",
       "<head>\n",
       "<title>The 2007 CLE A Regular Season Pitching Log for CC Sabathia</title>\n",
       "<link href=\"https://www.retrosheet.org/menubar/menubar.css\" rel=\"stylesheet\" type=\"text/css\"/>\n",
       "<script src=\"https://www.retrosheet.org/menubar/menubar.js\" type=\"text/javascript\"></script>\n",
       "</head>\n",
       "<body>\n",
       "<p class=\"nopad\"><a href=\"https://www.retrosheet.org\"><img alt=\"Retrosheet\" class=\"bancenter\" height=\"46\" src=\"https://www.retrosheet.org/menubar/retro-logo.gif\" width=\"400\"/></a></p>\n",
       "<div class=\"mbcenter\">\n",
       "<ul class=\"nav\">\n",
       "<li><a href=\"https://www.retrosheet.org/\">Home</a>\n",
       "<li><a href=\"https://www.retrosheet.org/searches/search.html\">Search</a></li>\n",
       "<li><a href=\"#\">Games/People/Parks ↓</a>\n",
       "<ul>\n",
       "<li><a href=\"#\">People →</a>\n",
       "<ul>\n",
       "<li><a href=\"https://www.retrosheet.org/boxesetc/index.html#Players\">Players</a>\n",
       "<li><a href=\"https://www.retrosheet.org/boxesetc/index.html#Managers\">Managers</a>\n",
       "<li><a href=\"https://www.retrosheet.org/boxesetc/index.html#Coaches\">Coaches</a>\n",
       "<li><a href=\"https://www.retrosheet.org/boxesetc/index.html#Umpires\">Umpires</a>\n",
       "<li><a href=\"https://www.retrosheet.org/transactions/index.html\">Transactions</a>\n",
       "</li></li></li></li></li></ul>\n",
       "<li><a href=\"#\">Games →</a>\n",
       "<ul>\n",
       "<li><a href=\"https://www.retrosheet.org/boxesetc/index.html\">Regular season</a>\n",
       "<li><a href=\"https://www.retrosheet.org/Playoff%20Games.htm\">Tiebreaker playoffs</a>\n",
       "<li><a href=\"https://www.retrosheet.org/boxesetc/MISC/masterPS.htm\">Post-season</a>\n",
       "<li><a href=\"https://www.retrosheet.org/boxesetc/MISC/masterAS.htm\">All-Star games</a>\n",
       "</li></li></li></li></ul>\n",
       "<li><a href=\"#\">Places →</a>\n",
       "<ul>\n",
       "<li><a href=\"https://www.retrosheet.org/boxesetc/MISC/FRDIR.htm\">Franchises</a>\n",
       "<li><a href=\"https://www.retrosheet.org/boxesetc/MISC/PKDIR.htm\">Ballparks</a>\n",
       "<li><a href=\"https://www.retrosheet.org/boxesetc/MISC/PNDIR.htm\">Birth and death</a>\n",
       "</li></li></li></ul>\n",
       "<li><a href=\"#\">Achievements →</a>\n",
       "<ul>\n",
       "<li><a href=\"https://www.retrosheet.org/boxesetc/MISC/XOH.htm\">Awards</a>\n",
       "<li><a href=\"https://www.retrosheet.org/boxesetc/index.html#TopPerf\">Top performances</a>\n",
       "<li><a href=\"https://www.retrosheet.org/outstand.htm\">No-hitters &amp; cycles</a>\n",
       "<li><a href=\"https://www.retrosheet.org/milestones.htm\">Milestones</a>\n",
       "</li></li></li></li></ul>\n",
       "</li></li></li></li></ul>\n",
       "<li><a href=\"#\">Negro Leagues ↓</a>\n",
       "<ul>\n",
       "<li><a href=\"https://www.retrosheet.org/NegroLeagues/NegroLeagues.html\">Overview</a>\n",
       "<li><a href=\"https://www.retrosheet.org/NegroLeagues/seasons.html\">Seasons</a>\n",
       "<li><a href=\"https://www.retrosheet.org/NegroLeagues/people.html\">People</a>\n",
       "<li><a href=\"https://www.retrosheet.org/NegroLeagues/ballparks.html\">Places</a>\n",
       "<li><a href=\"https://www.retrosheet.org/NegroLeagues/notables.html\">Notable Games</a>\n",
       "<li><a href=\"https://www.retrosheet.org/NegroLeagues/downloads.html\">Downloads</a>\n",
       "</li></li></li></li></li></li></ul>\n",
       "<li><a href=\"#\">Data downloads ↓</a>\n",
       "<ul>\n",
       "<li><a href=\"https://www.retrosheet.org/game.htm\">Play-by-play files</a>\n",
       "<li><a href=\"https://www.retrosheet.org/gamelogs/index.html\">Game logs</a>\n",
       "<li><a href=\"https://www.retrosheet.org/schedule/index.html\">Schedules</a>\n",
       "<li><a href=\"https://www.retrosheet.org/eject.htm\">Ejections</a>\n",
       "<li><a href=\"https://www.retrosheet.org/biofile.htm\">Biographical Data</a>\n",
       "<li><a href=\"https://www.retrosheet.org/downloads/alldata.zip\">Everything (242 Mb zip)</a></li>\n",
       "</li></li></li></li></li></ul>\n",
       "<li><a href=\"#\">Features ↓</a>\n",
       "<ul>\n",
       "<li><a href=\"https://www.retrosheet.org/lists.htm\">Noteworthy events</a>\n",
       "<li><a href=\"https://www.retrosheet.org/specfeat.htm\">Special features</a>\n",
       "<li><a href=\"https://www.retrosheet.org/wanted/index.html\">Most wanted</a>\n",
       "</li></li></li></ul>\n",
       "<li><a href=\"#\">Using Retro Data ↓</a>\n",
       "<ul>\n",
       "<li><a href=\"https://www.retrosheet.org/resources/resources.html\">Overview</a>\n",
       "<li><a href=\"https://www.retrosheet.org/resources/resources1.html\">Data Resources</a>\n",
       "<li><a href=\"https://www.retrosheet.org/resources/resources2.html\">Data Users</a>\n",
       "<li><a href=\"https://www.retrosheet.org/Research/Research.htm\">Research papers</a>\n",
       "</li></li></li></li></ul>\n",
       "</li></li></li></li></li></li></ul>\n",
       "</div>\n",
       "<br class=\"clearboth\"/>\n",
       "<h2>The 2007 CLE A Regular Season Pitching Log for CC Sabathia</h2>\n",
       "<pre><a href=\"../S/Psabac001.htm\">Player</a> </pre><pre><a href=\"../2007/Lsabac0010072007.htm\">Splits</a> </pre><pre><a href=\"../2006/Ksabac0010062006.htm\">PREV</a> <a href=\"../2008/Ksabac0010082008.htm\">NEXT</a> </pre><pre>   Date    #         Opponent  GS  CG SHO  GF  SV  IP     H  BFP  HR   R  ER  BB  IB  SO  SH  SF  WP HBP  BK  2B  3B GDP ROE   W   L    ERA\n",
       "<a href=\"../2007/04022007.htm\"> 4- 2-2007</a>   <a href=\"../2007/B04020CHA2007.htm\">BOX+PBP</a> AT CHI A   1   0   0   0   0   6     8   26   2   3   3   1   0   2   0   0   0   0   0   1   0   1   0   1   0   4.50\n",
       "<a href=\"../2007/04102007.htm\"> 4-10-2007</a>   <a href=\"../2007/B04100CLE2007.htm\">BOX+PBP</a> VS ANA A   1   0   0   0   0   7    10   31   0   3   1   2   0   7   0   0   0   0   0   1   0   2   0   1   0   2.77\n",
       "<a href=\"../2007/04152007.htm\"> 4-15-2007</a>   <a href=\"../2007/B04150CLE2007.htm\">BOX+PBP</a> VS CHI A   1   0   0   0   0   8     5   32   0   1   1   3   0  10   1   0   0   0   0   0   0   0   0   1   0   2.14\n",
       "<a href=\"../2007/04202007.htm\"> 4-20-2007</a>   <a href=\"../2007/B04200TBA2007.htm\">BOX+PBP</a> AT TB  A   1   0   0   0   0   7     7   27   1   3   2   1   0   8   0   0   0   1   0   3   0   1   0   0   0   2.25\n",
       "<a href=\"../2007/04252007.htm\"> 4-25-2007</a>   <a href=\"../2007/B04250CLE2007.htm\">BOX+PBP</a> VS TEX A   1   0   0   0   0   6     7   25   1   5   5   1   0   8   0   0   0   0   0   1   0   1   0   0   0   3.18\n",
       "<a href=\"../2007/05012007.htm\"> 5- 1-2007</a>   <a href=\"../2007/B05010CLE2007.htm\">BOX+PBP</a> VS TOR A   1   0   0   0   0   6     4   22   3   3   3   0   0   9   0   0   0   0   0   0   0   0   0   1   0   3.38\n",
       "<a href=\"../2007/05062007.htm\"> 5- 6-2007</a>   <a href=\"../2007/B05060BAL2007.htm\">BOX+PBP</a> AT BAL A   1   0   0   0   0   7     9   30   0   3   3   1   0   9   0   0   0   0   0   2   0   0   0   1   0   3.45\n",
       "<a href=\"../2007/05112007.htm\"> 5-11-2007</a>   <a href=\"../2007/B05110OAK2007.htm\">BOX+PBP</a> AT OAK A   1   0   0   0   0   6.2   9   29   2   6   6   1   0   5   0   0   0   0   0   3   0   0   0   0   1   4.02\n",
       "<a href=\"../2007/05162007.htm\"> 5-16-2007</a>   <a href=\"../2007/B05160CLE2007.htm\">BOX+PBP</a> VS MIN A   1   0   0   0   0   8     5   30   0   1   1   1   0   5   0   0   0   1   0   1   0   0   0   1   0   3.65\n",
       "<a href=\"../2007/05212007.htm\"> 5-21-2007</a>   <a href=\"../2007/B05210CLE2007.htm\">BOX+PBP</a> VS SEA A   1   0   0   0   0   5     8   22   0   1   1   1   0   4   0   0   0   1   0   2   0   0   0   0   0   3.51\n",
       "<a href=\"../2007/05262007.htm\"> 5-26-2007</a>   <a href=\"../2007/B05260DET2007.htm\">BOX+PBP</a> AT DET A   1   0   0   0   0   7     6   29   1   3   3   1   0   6   0   1   0   0   0   3   0   1   2   1   0   3.54\n",
       "<a href=\"../2007/05312007.htm\"> 5-31-2007</a>   <a href=\"../2007/B05310CLE2007.htm\">BOX+PBP</a> VS DET A   1   0   0   0   0   7.1  10   32   1   5   5   1   0   2   0   0   0   0   0   3   0   1   0   1   0   3.78\n",
       "<a href=\"../2007/06052007.htm\"> 6- 5-2007</a>   <a href=\"../2007/B06050CLE2007.htm\">BOX+PBP</a> VS KC  A   1   1   1   0   0   9     5   30   0   0   0   0   0   8   0   0   0   0   0   0   0   0   0   1   0   3.40\n",
       "<a href=\"../2007/06102007.htm\"> 6-10-2007</a>   <a href=\"../2007/B06100CIN2007.htm\">BOX+PBP</a> AT CIN N   1   0   0   0   0   9     3   30   0   0   0   1   0   6   1   0   0   0   0   1   0   1   0   0   0   3.09\n",
       "<a href=\"../2007/06152007.htm\"> 6-15-2007</a>   <a href=\"../2007/B06150CLE2007.htm\">BOX+PBP</a> VS ATL N   1   0   0   0   0   8.1  12   37   0   5   4   1   0   7   1   1   0   0   0   2   0   1   1   0   1   3.19\n",
       "<a href=\"../2007/06202007.htm\"> 6-20-2007</a>   <a href=\"../2007/B06200CLE2007.htm\">BOX+PBP</a> VS PHI N   1   0   0   0   0   6     5   24   1   4   4   1   0   4   0   0   0   0   0   2   0   0   0   1   0   3.34\n",
       "<a href=\"../2007/06252007.htm\"> 6-25-2007</a>   <a href=\"../2007/B06250CLE2007.htm\">BOX+PBP</a> VS OAK A   1   1   0   0   0   9     9   35   0   2   2   0   0   8   0   0   0   1   0   2   0   3   1   1   0   3.24\n",
       "<a href=\"../2007/06302007.htm\"> 6-30-2007</a>   <a href=\"../2007/B06300CLE2007.htm\">BOX+PBP</a> VS TB  A   1   0   0   0   0   7     6   27   0   3   2   0   0   8   0   1   0   0   0   1   0   0   0   1   0   3.20\n",
       "<a href=\"../2007/07052007.htm\"> 7- 5-2007</a>   <a href=\"../2007/B07050DET2007.htm\">BOX+PBP</a> AT DET A   1   0   0   0   0   4    10   23   3   7   7   1   0   3   1   1   0   0   0   3   0   0   0   0   1   3.58\n",
       "<a href=\"../2007/07142007.htm\"> 7-14-2007</a>   <a href=\"../2007/B07140CLE2007.htm\">BOX+PBP</a> VS KC  A   1   0   0   0   0   7    11   34   1   6   6   2   0   6   0   0   0   0   0   4   0   0   1   0   1   3.78\n",
       "   Date    #         Opponent  GS  CG SHO  GF  SV  IP     H  BFP  HR   R  ER  BB  IB  SO  SH  SF  WP HBP  BK  2B  3B GDP ROE   W   L    ERA\n",
       "<a href=\"../2007/07192007.htm\"> 7-19-2007</a>   <a href=\"../2007/B07190TEX2007.htm\">BOX+PBP</a> AT TEX A   1   0   0   0   0   6     9   27   1   4   3   1   0   2   0   1   0   0   0   2   0   1   0   1   0   3.81\n",
       "<a href=\"../2007/07242007.htm\"> 7-24-2007</a>   <a href=\"../2007/B07240CLE2007.htm\">BOX+PBP</a> VS BOS A   1   0   0   0   0   7     5   26   0   1   1   0   0   7   0   0   0   0   0   0   0   0   0   0   1   3.70\n",
       "<a href=\"../2007/07292007.htm\"> 7-29-2007</a>   <a href=\"../2007/B07290CLE2007.htm\">BOX+PBP</a> VS MIN A   1   0   0   0   0   7.2   6   31   0   3   1   0   0  11   0   0   0   1   0   4   0   0   1   0   1   3.58\n",
       "<a href=\"../2007/08032007.htm\"> 8- 3-2007</a>   <a href=\"../2007/B08030MIN2007.htm\">BOX+PBP</a> AT MIN A   1   0   0   0   0   6     8   26   0   2   2   2   1   3   0   0   1   0   0   2   0   1   0   1   0   3.56\n",
       "<a href=\"../2007/08082007.htm\"> 8- 8-2007</a>   <a href=\"../2007/B08080CHA2007.htm\">BOX+PBP</a> AT CHI A   1   0   0   0   0   7     6   29   0   2   2   3   0   6   0   0   0   0   0   4   1   0   0   0   0   3.52\n",
       "<a href=\"../2007/08142007.htm\"> 8-14-2007</a>   <a href=\"../2007/B08140CLE2007.htm\">BOX+PBP</a> VS DET A   1   0   0   0   0   7     7   29   0   2   2   1   0   8   0   0   0   0   0   3   0   0   0   0   0   3.48\n",
       "<a href=\"../2007/08192007.htm\"> 8-19-2007</a>   <a href=\"../2007/B08190TBA2007.htm\">BOX+PBP</a> AT TB  A   1   0   0   0   0   8     5   29   2   2   2   0   0   6   0   0   0   0   0   1   0   0   0   0   0   3.43\n",
       "<a href=\"../2007/08242007.htm\"> 8-24-2007</a>   <a href=\"../2007/B08240KCA2007.htm\">BOX+PBP</a> AT KC  A   1   1   0   0   0   8     5   32   0   2   2   2   0   6   1   1   0   1   0   2   0   0   0   0   1   3.38\n",
       "<a href=\"../2007/08292007.htm\"> 8-29-2007</a>   <a href=\"../2007/B08290CLE2007.htm\">BOX+PBP</a> VS MIN A   1   0   0   0   0   6     7   27   0   2   2   2   0   2   0   0   0   2   0   2   0   2   0   1   0   3.37\n",
       "<a href=\"../2007/09032007.htm\"> 9- 3-2007</a>   <a href=\"../2007/B09030MIN2007.htm\">BOX+PBP</a> AT MIN A   1   0   0   0   0   8     6   30   0   0   0   1   0   6   0   0   0   0   0   1   0   1   0   1   0   3.24\n",
       "<a href=\"../2007/09082007.htm\"> 9- 8-2007</a>   <a href=\"../2007/B09080ANA2007.htm\">BOX+PBP</a> AT ANA A   1   1   0   0   0   9     5   30   0   1   1   1   0   3   0   0   0   0   0   0   0   4   1   1   0   3.15\n",
       "<a href=\"../2007/09142007.htm\"> 9-14-2007</a>   <a href=\"../2007/B09140CLE2007.htm\">BOX+PBP</a> VS KC  A   1   0   0   0   0   7     7   29   0   4   4   2   0  13   1   0   0   0   0   1   0   0   0   0   0   3.21\n",
       "<a href=\"../2007/09192007.htm\"> 9-19-2007</a>   <a href=\"../2007/B09190CLE2007.htm\">BOX+PBP</a> VS DET A   1   0   0   0   0   7     5   27   0   2   2   1   0   7   0   0   0   0   0   2   0   0   0   1   0   3.19\n",
       "<a href=\"../2007/09282007.htm\"> 9-28-2007</a>   <a href=\"../2007/B09280KCA2007.htm\">BOX+PBP</a> AT KC  A   1   0   0   0   0   7     8   28   1   3   3   1   0   4   0   0   0   0   0   1   0   2   0   1   0   3.21\n",
       "</pre>\n",
       "<pre><a href=\"../2006/Ksabac0010062006.htm\">PREV</a> <a href=\"../2008/Ksabac0010082008.htm\">NEXT</a> </pre><pre><a href=\"../MISC/Kdescr.htm\">Read Me</a></pre>\n",
       "</body></html>"
      ]
     },
     "execution_count": 23,
     "metadata": {},
     "output_type": "execute_result"
    }
   ],
   "source": [
    "soup = BeautifulSoup(page.content, 'html.parser')\n",
    "soup"
   ]
  },
  {
   "cell_type": "code",
   "execution_count": 24,
   "metadata": {},
   "outputs": [],
   "source": [
    "#soup1 = list(soup.children)[-1]\n",
    "#soup1"
   ]
  },
  {
   "cell_type": "code",
   "execution_count": 25,
   "metadata": {},
   "outputs": [],
   "source": [
    "#soup2 = list(soup1.children)[-1]\n",
    "#soup2"
   ]
  },
  {
   "cell_type": "code",
   "execution_count": 26,
   "metadata": {},
   "outputs": [],
   "source": [
    "#soup3 = list(soup2.children)\n",
    "#soup3"
   ]
  },
  {
   "cell_type": "code",
   "execution_count": 27,
   "metadata": {},
   "outputs": [],
   "source": [
    "#index_num = np.where([\"Opponent\" in str(x) for x in soup3])[0][0]\n",
    "#index_num"
   ]
  },
  {
   "cell_type": "code",
   "execution_count": 28,
   "metadata": {},
   "outputs": [],
   "source": [
    "#soup4 = soup3[index_num]\n",
    "#soup4"
   ]
  },
  {
   "cell_type": "code",
   "execution_count": 29,
   "metadata": {},
   "outputs": [],
   "source": [
    "#soup5 = list(soup4.children)\n",
    "#soup5"
   ]
  },
  {
   "cell_type": "code",
   "execution_count": 30,
   "metadata": {},
   "outputs": [],
   "source": [
    "#for i in range(12):\n",
    " #   print(soup5[i].get_text().split())"
   ]
  },
  {
   "cell_type": "code",
   "execution_count": 31,
   "metadata": {},
   "outputs": [],
   "source": [
    "## Given the url that refers to a specific pitcher and season\n",
    "## we scrape the data and process it a bit\n",
    "\n",
    "def get_season_pitching_data(url):    \n",
    "    time.sleep(1)\n",
    "    page = requests.get(url)\n",
    "    soup = BeautifulSoup(page.content, 'html.parser')\n",
    "    html=list(soup.children)[-1]\n",
    "    body = list(html.children)[-1]\n",
    "    sec_next = list(body.children)\n",
    "    secnum = np.where([\"Opponent\" in str(x) for x in sec_next])[0][0]\n",
    "    key_section = sec_next[secnum]\n",
    "    working_part = list(key_section.children)\n",
    "    p_header = working_part[0].strip().split()\n",
    "    mod_header= ['at_vs','Opponent','League', 'GS', 'CG', 'SHO', 'GF', 'SV', 'IP', 'H',\n",
    "            'BFP', 'HR', 'R', 'ER', 'BB', 'IB', 'SO', 'SH', 'SF', 'WP', 'HBP',\n",
    "            'BK', '2B', '3B', 'GDP', 'ROE', 'W', 'L', 'ERA']\n",
    "\n",
    "    date_list = []\n",
    "    day_href_list = []\n",
    "    for k in range(1,len(working_part),4):\n",
    "        date_list.append(working_part[k].get_text().strip())\n",
    "        day_href_list.append(working_part[k].attrs['href'])\n",
    "\n",
    "    dblhead_num_list = []\n",
    "    for k in range(2,len(working_part),4):\n",
    "        dblhead_num_list.append(working_part[k].strip())\n",
    "\n",
    "    game_href_list = []\n",
    "    for k in range(3,len(working_part),4):\n",
    "        game_href_list.append(working_part[k].attrs['href'])\n",
    "\n",
    "    main_data_matrix = []\n",
    "    for k in range(4,len(working_part),4):\n",
    "        main_data_row = (working_part[k].strip().split())[:29]\n",
    "        main_data_matrix.append(main_data_row)\n",
    "\n",
    "    out_df = pd.DataFrame(main_data_matrix, columns = mod_header)\n",
    "    out_df['date'] = date_list\n",
    "    out_df['dblhead_num'] = dblhead_num_list\n",
    "    return(out_df)"
   ]
  },
  {
   "cell_type": "code",
   "execution_count": 32,
   "metadata": {},
   "outputs": [],
   "source": [
    "#url = 'https://www.retrosheet.org/boxesetc/S/Psabac001.htm'\n",
    "#page = requests.get(url)\n",
    "#sup = BeautifulSoup(page.content, 'html.parser')\n",
    "#sup"
   ]
  },
  {
   "cell_type": "code",
   "execution_count": 33,
   "metadata": {},
   "outputs": [],
   "source": [
    "#sup2 = list(sup.children)[2]\n",
    "#sup2"
   ]
  },
  {
   "cell_type": "code",
   "execution_count": 34,
   "metadata": {},
   "outputs": [],
   "source": [
    "#sup3 = list(sup2.children)[5]\n",
    "#sup3"
   ]
  },
  {
   "cell_type": "code",
   "execution_count": 35,
   "metadata": {},
   "outputs": [],
   "source": [
    "# Plan - find the <pre> tag that starts with 'Pitching Record' (after stripping whitespace)\n",
    "# Get the href attribute for all the <a> tags with the word \"Daily\"\n",
    "\n",
    "#pre_tags = [x for x in sup3.find_all('pre')]\n",
    "#pre_tag_text = [x.get_text().strip() for x in pre_tags]\n",
    "#pre_tag_text"
   ]
  },
  {
   "cell_type": "code",
   "execution_count": 36,
   "metadata": {},
   "outputs": [],
   "source": [
    "#np.where([x.startswith('Pitching Record') for x in pre_tag_text])[0][0]"
   ]
  },
  {
   "cell_type": "code",
   "execution_count": 37,
   "metadata": {},
   "outputs": [],
   "source": [
    "#ind = np.where([x.startswith('Pitching Record') for x in pre_tag_text])[0][0]\n",
    "#a_tags = pre_tags[ind].find_all('a')\n",
    "#a_tags"
   ]
  },
  {
   "cell_type": "code",
   "execution_count": 38,
   "metadata": {},
   "outputs": [],
   "source": [
    "#links = [x.attrs['href'] for x in a_tags if x.get_text()=='Daily']\n",
    "#links"
   ]
  },
  {
   "cell_type": "code",
   "execution_count": 39,
   "metadata": {},
   "outputs": [],
   "source": [
    "### Get the links to the pitcher-season tables given the pitcher id\n",
    "\n",
    "def get_daily_season_links(pitcher_id):\n",
    "    letter = pitcher_id.upper()[0]\n",
    "    url_prefix = 'https://www.retrosheet.org/boxesetc/'\n",
    "    url = url_prefix+letter+'/P'+pitcher_id+'.htm'\n",
    "    time.sleep(1)\n",
    "    page = requests.get(url)\n",
    "    soup = BeautifulSoup(page.content, 'html.parser')\n",
    "    html=list(soup.children)\n",
    "    body = list(html[2].children)[5]\n",
    "    pre_texts = [x for x in body.find_all('pre')]\n",
    "    secnum = np.where([x.get_text().strip().startswith('Pitching Record') for x in pre_texts])[0][0]\n",
    "    a_pre_texts = pre_texts[secnum].find_all('a')\n",
    "    daily_season_links = [url_prefix+x.attrs['href'][3:] for x in a_pre_texts if x.get_text()=='Daily']\n",
    "    return(daily_season_links)"
   ]
  },
  {
   "cell_type": "code",
   "execution_count": 40,
   "metadata": {},
   "outputs": [],
   "source": [
    "# Selects one of the links and displays season data\n",
    "\n",
    "#get_season_pitching_data(get_daily_season_links('sabac001')[4])"
   ]
  },
  {
   "cell_type": "code",
   "execution_count": 41,
   "metadata": {},
   "outputs": [],
   "source": [
    "# Get all the data for a particular pitcher\n",
    "def get_full_pitching_data(pitcher_id):\n",
    "    link_list = get_daily_season_links(pitcher_id)\n",
    "    df_pitching = pd.DataFrame()\n",
    "    for url in link_list:\n",
    "        df_pitching = pd.concat((df_pitching, get_season_pitching_data(url)))\n",
    "    return(df_pitching)"
   ]
  },
  {
   "cell_type": "code",
   "execution_count": 42,
   "metadata": {},
   "outputs": [],
   "source": [
    "def append_2023_data(pitcher_id):\n",
    "    # Get the last link from get_daily_season_links\n",
    "    last_link = get_daily_season_links(pitcher_id)[-1]\n",
    "    \n",
    "    # Print the last link to check its format\n",
    "    #print(\"Last Link:\", last_link)\n",
    "    \n",
    "    # Check if the last link contains '2023'\n",
    "    if '2023' in last_link:\n",
    "        print(\"Found data for 2023.\")\n",
    "        \n",
    "        # Load the CSV file for the pitcher ID\n",
    "        filename = f'/Volumes/CharmedXi/beatVegas/SP_data/pitching_data_{pitcher_id}.csv'\n",
    "        \n",
    "        # Check if the CSV file already contains 2023 data\n",
    "        if os.path.isfile(filename):\n",
    "            df = pd.read_csv(filename)\n",
    "            if '2023' in df['date'].values:\n",
    "                print('2023 data already in file... Skipping...')\n",
    "                return\n",
    "        \n",
    "        # Fetch data from the last link\n",
    "        new_data = get_season_pitching_data(last_link)\n",
    "        \n",
    "        # Append data from the last link to the DataFrame\n",
    "        if os.path.isfile(filename):\n",
    "            df = pd.concat([df, new_data], ignore_index=True)\n",
    "        else:\n",
    "            df = new_data\n",
    "        \n",
    "        # Save the updated DataFrame back to the CSV file\n",
    "        df.to_csv(filename, index=False)\n",
    "        print(f'Data appended and saved successfully for pitcher ID {pitcher_id}.')\n",
    "    else:\n",
    "        print(f'No pitching data found for {pitcher_id} in 2023.')\n"
   ]
  },
  {
   "cell_type": "code",
   "execution_count": 43,
   "metadata": {},
   "outputs": [],
   "source": [
    "cc_data = get_full_pitching_data('sabac001')"
   ]
  },
  {
   "cell_type": "code",
   "execution_count": 44,
   "metadata": {},
   "outputs": [
    {
     "name": "stdout",
     "output_type": "stream",
     "text": [
      "<class 'pandas.core.frame.DataFrame'>\n",
      "Int64Index: 561 entries, 0 to 22\n",
      "Data columns (total 31 columns):\n",
      " #   Column       Non-Null Count  Dtype \n",
      "---  ------       --------------  ----- \n",
      " 0   at_vs        561 non-null    object\n",
      " 1   Opponent     561 non-null    object\n",
      " 2   League       561 non-null    object\n",
      " 3   GS           561 non-null    object\n",
      " 4   CG           561 non-null    object\n",
      " 5   SHO          561 non-null    object\n",
      " 6   GF           561 non-null    object\n",
      " 7   SV           561 non-null    object\n",
      " 8   IP           561 non-null    object\n",
      " 9   H            561 non-null    object\n",
      " 10  BFP          561 non-null    object\n",
      " 11  HR           561 non-null    object\n",
      " 12  R            561 non-null    object\n",
      " 13  ER           561 non-null    object\n",
      " 14  BB           561 non-null    object\n",
      " 15  IB           561 non-null    object\n",
      " 16  SO           561 non-null    object\n",
      " 17  SH           561 non-null    object\n",
      " 18  SF           561 non-null    object\n",
      " 19  WP           561 non-null    object\n",
      " 20  HBP          561 non-null    object\n",
      " 21  BK           561 non-null    object\n",
      " 22  2B           561 non-null    object\n",
      " 23  3B           561 non-null    object\n",
      " 24  GDP          561 non-null    object\n",
      " 25  ROE          561 non-null    object\n",
      " 26  W            561 non-null    object\n",
      " 27  L            561 non-null    object\n",
      " 28  ERA          561 non-null    object\n",
      " 29  date         561 non-null    object\n",
      " 30  dblhead_num  561 non-null    object\n",
      "dtypes: object(31)\n",
      "memory usage: 140.2+ KB\n"
     ]
    }
   ],
   "source": [
    "cc_data.info()"
   ]
  },
  {
   "cell_type": "code",
   "execution_count": 45,
   "metadata": {},
   "outputs": [
    {
     "data": {
      "text/html": [
       "<div>\n",
       "<style scoped>\n",
       "    .dataframe tbody tr th:only-of-type {\n",
       "        vertical-align: middle;\n",
       "    }\n",
       "\n",
       "    .dataframe tbody tr th {\n",
       "        vertical-align: top;\n",
       "    }\n",
       "\n",
       "    .dataframe thead th {\n",
       "        text-align: right;\n",
       "    }\n",
       "</style>\n",
       "<table border=\"1\" class=\"dataframe\">\n",
       "  <thead>\n",
       "    <tr style=\"text-align: right;\">\n",
       "      <th></th>\n",
       "      <th>at_vs</th>\n",
       "      <th>Opponent</th>\n",
       "      <th>League</th>\n",
       "      <th>GS</th>\n",
       "      <th>CG</th>\n",
       "      <th>SHO</th>\n",
       "      <th>GF</th>\n",
       "      <th>SV</th>\n",
       "      <th>IP</th>\n",
       "      <th>H</th>\n",
       "      <th>BFP</th>\n",
       "      <th>HR</th>\n",
       "      <th>R</th>\n",
       "      <th>ER</th>\n",
       "      <th>BB</th>\n",
       "      <th>IB</th>\n",
       "      <th>SO</th>\n",
       "      <th>SH</th>\n",
       "      <th>SF</th>\n",
       "      <th>WP</th>\n",
       "      <th>HBP</th>\n",
       "      <th>BK</th>\n",
       "      <th>2B</th>\n",
       "      <th>3B</th>\n",
       "      <th>GDP</th>\n",
       "      <th>ROE</th>\n",
       "      <th>W</th>\n",
       "      <th>L</th>\n",
       "      <th>ERA</th>\n",
       "      <th>date</th>\n",
       "      <th>dblhead_num</th>\n",
       "    </tr>\n",
       "  </thead>\n",
       "  <tbody>\n",
       "    <tr>\n",
       "      <th>5</th>\n",
       "      <td>VS</td>\n",
       "      <td>TOR</td>\n",
       "      <td>A</td>\n",
       "      <td>1</td>\n",
       "      <td>0</td>\n",
       "      <td>0</td>\n",
       "      <td>0</td>\n",
       "      <td>0</td>\n",
       "      <td>6</td>\n",
       "      <td>4</td>\n",
       "      <td>22</td>\n",
       "      <td>3</td>\n",
       "      <td>3</td>\n",
       "      <td>3</td>\n",
       "      <td>0</td>\n",
       "      <td>0</td>\n",
       "      <td>9</td>\n",
       "      <td>0</td>\n",
       "      <td>0</td>\n",
       "      <td>0</td>\n",
       "      <td>0</td>\n",
       "      <td>0</td>\n",
       "      <td>0</td>\n",
       "      <td>0</td>\n",
       "      <td>0</td>\n",
       "      <td>0</td>\n",
       "      <td>1</td>\n",
       "      <td>0</td>\n",
       "      <td>3.38</td>\n",
       "      <td>5- 1-2007</td>\n",
       "      <td></td>\n",
       "    </tr>\n",
       "    <tr>\n",
       "      <th>21</th>\n",
       "      <td>VS</td>\n",
       "      <td>TEX</td>\n",
       "      <td>A</td>\n",
       "      <td>1</td>\n",
       "      <td>0</td>\n",
       "      <td>0</td>\n",
       "      <td>0</td>\n",
       "      <td>0</td>\n",
       "      <td>6</td>\n",
       "      <td>1</td>\n",
       "      <td>23</td>\n",
       "      <td>0</td>\n",
       "      <td>0</td>\n",
       "      <td>0</td>\n",
       "      <td>3</td>\n",
       "      <td>0</td>\n",
       "      <td>7</td>\n",
       "      <td>0</td>\n",
       "      <td>0</td>\n",
       "      <td>0</td>\n",
       "      <td>0</td>\n",
       "      <td>0</td>\n",
       "      <td>0</td>\n",
       "      <td>0</td>\n",
       "      <td>1</td>\n",
       "      <td>2</td>\n",
       "      <td>1</td>\n",
       "      <td>0</td>\n",
       "      <td>3.32</td>\n",
       "      <td>8-12-2018</td>\n",
       "      <td></td>\n",
       "    </tr>\n",
       "    <tr>\n",
       "      <th>8</th>\n",
       "      <td>VS</td>\n",
       "      <td>BOS</td>\n",
       "      <td>A</td>\n",
       "      <td>1</td>\n",
       "      <td>0</td>\n",
       "      <td>0</td>\n",
       "      <td>0</td>\n",
       "      <td>0</td>\n",
       "      <td>7</td>\n",
       "      <td>4</td>\n",
       "      <td>27</td>\n",
       "      <td>1</td>\n",
       "      <td>1</td>\n",
       "      <td>1</td>\n",
       "      <td>3</td>\n",
       "      <td>0</td>\n",
       "      <td>5</td>\n",
       "      <td>0</td>\n",
       "      <td>0</td>\n",
       "      <td>0</td>\n",
       "      <td>0</td>\n",
       "      <td>0</td>\n",
       "      <td>0</td>\n",
       "      <td>0</td>\n",
       "      <td>1</td>\n",
       "      <td>0</td>\n",
       "      <td>0</td>\n",
       "      <td>0</td>\n",
       "      <td>3.43</td>\n",
       "      <td>5-18-2010</td>\n",
       "      <td></td>\n",
       "    </tr>\n",
       "    <tr>\n",
       "      <th>1</th>\n",
       "      <td>AT</td>\n",
       "      <td>BAL</td>\n",
       "      <td>A</td>\n",
       "      <td>1</td>\n",
       "      <td>0</td>\n",
       "      <td>0</td>\n",
       "      <td>0</td>\n",
       "      <td>0</td>\n",
       "      <td>6</td>\n",
       "      <td>6</td>\n",
       "      <td>27</td>\n",
       "      <td>0</td>\n",
       "      <td>3</td>\n",
       "      <td>2</td>\n",
       "      <td>4</td>\n",
       "      <td>0</td>\n",
       "      <td>3</td>\n",
       "      <td>0</td>\n",
       "      <td>0</td>\n",
       "      <td>1</td>\n",
       "      <td>0</td>\n",
       "      <td>0</td>\n",
       "      <td>0</td>\n",
       "      <td>0</td>\n",
       "      <td>1</td>\n",
       "      <td>0</td>\n",
       "      <td>0</td>\n",
       "      <td>0</td>\n",
       "      <td>1.64</td>\n",
       "      <td>4- 9-2017</td>\n",
       "      <td></td>\n",
       "    </tr>\n",
       "    <tr>\n",
       "      <th>19</th>\n",
       "      <td>VS</td>\n",
       "      <td>OAK</td>\n",
       "      <td>A</td>\n",
       "      <td>1</td>\n",
       "      <td>0</td>\n",
       "      <td>0</td>\n",
       "      <td>0</td>\n",
       "      <td>0</td>\n",
       "      <td>3</td>\n",
       "      <td>1</td>\n",
       "      <td>12</td>\n",
       "      <td>1</td>\n",
       "      <td>1</td>\n",
       "      <td>1</td>\n",
       "      <td>2</td>\n",
       "      <td>0</td>\n",
       "      <td>2</td>\n",
       "      <td>0</td>\n",
       "      <td>0</td>\n",
       "      <td>0</td>\n",
       "      <td>1</td>\n",
       "      <td>0</td>\n",
       "      <td>0</td>\n",
       "      <td>0</td>\n",
       "      <td>1</td>\n",
       "      <td>0</td>\n",
       "      <td>0</td>\n",
       "      <td>0</td>\n",
       "      <td>4.93</td>\n",
       "      <td>8-30-2019</td>\n",
       "      <td></td>\n",
       "    </tr>\n",
       "  </tbody>\n",
       "</table>\n",
       "</div>"
      ],
      "text/plain": [
       "   at_vs Opponent League GS CG SHO GF SV IP  H BFP HR  R ER BB IB SO SH SF WP  \\\n",
       "5     VS      TOR      A  1  0   0  0  0  6  4  22  3  3  3  0  0  9  0  0  0   \n",
       "21    VS      TEX      A  1  0   0  0  0  6  1  23  0  0  0  3  0  7  0  0  0   \n",
       "8     VS      BOS      A  1  0   0  0  0  7  4  27  1  1  1  3  0  5  0  0  0   \n",
       "1     AT      BAL      A  1  0   0  0  0  6  6  27  0  3  2  4  0  3  0  0  1   \n",
       "19    VS      OAK      A  1  0   0  0  0  3  1  12  1  1  1  2  0  2  0  0  0   \n",
       "\n",
       "   HBP BK 2B 3B GDP ROE  W  L   ERA       date dblhead_num  \n",
       "5    0  0  0  0   0   0  1  0  3.38  5- 1-2007              \n",
       "21   0  0  0  0   1   2  1  0  3.32  8-12-2018              \n",
       "8    0  0  0  0   1   0  0  0  3.43  5-18-2010              \n",
       "1    0  0  0  0   1   0  0  0  1.64  4- 9-2017              \n",
       "19   1  0  0  0   1   0  0  0  4.93  8-30-2019              "
      ]
     },
     "execution_count": 45,
     "metadata": {},
     "output_type": "execute_result"
    }
   ],
   "source": [
    "cc_data.sample(5)"
   ]
  },
  {
   "attachments": {},
   "cell_type": "markdown",
   "metadata": {},
   "source": [
    "LOAD IN GAME LEVEL DATA"
   ]
  },
  {
   "cell_type": "code",
   "execution_count": 46,
   "metadata": {},
   "outputs": [],
   "source": [
    "df = pd.read_csv('df_bp3.csv', low_memory=False)"
   ]
  },
  {
   "cell_type": "code",
   "execution_count": 47,
   "metadata": {},
   "outputs": [
    {
     "data": {
      "text/plain": [
       "(1872, 1895)"
      ]
     },
     "execution_count": 47,
     "metadata": {},
     "output_type": "execute_result"
    }
   ],
   "source": [
    "start_pitchers_h = df.pitcher_start_id_h.unique()\n",
    "start_pitchers_v = df.pitcher_start_id_v.unique()\n",
    "len(start_pitchers_h), len(start_pitchers_v)"
   ]
  },
  {
   "cell_type": "code",
   "execution_count": 48,
   "metadata": {},
   "outputs": [
    {
     "data": {
      "text/plain": [
       "(2047,\n",
       " array(['abadf001', 'abboa001', 'abboc001', 'abbop001', 'aceva001',\n",
       "        'acevj002', 'adama002', 'adamc002', 'adamt001', 'adcon001',\n",
       "        'adenn001', 'adlet001', 'adonj001', 'affej001', 'agrad001',\n",
       "        'ainsk001', 'akink001', 'albea001', 'albem001', 'alcar001',\n",
       "        'alcas001', 'alexa001', 'alexj001', 'alexs001', 'alext001'],\n",
       "       dtype='<U8'))"
      ]
     },
     "execution_count": 48,
     "metadata": {},
     "output_type": "execute_result"
    }
   ],
   "source": [
    "start_pitchers_all = np.union1d(start_pitchers_h.astype(str), start_pitchers_v.astype(str))\n",
    "len(start_pitchers_all), start_pitchers_all[:25]"
   ]
  },
  {
   "cell_type": "code",
   "execution_count": 49,
   "metadata": {},
   "outputs": [
    {
     "data": {
      "text/plain": [
       "'\\nfor p_id in start_pitchers_all:\\n    append_2023_data(p_id)\\n'"
      ]
     },
     "execution_count": 49,
     "metadata": {},
     "output_type": "execute_result"
    }
   ],
   "source": [
    "'''\n",
    "for p_id in start_pitchers_all:\n",
    "    append_2023_data(p_id)\n",
    "'''"
   ]
  },
  {
   "cell_type": "code",
   "execution_count": 50,
   "metadata": {},
   "outputs": [
    {
     "data": {
      "text/plain": [
       "\"\\nfor p_id in start_pitchers_all:\\n    print(p_id)\\n    try:\\n        df_temp = get_full_pitching_data(p_id)\\n    except (AttributeError, AssertionError, ValueError):\\n        pass\\n\\n    fname_out = '/Volumes/CharmedXi/beatVegas/SP_new/pitching_data_'+p_id+'.csv'\\n    df_temp.to_csv(fname_out, index=False)    \\n\""
      ]
     },
     "execution_count": 50,
     "metadata": {},
     "output_type": "execute_result"
    }
   ],
   "source": [
    "# run this for everyone in the list - may take a bit to run... (This is the data I provide for you in SP_Data)\n",
    "'''\n",
    "for p_id in start_pitchers_all:\n",
    "    print(p_id)\n",
    "    try:\n",
    "        df_temp = get_full_pitching_data(p_id)\n",
    "    except (AttributeError, AssertionError, ValueError):\n",
    "        pass\n",
    "\n",
    "    fname_out = '/Volumes/CharmedXi/beatVegas/SP_new/pitching_data_'+p_id+'.csv'\n",
    "    df_temp.to_csv(fname_out, index=False)    \n",
    "'''"
   ]
  },
  {
   "cell_type": "code",
   "execution_count": 51,
   "metadata": {},
   "outputs": [],
   "source": [
    "def count_files(directory):\n",
    "    \"\"\"\n",
    "    Count the number of files in a directory.\n",
    "    \n",
    "    Args:\n",
    "    - directory (str): The path to the directory.\n",
    "    \n",
    "    Returns:\n",
    "    - int: The number of files in the directory.\n",
    "    \"\"\"\n",
    "    # Initialize a counter variable\n",
    "    file_count = 0\n",
    "    \n",
    "    # Iterate through the files in the directory\n",
    "    for file in os.listdir(directory):\n",
    "        # Check if the path is a file\n",
    "        if os.path.isfile(os.path.join(directory, file)):\n",
    "            # Increment the counter\n",
    "            file_count += 1\n",
    "    \n",
    "    return file_count"
   ]
  },
  {
   "cell_type": "code",
   "execution_count": 54,
   "metadata": {},
   "outputs": [
    {
     "name": "stdout",
     "output_type": "stream",
     "text": [
      "Number of files in directory: 2047\n"
     ]
    }
   ],
   "source": [
    "# Example usage:\n",
    "directory_path = '/Volumes/CharmedXi/beatVegas/SP_2000'\n",
    "print(\"Number of files in directory:\", count_files(directory_path))"
   ]
  }
 ],
 "metadata": {
  "kernelspec": {
   "display_name": "Python 3",
   "language": "python",
   "name": "python3"
  },
  "language_info": {
   "codemirror_mode": {
    "name": "ipython",
    "version": 3
   },
   "file_extension": ".py",
   "mimetype": "text/x-python",
   "name": "python",
   "nbconvert_exporter": "python",
   "pygments_lexer": "ipython3",
   "version": "3.9.6"
  },
  "orig_nbformat": 4
 },
 "nbformat": 4,
 "nbformat_minor": 2
}
