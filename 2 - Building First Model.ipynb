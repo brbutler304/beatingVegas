{
 "cells": [
  {
   "attachments": {},
   "cell_type": "markdown",
   "metadata": {},
   "source": [
    "Building a First Model\n",
    "\n",
    "In the last notebook, we loaded in the data from retrosheet and did some processing to get the team level statistics.\n",
    "We saved that data to a file called 'df_bp1.csv'\n",
    "In this notebook, we will load in that data, do some initital data exploration, and then build and evaluate our first predictive model"
   ]
  },
  {
   "cell_type": "code",
   "execution_count": 2,
   "metadata": {},
   "outputs": [],
   "source": [
    "import numpy as np\n",
    "import pandas as pd\n",
    "import matplotlib.pyplot as plt\n",
    "\n",
    "import lightgbm as lgbm\n",
    "import structureboost as stb\n",
    "import ml_insights as mli\n",
    "\n",
    "from structureboost import log_loss\n",
    "pd.set_option('display.max_columns', 1000)\n",
    "pd.set_option('display.max_rows', 1000)"
   ]
  },
  {
   "cell_type": "code",
   "execution_count": 3,
   "metadata": {},
   "outputs": [
    {
     "name": "stderr",
     "output_type": "stream",
     "text": [
      "/var/folders/w8/vvmn7s9x2yzffnkyk6j2j_xc0000gn/T/ipykernel_37817/2649927610.py:1: DtypeWarning: Columns (13,14,15,19,81,83,85,87,99,107,110,113,116,119,122,125,128,131,134,137,140,143,146,149,152,155,158) have mixed types. Specify dtype option on import or set low_memory=False.\n",
      "  df = pd.read_csv('df_bp1.csv')\n"
     ]
    }
   ],
   "source": [
    "df = pd.read_csv('df_bp1.csv')"
   ]
  },
  {
   "attachments": {},
   "cell_type": "markdown",
   "metadata": {},
   "source": [
    "Data Checks/Exploration"
   ]
  },
  {
   "cell_type": "code",
   "execution_count": null,
   "metadata": {},
   "outputs": [],
   "source": [
    "df.info(max_cols=1000)"
   ]
  },
  {
   "cell_type": "code",
   "execution_count": null,
   "metadata": {},
   "outputs": [],
   "source": [
    "df.season.value_counts().sort_index()"
   ]
  },
  {
   "cell_type": "code",
   "execution_count": 9,
   "metadata": {},
   "outputs": [
    {
     "data": {
      "text/plain": [
       "0.5408543584984002"
      ]
     },
     "execution_count": 9,
     "metadata": {},
     "output_type": "execute_result"
    }
   ],
   "source": [
    "hv_mean = df.home_victory.mean()\n",
    "hv_mean"
   ]
  },
  {
   "cell_type": "code",
   "execution_count": null,
   "metadata": {},
   "outputs": [],
   "source": [
    "df.run_diff.value_counts()"
   ]
  },
  {
   "cell_type": "code",
   "execution_count": null,
   "metadata": {},
   "outputs": [],
   "source": [
    "df.outs_total.value_counts()"
   ]
  },
  {
   "cell_type": "code",
   "execution_count": null,
   "metadata": {},
   "outputs": [],
   "source": [
    "df.home_victory[df.outs_total==53].mean()"
   ]
  },
  {
   "cell_type": "code",
   "execution_count": null,
   "metadata": {},
   "outputs": [],
   "source": [
    "df.loc[(df.outs_total==53) & (df.home_victory!=1),:]"
   ]
  },
  {
   "cell_type": "code",
   "execution_count": null,
   "metadata": {},
   "outputs": [],
   "source": [
    "df.game_no_h.value_counts().sort_index()"
   ]
  },
  {
   "cell_type": "code",
   "execution_count": null,
   "metadata": {},
   "outputs": [],
   "source": [
    "df[df.runs_v==df.runs_h]"
   ]
  },
  {
   "attachments": {},
   "cell_type": "markdown",
   "metadata": {},
   "source": [
    "BEGIN MODELING"
   ]
  },
  {
   "cell_type": "code",
   "execution_count": 4,
   "metadata": {},
   "outputs": [],
   "source": [
    "df = df[df.run_diff!=0]\n",
    "df_train = df[(df.season>1901) & (df.season<=2015)]\n",
    "df_valid = df[(df.season>=2016) & (df.season<=2020)]\n",
    "df_test = df[df.season>=2021]"
   ]
  },
  {
   "cell_type": "code",
   "execution_count": 5,
   "metadata": {},
   "outputs": [],
   "source": [
    "features = ['OBP_162_h','OBP_162_v',\n",
    "            'SLG_162_h','SLG_162_v', \n",
    "            # 'OBP_30_h','OBP_30_v',\n",
    "            # 'SLG_30_h','SLG_30_v',\n",
    "            # 'game_no_h',\n",
    "           ]\n",
    "target = 'home_victory'\n",
    "X_train = df_train.loc[:,features]\n",
    "X_valid = df_valid.loc[:,features]\n",
    "X_test = df_test.loc[:,features]\n",
    "\n",
    "y_train = df_train[target].to_numpy()\n",
    "y_valid = df_valid[target].to_numpy()\n",
    "y_test = df_test[target].to_numpy()\n"
   ]
  },
  {
   "cell_type": "code",
   "execution_count": 6,
   "metadata": {},
   "outputs": [
    {
     "data": {
      "text/plain": [
       "((188149, 4), (10615, 4), (4859, 4))"
      ]
     },
     "execution_count": 6,
     "metadata": {},
     "output_type": "execute_result"
    }
   ],
   "source": [
    "X_train.shape, X_valid.shape, X_test.shape, "
   ]
  },
  {
   "cell_type": "code",
   "execution_count": null,
   "metadata": {},
   "outputs": [],
   "source": [
    "plt.hist(X_train.OBP_162_h, np.linspace(.25,.4,151));"
   ]
  },
  {
   "cell_type": "code",
   "execution_count": null,
   "metadata": {},
   "outputs": [],
   "source": [
    "plt.hist(X_train.SLG_162_v, np.linspace(.25,.5,201));"
   ]
  },
  {
   "cell_type": "code",
   "execution_count": 7,
   "metadata": {},
   "outputs": [
    {
     "name": "stdout",
     "output_type": "stream",
     "text": [
      "Training until validation scores don't improve for 50 rounds\n",
      "[10]\tvalid_0's binary_logloss: 0.690165\n",
      "[20]\tvalid_0's binary_logloss: 0.689465\n",
      "[30]\tvalid_0's binary_logloss: 0.688776\n",
      "[40]\tvalid_0's binary_logloss: 0.688155\n",
      "[50]\tvalid_0's binary_logloss: 0.687758\n",
      "[60]\tvalid_0's binary_logloss: 0.68738\n",
      "[70]\tvalid_0's binary_logloss: 0.687123\n",
      "[80]\tvalid_0's binary_logloss: 0.686874\n",
      "[90]\tvalid_0's binary_logloss: 0.686538\n",
      "[100]\tvalid_0's binary_logloss: 0.686386\n",
      "[110]\tvalid_0's binary_logloss: 0.686215\n",
      "[120]\tvalid_0's binary_logloss: 0.686012\n",
      "[130]\tvalid_0's binary_logloss: 0.685846\n",
      "[140]\tvalid_0's binary_logloss: 0.685752\n",
      "[150]\tvalid_0's binary_logloss: 0.685638\n",
      "[160]\tvalid_0's binary_logloss: 0.685541\n",
      "[170]\tvalid_0's binary_logloss: 0.685487\n",
      "[180]\tvalid_0's binary_logloss: 0.685428\n",
      "[190]\tvalid_0's binary_logloss: 0.685351\n",
      "[200]\tvalid_0's binary_logloss: 0.685303\n",
      "[210]\tvalid_0's binary_logloss: 0.685251\n",
      "[220]\tvalid_0's binary_logloss: 0.685213\n",
      "[230]\tvalid_0's binary_logloss: 0.685169\n",
      "[240]\tvalid_0's binary_logloss: 0.685136\n",
      "[250]\tvalid_0's binary_logloss: 0.685094\n",
      "[260]\tvalid_0's binary_logloss: 0.685095\n",
      "[270]\tvalid_0's binary_logloss: 0.685062\n",
      "[280]\tvalid_0's binary_logloss: 0.685044\n",
      "[290]\tvalid_0's binary_logloss: 0.685017\n",
      "[300]\tvalid_0's binary_logloss: 0.685001\n",
      "[310]\tvalid_0's binary_logloss: 0.684988\n",
      "[320]\tvalid_0's binary_logloss: 0.684979\n",
      "[330]\tvalid_0's binary_logloss: 0.68499\n",
      "[340]\tvalid_0's binary_logloss: 0.684981\n",
      "[350]\tvalid_0's binary_logloss: 0.684982\n",
      "[360]\tvalid_0's binary_logloss: 0.684978\n",
      "[370]\tvalid_0's binary_logloss: 0.684968\n",
      "[380]\tvalid_0's binary_logloss: 0.684983\n",
      "[390]\tvalid_0's binary_logloss: 0.684986\n",
      "[400]\tvalid_0's binary_logloss: 0.684993\n",
      "[410]\tvalid_0's binary_logloss: 0.684981\n",
      "[420]\tvalid_0's binary_logloss: 0.684982\n",
      "Early stopping, best iteration is:\n",
      "[370]\tvalid_0's binary_logloss: 0.684968\n"
     ]
    },
    {
     "data": {
      "text/html": [
       "<style>#sk-container-id-1 {color: black;}#sk-container-id-1 pre{padding: 0;}#sk-container-id-1 div.sk-toggleable {background-color: white;}#sk-container-id-1 label.sk-toggleable__label {cursor: pointer;display: block;width: 100%;margin-bottom: 0;padding: 0.3em;box-sizing: border-box;text-align: center;}#sk-container-id-1 label.sk-toggleable__label-arrow:before {content: \"▸\";float: left;margin-right: 0.25em;color: #696969;}#sk-container-id-1 label.sk-toggleable__label-arrow:hover:before {color: black;}#sk-container-id-1 div.sk-estimator:hover label.sk-toggleable__label-arrow:before {color: black;}#sk-container-id-1 div.sk-toggleable__content {max-height: 0;max-width: 0;overflow: hidden;text-align: left;background-color: #f0f8ff;}#sk-container-id-1 div.sk-toggleable__content pre {margin: 0.2em;color: black;border-radius: 0.25em;background-color: #f0f8ff;}#sk-container-id-1 input.sk-toggleable__control:checked~div.sk-toggleable__content {max-height: 200px;max-width: 100%;overflow: auto;}#sk-container-id-1 input.sk-toggleable__control:checked~label.sk-toggleable__label-arrow:before {content: \"▾\";}#sk-container-id-1 div.sk-estimator input.sk-toggleable__control:checked~label.sk-toggleable__label {background-color: #d4ebff;}#sk-container-id-1 div.sk-label input.sk-toggleable__control:checked~label.sk-toggleable__label {background-color: #d4ebff;}#sk-container-id-1 input.sk-hidden--visually {border: 0;clip: rect(1px 1px 1px 1px);clip: rect(1px, 1px, 1px, 1px);height: 1px;margin: -1px;overflow: hidden;padding: 0;position: absolute;width: 1px;}#sk-container-id-1 div.sk-estimator {font-family: monospace;background-color: #f0f8ff;border: 1px dotted black;border-radius: 0.25em;box-sizing: border-box;margin-bottom: 0.5em;}#sk-container-id-1 div.sk-estimator:hover {background-color: #d4ebff;}#sk-container-id-1 div.sk-parallel-item::after {content: \"\";width: 100%;border-bottom: 1px solid gray;flex-grow: 1;}#sk-container-id-1 div.sk-label:hover label.sk-toggleable__label {background-color: #d4ebff;}#sk-container-id-1 div.sk-serial::before {content: \"\";position: absolute;border-left: 1px solid gray;box-sizing: border-box;top: 0;bottom: 0;left: 50%;z-index: 0;}#sk-container-id-1 div.sk-serial {display: flex;flex-direction: column;align-items: center;background-color: white;padding-right: 0.2em;padding-left: 0.2em;position: relative;}#sk-container-id-1 div.sk-item {position: relative;z-index: 1;}#sk-container-id-1 div.sk-parallel {display: flex;align-items: stretch;justify-content: center;background-color: white;position: relative;}#sk-container-id-1 div.sk-item::before, #sk-container-id-1 div.sk-parallel-item::before {content: \"\";position: absolute;border-left: 1px solid gray;box-sizing: border-box;top: 0;bottom: 0;left: 50%;z-index: -1;}#sk-container-id-1 div.sk-parallel-item {display: flex;flex-direction: column;z-index: 1;position: relative;background-color: white;}#sk-container-id-1 div.sk-parallel-item:first-child::after {align-self: flex-end;width: 50%;}#sk-container-id-1 div.sk-parallel-item:last-child::after {align-self: flex-start;width: 50%;}#sk-container-id-1 div.sk-parallel-item:only-child::after {width: 0;}#sk-container-id-1 div.sk-dashed-wrapped {border: 1px dashed gray;margin: 0 0.4em 0.5em 0.4em;box-sizing: border-box;padding-bottom: 0.4em;background-color: white;}#sk-container-id-1 div.sk-label label {font-family: monospace;font-weight: bold;display: inline-block;line-height: 1.2em;}#sk-container-id-1 div.sk-label-container {text-align: center;}#sk-container-id-1 div.sk-container {/* jupyter's `normalize.less` sets `[hidden] { display: none; }` but bootstrap.min.css set `[hidden] { display: none !important; }` so we also need the `!important` here to be able to override the default hidden behavior on the sphinx rendered scikit-learn.org. See: https://github.com/scikit-learn/scikit-learn/issues/21755 */display: inline-block !important;position: relative;}#sk-container-id-1 div.sk-text-repr-fallback {display: none;}</style><div id=\"sk-container-id-1\" class=\"sk-top-container\"><div class=\"sk-text-repr-fallback\"><pre>LGBMClassifier(learning_rate=0.02, max_depth=2, n_estimators=1000)</pre><b>In a Jupyter environment, please rerun this cell to show the HTML representation or trust the notebook. <br />On GitHub, the HTML representation is unable to render, please try loading this page with nbviewer.org.</b></div><div class=\"sk-container\" hidden><div class=\"sk-item\"><div class=\"sk-estimator sk-toggleable\"><input class=\"sk-toggleable__control sk-hidden--visually\" id=\"sk-estimator-id-1\" type=\"checkbox\" checked><label for=\"sk-estimator-id-1\" class=\"sk-toggleable__label sk-toggleable__label-arrow\">LGBMClassifier</label><div class=\"sk-toggleable__content\"><pre>LGBMClassifier(learning_rate=0.02, max_depth=2, n_estimators=1000)</pre></div></div></div></div></div>"
      ],
      "text/plain": [
       "LGBMClassifier(learning_rate=0.02, max_depth=2, n_estimators=1000)"
      ]
     },
     "execution_count": 7,
     "metadata": {},
     "output_type": "execute_result"
    }
   ],
   "source": [
    "lgbm1 = lgbm.LGBMClassifier(n_estimators=1000, learning_rate=.02, max_depth=2)\n",
    "lgbm1.fit(X_train, y_train, eval_set=(X_valid, y_valid), eval_metric='logloss', \n",
    "          callbacks=[lgbm.early_stopping(stopping_rounds=50), lgbm.log_evaluation(10)])"
   ]
  },
  {
   "cell_type": "code",
   "execution_count": 10,
   "metadata": {},
   "outputs": [
    {
     "data": {
      "text/plain": [
       "(0.683490243306594, 0.690580943020142)"
      ]
     },
     "execution_count": 10,
     "metadata": {},
     "output_type": "execute_result"
    }
   ],
   "source": [
    "preds_lgbm = lgbm1.predict_proba(X_test)[:,1]\n",
    "log_loss(y_test, preds_lgbm), log_loss(y_test, hv_mean*np.ones(len(y_test)))"
   ]
  },
  {
   "cell_type": "code",
   "execution_count": null,
   "metadata": {},
   "outputs": [],
   "source": [
    "rd = mli.get_range_dict(X_train)\n",
    "plot_pts = X_test.sample(3, random_state=42)"
   ]
  },
  {
   "cell_type": "code",
   "execution_count": null,
   "metadata": {},
   "outputs": [],
   "source": [
    "mli.ice_plot(lgbm1, plot_pts, X_test.columns, mli.get_range_dict(X_train), plots_per_row=2)"
   ]
  },
  {
   "cell_type": "code",
   "execution_count": null,
   "metadata": {},
   "outputs": [],
   "source": [
    "plt.figure(figsize=(16,6))\n",
    "mli.plot_reliability_diagram(y_test, preds_lgbm, show_histogram=True);"
   ]
  },
  {
   "cell_type": "code",
   "execution_count": null,
   "metadata": {},
   "outputs": [],
   "source": [
    "fc = stb.get_basic_config(X_train, stb.default_config_dict())\n",
    "\n",
    "stb1 = stb.StructureBoost(max_depth=3, learning_rate=.02, feature_configs = fc, num_trees=2000)\n",
    "stb1.fit(X_train, y_train, eval_set=(X_valid, y_valid), early_stop_past_steps=5)"
   ]
  },
  {
   "cell_type": "code",
   "execution_count": null,
   "metadata": {},
   "outputs": [],
   "source": [
    "preds_stb = stb1.predict(X_test)\n",
    "log_loss(y_test, preds_stb), log_loss(y_test, hv_mean*np.ones(len(y_test)))"
   ]
  },
  {
   "cell_type": "code",
   "execution_count": null,
   "metadata": {},
   "outputs": [],
   "source": [
    "plt.figure(figsize=(16,6))\n",
    "mli.plot_reliability_diagram(y_test, preds_stb, show_histogram=True);"
   ]
  },
  {
   "cell_type": "code",
   "execution_count": null,
   "metadata": {},
   "outputs": [],
   "source": [
    "rd= mli.get_range_dict(X_train)\n",
    "mli.ice_plot(stb1, plot_pts, X_test.columns, rd, plots_per_row=2)"
   ]
  }
 ],
 "metadata": {
  "kernelspec": {
   "display_name": "Python 3",
   "language": "python",
   "name": "python3"
  },
  "language_info": {
   "codemirror_mode": {
    "name": "ipython",
    "version": 3
   },
   "file_extension": ".py",
   "mimetype": "text/x-python",
   "name": "python",
   "nbconvert_exporter": "python",
   "pygments_lexer": "ipython3",
   "version": "3.9.6"
  },
  "orig_nbformat": 4
 },
 "nbformat": 4,
 "nbformat_minor": 2
}
