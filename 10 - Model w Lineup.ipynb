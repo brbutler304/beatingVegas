{
 "cells": [
  {
   "attachments": {},
   "cell_type": "markdown",
   "metadata": {},
   "source": [
    "Add Lineup to Model\n",
    "\n",
    "    - Last time we scraped individual batter data for the 7300+ players who have appeared in a starting lineup between 1970 and 2022.\n",
    "    - We then processed the data to get statistics about the trailing performance of each of the players before each game in which they started.\n",
    "    - Using this, we were able to get features related to each player that could be used to predict each game. We then averaged across the lineup in several different ways to come up with a variety of lineup related statistics.\n",
    "    - Now, we will add these features to the model and see how much improvement we get"
   ]
  },
  {
   "cell_type": "code",
   "execution_count": 1,
   "metadata": {},
   "outputs": [],
   "source": [
    "import numpy as np\n",
    "import pandas as pd\n",
    "import matplotlib.pyplot as plt\n",
    "\n",
    "import lightgbm as lgbm\n",
    "import structureboost as stb\n",
    "import ml_insights as mli\n",
    "from structureboost import log_loss\n",
    "pd.set_option('display.max_columns',1000)\n",
    "pd.set_option('display.max_rows',1000)"
   ]
  },
  {
   "cell_type": "code",
   "execution_count": 2,
   "metadata": {},
   "outputs": [],
   "source": [
    "df = pd.read_csv('df_bp9.csv', low_memory=False)"
   ]
  },
  {
   "attachments": {},
   "cell_type": "markdown",
   "metadata": {},
   "source": [
    "BEGIN MODELING"
   ]
  },
  {
   "cell_type": "code",
   "execution_count": 3,
   "metadata": {},
   "outputs": [],
   "source": [
    "df = df[df.run_diff!=0]\n",
    "df_train = df[(df.season>1901) & (df.season<=2000) & ~(df.OBP_162_h.isnull())]\n",
    "df_valid = df[(df.season>=2001) & (df.season<=2020)]\n",
    "df_test = df[df.season>=2021]\n",
    "df_test_val = df[df.season>=2019]"
   ]
  },
  {
   "cell_type": "code",
   "execution_count": 4,
   "metadata": {},
   "outputs": [
    {
     "data": {
      "text/plain": [
       "(132040, 1235)"
      ]
     },
     "execution_count": 4,
     "metadata": {},
     "output_type": "execute_result"
    }
   ],
   "source": [
    "df.shape"
   ]
  },
  {
   "cell_type": "code",
   "execution_count": 5,
   "metadata": {},
   "outputs": [
    {
     "data": {
      "text/plain": [
       "0.5405885434635387"
      ]
     },
     "execution_count": 5,
     "metadata": {},
     "output_type": "execute_result"
    }
   ],
   "source": [
    "hv_mean = df_train.home_victory.mean()\n",
    "hv_mean"
   ]
  },
  {
   "attachments": {},
   "cell_type": "markdown",
   "metadata": {},
   "source": [
    "Let's add in some lineup features"
   ]
  },
  {
   "cell_type": "code",
   "execution_count": 6,
   "metadata": {},
   "outputs": [],
   "source": [
    "target = 'home_victory'\n",
    "\n",
    "y_train = df_train[target].to_numpy()\n",
    "y_valid = df_valid[target].to_numpy()\n",
    "y_test = df_test[target].to_numpy()"
   ]
  },
  {
   "cell_type": "code",
   "execution_count": 7,
   "metadata": {},
   "outputs": [],
   "source": [
    "def try_features(feat_set, max_depth=2):\n",
    "    target = 'home_victory'\n",
    "    X_train = df_train.loc[:,feat_set]\n",
    "    X_valid = df_valid.loc[:,feat_set]\n",
    "    X_test = df_test.loc[:,feat_set]\n",
    "\n",
    "\n",
    "\n",
    "    lgbm1 = lgbm.LGBMClassifier(n_estimators=1000, learning_rate=.02, max_depth=max_depth)\n",
    "    lgbm1.fit(X_train, y_train, eval_set=(X_valid, y_valid), eval_metric='logloss', \n",
    "          callbacks=[lgbm.early_stopping(stopping_rounds=50)])\n",
    "    \n",
    "    preds_lgbm_test = lgbm1.predict_proba(X_test)[:,1]\n",
    "    ll_test = log_loss(y_test, preds_lgbm_test)\n",
    "\n",
    "    print(f'\\nVegas probs: {log_loss(y_test,df_test.implied_prob_h_mid)} on test')\n",
    "    print(f'model probs: {ll_test} on test')\n",
    "\n",
    "    print(f'\\nDifference: {ll_test - log_loss(y_test,df_test.implied_prob_h_mid)} on test')\n",
    "\n",
    "    sv_lgbm = lgbm1.predict(X_test, pred_contrib=True)\n",
    "    sv_lgbm = pd.DataFrame(sv_lgbm)\n",
    "    sv_lgbm.columns = list(X_test.columns)+['Intercept']\n",
    "    sv_vec = sv_lgbm.abs().mean().sort_values(ascending=False)\n",
    "    print('\\nAvg Shap Vals')\n",
    "    \n",
    "    print(sv_vec)\n",
    "    out_dict={}\n",
    "    out_dict['ll_test'] = ll_test\n",
    "    out_dict['model'] = lgbm1\n",
    "    out_dict['shap_val_avgs'] = sv_vec\n",
    "    out_dict['preds_test'] = preds_lgbm_test\n",
    "    return(out_dict)"
   ]
  },
  {
   "attachments": {},
   "cell_type": "markdown",
   "metadata": {},
   "source": [
    "First, let's revisit our best model from our last modeling session"
   ]
  },
  {
   "cell_type": "code",
   "execution_count": 8,
   "metadata": {},
   "outputs": [],
   "source": [
    "features0 = ['OBP_162_h','OBP_162_v',\n",
    "            'SLG_162_h','SLG_162_v',\n",
    "            'Strt_WHIP_35_h','Strt_WHIP_35_v',\n",
    "            'Strt_TB_BB_perc_35_h', 'Strt_TB_BB_perc_35_v',\n",
    "            'Strt_H_BB_perc_35_h', 'Strt_H_BB_perc_35_v',\n",
    "            'Strt_SO_perc_10_h', 'Strt_SO_perc_10_v',\n",
    "            'Bpen_WHIP_75_h','Bpen_WHIP_75_v',\n",
    "            'Bpen_TB_BB_perc_75_h', 'Bpen_TB_BB_perc_75_v',\n",
    "            'Bpen_H_BB_perc_75_h', 'Bpen_H_BB_perc_75_v',\n",
    "            'Bpen_SO_perc_75_h', 'Bpen_SO_perc_75_v',\n",
    "            'Bpen_WHIP_35_h','Bpen_WHIP_35_v',\n",
    "            'Bpen_TB_BB_perc_35_h', 'Bpen_TB_BB_perc_35_v',\n",
    "            'Bpen_H_BB_perc_35_h', 'Bpen_H_BB_perc_35_v',\n",
    "            'Bpen_SO_perc_35_h', 'Bpen_SO_perc_35_v',\n",
    "            'Bpen_WHIP_10_h','Bpen_WHIP_10_v',\n",
    "            'Bpen_TB_BB_perc_10_h', 'Bpen_TB_BB_perc_10_v',\n",
    "            'Bpen_H_BB_perc_10_h', 'Bpen_H_BB_perc_10_v',\n",
    "            'Bpen_SO_perc_10_h', 'Bpen_SO_perc_10_v']"
   ]
  },
  {
   "cell_type": "code",
   "execution_count": 9,
   "metadata": {},
   "outputs": [
    {
     "name": "stdout",
     "output_type": "stream",
     "text": [
      "Training until validation scores don't improve for 50 rounds\n",
      "Early stopping, best iteration is:\n",
      "[646]\tvalid_0's binary_logloss: 0.678925\n",
      "\n",
      "Vegas probs: 0.6675629431340582 on test\n",
      "model probs: 0.6728983833576829 on test\n",
      "\n",
      "Difference: 0.0053354402236247545 on test\n",
      "\n",
      "Avg Shap Vals\n",
      "Intercept               0.165133\n",
      "Strt_SO_perc_10_v       0.123603\n",
      "Strt_SO_perc_10_h       0.077128\n",
      "Strt_WHIP_35_v          0.067719\n",
      "OBP_162_h               0.061638\n",
      "SLG_162_h               0.053926\n",
      "Strt_WHIP_35_h          0.053013\n",
      "OBP_162_v               0.051137\n",
      "SLG_162_v               0.050572\n",
      "Bpen_SO_perc_75_v       0.048013\n",
      "Strt_TB_BB_perc_35_h    0.035477\n",
      "Strt_H_BB_perc_35_h     0.029470\n",
      "Strt_TB_BB_perc_35_v    0.026005\n",
      "Bpen_TB_BB_perc_10_v    0.017387\n",
      "Bpen_SO_perc_75_h       0.016524\n",
      "Bpen_WHIP_75_h          0.014822\n",
      "Bpen_SO_perc_35_v       0.013476\n",
      "Bpen_TB_BB_perc_75_v    0.012695\n",
      "Bpen_H_BB_perc_75_h     0.012529\n",
      "Bpen_SO_perc_10_v       0.012388\n",
      "Bpen_TB_BB_perc_35_v    0.010661\n",
      "Bpen_SO_perc_35_h       0.007837\n",
      "Bpen_WHIP_35_v          0.007661\n",
      "Bpen_SO_perc_10_h       0.007619\n",
      "Bpen_WHIP_10_v          0.007617\n",
      "Bpen_TB_BB_perc_75_h    0.007168\n",
      "Bpen_H_BB_perc_10_h     0.007081\n",
      "Strt_H_BB_perc_35_v     0.006871\n",
      "Bpen_WHIP_75_v          0.004382\n",
      "Bpen_WHIP_35_h          0.002864\n",
      "Bpen_H_BB_perc_75_v     0.002672\n",
      "Bpen_WHIP_10_h          0.002367\n",
      "Bpen_H_BB_perc_35_v     0.001439\n",
      "Bpen_TB_BB_perc_35_h    0.001171\n",
      "Bpen_H_BB_perc_10_v     0.000950\n",
      "Bpen_TB_BB_perc_10_h    0.000651\n",
      "Bpen_H_BB_perc_35_h     0.000607\n",
      "dtype: float64\n"
     ]
    }
   ],
   "source": [
    "d0 = try_features(features0)"
   ]
  },
  {
   "cell_type": "code",
   "execution_count": 10,
   "metadata": {},
   "outputs": [],
   "source": [
    "f_lineup_a = [\n",
    "            'lineup9_OBP_162_h','lineup9_OBP_162_v',\n",
    "            'lineup9_SLG_162_h','lineup9_SLG_162_v',\n",
    "]"
   ]
  },
  {
   "cell_type": "code",
   "execution_count": 11,
   "metadata": {},
   "outputs": [
    {
     "name": "stdout",
     "output_type": "stream",
     "text": [
      "Training until validation scores don't improve for 50 rounds\n",
      "Early stopping, best iteration is:\n",
      "[708]\tvalid_0's binary_logloss: 0.678051\n",
      "\n",
      "Vegas probs: 0.6675629431340582 on test\n",
      "model probs: 0.6714753310080693 on test\n",
      "\n",
      "Difference: 0.003912387874011158 on test\n",
      "\n",
      "Avg Shap Vals\n",
      "Intercept               0.165503\n",
      "Strt_SO_perc_10_v       0.114048\n",
      "Strt_SO_perc_10_h       0.075429\n",
      "Strt_WHIP_35_v          0.061881\n",
      "lineup9_SLG_162_v       0.051015\n",
      "lineup9_SLG_162_h       0.048136\n",
      "Strt_WHIP_35_h          0.046712\n",
      "lineup9_OBP_162_h       0.041517\n",
      "OBP_162_h               0.041387\n",
      "Bpen_SO_perc_75_v       0.040343\n",
      "OBP_162_v               0.037955\n",
      "Strt_TB_BB_perc_35_h    0.036101\n",
      "SLG_162_h               0.030154\n",
      "SLG_162_v               0.029996\n",
      "Strt_TB_BB_perc_35_v    0.029357\n",
      "lineup9_OBP_162_v       0.026275\n",
      "Strt_H_BB_perc_35_h     0.026073\n",
      "Bpen_TB_BB_perc_10_v    0.016068\n",
      "Bpen_SO_perc_75_h       0.014015\n",
      "Bpen_WHIP_75_h          0.012581\n",
      "Bpen_H_BB_perc_75_h     0.012276\n",
      "Bpen_TB_BB_perc_35_v    0.010340\n",
      "Bpen_SO_perc_10_v       0.010182\n",
      "Bpen_TB_BB_perc_75_v    0.009825\n",
      "Bpen_H_BB_perc_10_h     0.007857\n",
      "Bpen_WHIP_10_v          0.007471\n",
      "Bpen_WHIP_35_v          0.007227\n",
      "Bpen_SO_perc_35_v       0.007039\n",
      "Bpen_TB_BB_perc_75_h    0.006924\n",
      "Bpen_SO_perc_35_h       0.006323\n",
      "Bpen_SO_perc_10_h       0.006126\n",
      "Strt_H_BB_perc_35_v     0.006034\n",
      "Bpen_WHIP_75_v          0.004660\n",
      "Bpen_H_BB_perc_75_v     0.003810\n",
      "Bpen_WHIP_10_h          0.002874\n",
      "Bpen_WHIP_35_h          0.002495\n",
      "Bpen_TB_BB_perc_35_h    0.001635\n",
      "Bpen_H_BB_perc_35_h     0.001000\n",
      "Bpen_H_BB_perc_10_v     0.000981\n",
      "Bpen_H_BB_perc_35_v     0.000907\n",
      "Bpen_TB_BB_perc_10_h    0.000404\n",
      "dtype: float64\n"
     ]
    }
   ],
   "source": [
    "features1 = features0 + f_lineup_a\n",
    "d1 = try_features(features1)"
   ]
  },
  {
   "attachments": {},
   "cell_type": "markdown",
   "metadata": {},
   "source": [
    "For comparison sake, let's use the individual batters instead"
   ]
  },
  {
   "cell_type": "code",
   "execution_count": 12,
   "metadata": {},
   "outputs": [],
   "source": [
    "slg_indiv_cols = [x for x in df.columns if '_b' in x and 'SLG_162' in x]\n",
    "obp_indiv_cols = [x for x in df.columns if '_b' in x and 'OBP_162' in x]"
   ]
  },
  {
   "cell_type": "code",
   "execution_count": 13,
   "metadata": {},
   "outputs": [
    {
     "name": "stdout",
     "output_type": "stream",
     "text": [
      "Training until validation scores don't improve for 50 rounds\n",
      "Early stopping, best iteration is:\n",
      "[875]\tvalid_0's binary_logloss: 0.678384\n",
      "\n",
      "Vegas probs: 0.6675629431340582 on test\n",
      "model probs: 0.6722135219955656 on test\n",
      "\n",
      "Difference: 0.004650578861507437 on test\n",
      "\n",
      "Avg Shap Vals\n",
      "Intercept               0.165556\n",
      "Strt_SO_perc_10_v       0.110494\n",
      "Strt_SO_perc_10_h       0.071391\n",
      "Strt_WHIP_35_v          0.062691\n",
      "Strt_WHIP_35_h          0.048047\n",
      "Bpen_SO_perc_75_v       0.042549\n",
      "OBP_162_h               0.037106\n",
      "OBP_162_v               0.034907\n",
      "Strt_TB_BB_perc_35_h    0.030791\n",
      "Strt_H_BB_perc_35_h     0.029717\n",
      "SLG_162_h               0.029180\n",
      "Strt_TB_BB_perc_35_v    0.024522\n",
      "SLG_162_b3_h            0.022761\n",
      "OBP_162_b5_h            0.021835\n",
      "SLG_162_v               0.020870\n",
      "SLG_162_b9_h            0.017896\n",
      "SLG_162_b2_h            0.017330\n",
      "SLG_162_b6_h            0.017001\n",
      "SLG_162_b7_v            0.015659\n",
      "OBP_162_b9_v            0.015100\n",
      "OBP_162_b4_h            0.015100\n",
      "OBP_162_b7_h            0.014262\n",
      "SLG_162_b4_v            0.013704\n",
      "Bpen_WHIP_75_h          0.013371\n",
      "SLG_162_b2_v            0.012453\n",
      "Bpen_TB_BB_perc_10_v    0.012319\n",
      "OBP_162_b6_v            0.012208\n",
      "Bpen_SO_perc_75_h       0.011835\n",
      "Bpen_H_BB_perc_75_h     0.011712\n",
      "Bpen_SO_perc_10_v       0.011366\n",
      "SLG_162_b7_h            0.011182\n",
      "OBP_162_b1_h            0.010817\n",
      "SLG_162_b9_v            0.010566\n",
      "OBP_162_b3_v            0.010475\n",
      "SLG_162_b1_v            0.010086\n",
      "OBP_162_b2_v            0.009727\n",
      "Bpen_WHIP_75_v          0.009545\n",
      "Bpen_TB_BB_perc_75_v    0.008913\n",
      "SLG_162_b5_v            0.008749\n",
      "OBP_162_b8_v            0.008680\n",
      "Bpen_TB_BB_perc_35_v    0.008367\n",
      "SLG_162_b6_v            0.008031\n",
      "Bpen_WHIP_10_v          0.007691\n",
      "Bpen_SO_perc_35_v       0.007459\n",
      "Bpen_H_BB_perc_10_h     0.007404\n",
      "Strt_H_BB_perc_35_v     0.007204\n",
      "OBP_162_b7_v            0.006929\n",
      "OBP_162_b8_h            0.006913\n",
      "SLG_162_b5_h            0.006619\n",
      "Bpen_SO_perc_10_h       0.006435\n",
      "SLG_162_b4_h            0.006401\n",
      "Bpen_TB_BB_perc_75_h    0.006351\n",
      "SLG_162_b3_v            0.005708\n",
      "OBP_162_b1_v            0.004893\n",
      "Bpen_WHIP_35_v          0.004500\n",
      "OBP_162_b5_v            0.004452\n",
      "OBP_162_b3_h            0.004384\n",
      "SLG_162_b8_v            0.003921\n",
      "OBP_162_b6_h            0.003886\n",
      "OBP_162_b9_h            0.003846\n",
      "Bpen_SO_perc_35_h       0.003684\n",
      "Bpen_H_BB_perc_75_v     0.003384\n",
      "OBP_162_b4_v            0.002956\n",
      "Bpen_WHIP_35_h          0.002642\n",
      "Bpen_WHIP_10_h          0.002519\n",
      "SLG_162_b1_h            0.002164\n",
      "SLG_162_b8_h            0.002097\n",
      "Bpen_H_BB_perc_35_v     0.001706\n",
      "Bpen_H_BB_perc_35_h     0.001671\n",
      "Bpen_TB_BB_perc_35_h    0.001286\n",
      "Bpen_H_BB_perc_10_v     0.001035\n",
      "OBP_162_b2_h            0.000684\n",
      "Bpen_TB_BB_perc_10_h    0.000432\n",
      "dtype: float64\n"
     ]
    }
   ],
   "source": [
    "features2 = features0 + slg_indiv_cols + obp_indiv_cols\n",
    "d2 = try_features(features2, max_depth=2)"
   ]
  },
  {
   "cell_type": "code",
   "execution_count": 14,
   "metadata": {},
   "outputs": [
    {
     "name": "stdout",
     "output_type": "stream",
     "text": [
      "Training until validation scores don't improve for 50 rounds\n",
      "Early stopping, best iteration is:\n",
      "[741]\tvalid_0's binary_logloss: 0.678182\n",
      "\n",
      "Vegas probs: 0.6675629431340582 on test\n",
      "model probs: 0.6721822897965265 on test\n",
      "\n",
      "Difference: 0.004619346662468327 on test\n",
      "\n",
      "Avg Shap Vals\n",
      "Intercept               0.165559\n",
      "Strt_SO_perc_10_v       0.108444\n",
      "Strt_SO_perc_10_h       0.072577\n",
      "Strt_WHIP_35_v          0.061224\n",
      "Strt_WHIP_35_h          0.046736\n",
      "lineup9_SLG_162_v       0.043153\n",
      "lineup9_SLG_162_h       0.039716\n",
      "lineup9_OBP_162_h       0.036170\n",
      "Bpen_SO_perc_75_v       0.034951\n",
      "Strt_TB_BB_perc_35_h    0.031593\n",
      "OBP_162_h               0.031378\n",
      "OBP_162_v               0.028724\n",
      "Strt_H_BB_perc_35_h     0.025827\n",
      "Strt_TB_BB_perc_35_v    0.024748\n",
      "lineup9_OBP_162_v       0.021853\n",
      "SLG_162_h               0.019475\n",
      "SLG_162_v               0.017666\n",
      "SLG_162_b3_h            0.015151\n",
      "OBP_162_b5_h            0.014925\n",
      "Bpen_TB_BB_perc_10_v    0.012940\n",
      "Bpen_H_BB_perc_75_h     0.012384\n",
      "SLG_162_b4_v            0.012198\n",
      "Bpen_WHIP_75_h          0.011366\n",
      "Bpen_SO_perc_75_h       0.010939\n",
      "OBP_162_b4_h            0.010652\n",
      "Bpen_WHIP_75_v          0.009415\n",
      "Bpen_TB_BB_perc_35_v    0.009333\n",
      "SLG_162_b6_h            0.008787\n",
      "Bpen_SO_perc_10_v       0.008578\n",
      "OBP_162_b3_v            0.008305\n",
      "Bpen_SO_perc_35_v       0.007631\n",
      "Bpen_TB_BB_perc_75_v    0.007627\n",
      "Bpen_H_BB_perc_10_h     0.007210\n",
      "Bpen_WHIP_10_v          0.007149\n",
      "SLG_162_b7_v            0.006915\n",
      "SLG_162_b9_h            0.006517\n",
      "Bpen_TB_BB_perc_75_h    0.006349\n",
      "SLG_162_b6_v            0.005996\n",
      "OBP_162_b3_h            0.005718\n",
      "Strt_H_BB_perc_35_v     0.005572\n",
      "Bpen_WHIP_35_v          0.005437\n",
      "Bpen_SO_perc_35_h       0.005206\n",
      "SLG_162_b2_v            0.005205\n",
      "OBP_162_b6_v            0.004572\n",
      "OBP_162_b2_v            0.004560\n",
      "Bpen_SO_perc_10_h       0.004332\n",
      "OBP_162_b9_h            0.004132\n",
      "OBP_162_b1_h            0.004019\n",
      "SLG_162_b2_h            0.004002\n",
      "SLG_162_b5_h            0.003935\n",
      "Bpen_H_BB_perc_75_v     0.003840\n",
      "OBP_162_b7_h            0.003761\n",
      "OBP_162_b5_v            0.003593\n",
      "SLG_162_b1_v            0.003576\n",
      "OBP_162_b7_v            0.003483\n",
      "SLG_162_b5_v            0.003364\n",
      "Bpen_WHIP_35_h          0.003270\n",
      "OBP_162_b1_v            0.002809\n",
      "OBP_162_b9_v            0.002336\n",
      "SLG_162_b8_v            0.002199\n",
      "SLG_162_b3_v            0.001904\n",
      "SLG_162_b7_h            0.001624\n",
      "SLG_162_b4_h            0.001612\n",
      "OBP_162_b8_v            0.001548\n",
      "Bpen_WHIP_10_h          0.001543\n",
      "Bpen_H_BB_perc_10_v     0.001530\n",
      "Bpen_TB_BB_perc_35_h    0.001265\n",
      "OBP_162_b6_h            0.001055\n",
      "Bpen_H_BB_perc_35_h     0.000866\n",
      "OBP_162_b4_v            0.000826\n",
      "SLG_162_b1_h            0.000716\n",
      "SLG_162_b8_h            0.000692\n",
      "SLG_162_b9_v            0.000542\n",
      "Bpen_TB_BB_perc_10_h    0.000429\n",
      "OBP_162_b8_h            0.000189\n",
      "Bpen_H_BB_perc_35_v     0.000000\n",
      "OBP_162_b2_h            0.000000\n",
      "dtype: float64\n"
     ]
    }
   ],
   "source": [
    "features3 = features0 + slg_indiv_cols + obp_indiv_cols + f_lineup_a\n",
    "d3 = try_features(features3)"
   ]
  },
  {
   "cell_type": "code",
   "execution_count": 15,
   "metadata": {},
   "outputs": [
    {
     "name": "stdout",
     "output_type": "stream",
     "text": [
      "Training until validation scores don't improve for 50 rounds\n",
      "Early stopping, best iteration is:\n",
      "[671]\tvalid_0's binary_logloss: 0.678091\n",
      "\n",
      "Vegas probs: 0.6675629431340582 on test\n",
      "model probs: 0.671260241401741 on test\n",
      "\n",
      "Difference: 0.003697298267682836 on test\n",
      "\n",
      "Avg Shap Vals\n",
      "Intercept                   0.165435\n",
      "Strt_SO_perc_10_v           0.111129\n",
      "Strt_SO_perc_10_h           0.084981\n",
      "Strt_WHIP_35_v              0.062465\n",
      "Strt_WHIP_35_h              0.047199\n",
      "OBP_162_h                   0.042731\n",
      "Bpen_SO_perc_75_v           0.041705\n",
      "Strt_TB_BB_perc_35_h        0.037376\n",
      "lineup9_OBS_162_h           0.037119\n",
      "OBP_162_v                   0.036407\n",
      "lineup9_SLG_162_v           0.033666\n",
      "SLG_162_v                   0.030187\n",
      "SLG_162_h                   0.028702\n",
      "Strt_TB_BB_perc_35_v        0.028650\n",
      "lineup9_SLG_162_h           0.025675\n",
      "Strt_H_BB_perc_35_h         0.025218\n",
      "lineup9_OBP_162_h           0.024190\n",
      "lineup9_SObat_perc_162_v    0.023683\n",
      "lineup9_OBP_162_v           0.021132\n",
      "lineup9_OBS_162_v           0.019981\n",
      "Bpen_TB_BB_perc_10_v        0.014813\n",
      "Bpen_WHIP_75_h              0.012627\n",
      "Bpen_SO_perc_75_h           0.012211\n",
      "Bpen_H_BB_perc_75_h         0.010433\n",
      "Bpen_TB_BB_perc_75_v        0.010389\n",
      "Bpen_TB_BB_perc_35_v        0.009479\n",
      "Bpen_SO_perc_10_v           0.008600\n",
      "Bpen_WHIP_35_v              0.007559\n",
      "Bpen_SO_perc_35_v           0.007299\n",
      "Bpen_TB_BB_perc_75_h        0.006997\n",
      "Bpen_WHIP_10_v              0.006945\n",
      "Bpen_H_BB_perc_10_h         0.006708\n",
      "Bpen_SO_perc_35_h           0.005353\n",
      "lineup9_SLGmod_162_v        0.005187\n",
      "Strt_H_BB_perc_35_v         0.005000\n",
      "Bpen_SO_perc_10_h           0.004701\n",
      "Bpen_WHIP_75_v              0.003924\n",
      "Bpen_H_BB_perc_75_v         0.002848\n",
      "lineup9_SObat_perc_162_h    0.002595\n",
      "Bpen_WHIP_35_h              0.002419\n",
      "lineup9_SLGmod_162_h        0.002133\n",
      "Bpen_WHIP_10_h              0.002105\n",
      "Bpen_TB_BB_perc_35_h        0.001497\n",
      "Bpen_H_BB_perc_10_v         0.001217\n",
      "Bpen_H_BB_perc_35_h         0.001100\n",
      "Bpen_H_BB_perc_35_v         0.000421\n",
      "Bpen_TB_BB_perc_10_h        0.000360\n",
      "dtype: float64\n"
     ]
    }
   ],
   "source": [
    "f_lineup_b =  [\n",
    "            'lineup9_OBS_162_h','lineup9_OBS_162_v',\n",
    "            'lineup9_SLGmod_162_h','lineup9_SLGmod_162_v',\n",
    "            'lineup9_SObat_perc_162_h','lineup9_SObat_perc_162_v',\n",
    "]\n",
    "features4 = features0  +f_lineup_a + f_lineup_b\n",
    "d4 = try_features(features4)"
   ]
  },
  {
   "cell_type": "code",
   "execution_count": 16,
   "metadata": {},
   "outputs": [
    {
     "name": "stdout",
     "output_type": "stream",
     "text": [
      "Training until validation scores don't improve for 50 rounds\n",
      "Early stopping, best iteration is:\n",
      "[707]\tvalid_0's binary_logloss: 0.67815\n",
      "\n",
      "Vegas probs: 0.6675629431340582 on test\n",
      "model probs: 0.6713434199066858 on test\n",
      "\n",
      "Difference: 0.0037804767726276056 on test\n",
      "\n",
      "Avg Shap Vals\n",
      "Intercept               0.165527\n",
      "Strt_SO_perc_10_v       0.113772\n",
      "Strt_SO_perc_10_h       0.075856\n",
      "Strt_WHIP_35_v          0.062190\n",
      "lineup9_SLG_162_w_v     0.055191\n",
      "lineup9_SLG_162_w_h     0.048724\n",
      "Strt_WHIP_35_h          0.047851\n",
      "lineup9_OBP_162_w_h     0.042474\n",
      "OBP_162_h               0.041687\n",
      "Bpen_SO_perc_75_v       0.040150\n",
      "OBP_162_v               0.036717\n",
      "Strt_TB_BB_perc_35_h    0.036324\n",
      "SLG_162_h               0.029967\n",
      "Strt_TB_BB_perc_35_v    0.029772\n",
      "SLG_162_v               0.028264\n",
      "Strt_H_BB_perc_35_h     0.025439\n",
      "lineup9_OBP_162_w_v     0.022700\n",
      "Bpen_TB_BB_perc_10_v    0.016371\n",
      "Bpen_SO_perc_75_h       0.014924\n",
      "Bpen_H_BB_perc_75_h     0.012795\n",
      "Bpen_WHIP_75_h          0.012207\n",
      "Bpen_TB_BB_perc_35_v    0.009915\n",
      "Bpen_TB_BB_perc_75_v    0.009895\n",
      "Bpen_SO_perc_10_v       0.009595\n",
      "Bpen_SO_perc_35_v       0.007803\n",
      "Bpen_TB_BB_perc_75_h    0.007370\n",
      "Bpen_WHIP_10_v          0.007229\n",
      "Bpen_H_BB_perc_10_h     0.007143\n",
      "Bpen_WHIP_35_v          0.007019\n",
      "Bpen_SO_perc_35_h       0.006930\n",
      "Strt_H_BB_perc_35_v     0.006153\n",
      "Bpen_SO_perc_10_h       0.005673\n",
      "Bpen_WHIP_75_v          0.004761\n",
      "Bpen_WHIP_10_h          0.003215\n",
      "Bpen_WHIP_35_h          0.003141\n",
      "Bpen_H_BB_perc_75_v     0.003131\n",
      "Bpen_H_BB_perc_10_v     0.001339\n",
      "Bpen_TB_BB_perc_35_h    0.001134\n",
      "Bpen_H_BB_perc_35_h     0.000987\n",
      "Bpen_H_BB_perc_35_v     0.000821\n",
      "Bpen_TB_BB_perc_10_h    0.000600\n",
      "dtype: float64\n"
     ]
    }
   ],
   "source": [
    "f_lineup_a_w =  [\n",
    "            'lineup9_OBP_162_w_h','lineup9_OBP_162_w_v',\n",
    "            'lineup9_SLG_162_w_h','lineup9_SLG_162_w_v',\n",
    "]\n",
    "features5 = features0+f_lineup_a_w\n",
    "d5 = try_features(features5)"
   ]
  },
  {
   "cell_type": "code",
   "execution_count": 17,
   "metadata": {},
   "outputs": [
    {
     "name": "stdout",
     "output_type": "stream",
     "text": [
      "Training until validation scores don't improve for 50 rounds\n",
      "Early stopping, best iteration is:\n",
      "[699]\tvalid_0's binary_logloss: 0.678272\n",
      "\n",
      "Vegas probs: 0.6675629431340582 on test\n",
      "model probs: 0.6708500136924616 on test\n",
      "\n",
      "Difference: 0.003287070558403382 on test\n",
      "\n",
      "Avg Shap Vals\n",
      "Intercept               0.165495\n",
      "Strt_SO_perc_10_v       0.115845\n",
      "Strt_SO_perc_10_h       0.074183\n",
      "Strt_WHIP_35_v          0.066591\n",
      "lineup8_SLG_162_w_v     0.049345\n",
      "Strt_WHIP_35_h          0.048972\n",
      "lineup8_SLG_162_w_h     0.047499\n",
      "OBP_162_h               0.043776\n",
      "Bpen_SO_perc_75_v       0.042353\n",
      "OBP_162_v               0.037601\n",
      "Strt_TB_BB_perc_35_h    0.037050\n",
      "lineup8_OBP_162_w_h     0.034347\n",
      "SLG_162_h               0.030438\n",
      "Strt_H_BB_perc_35_h     0.028683\n",
      "Strt_TB_BB_perc_35_v    0.028440\n",
      "SLG_162_v               0.027896\n",
      "lineup8_OBP_162_w_v     0.015868\n",
      "Bpen_TB_BB_perc_10_v    0.015618\n",
      "Bpen_H_BB_perc_75_h     0.014186\n",
      "Bpen_SO_perc_75_h       0.014061\n",
      "Bpen_WHIP_75_h          0.012605\n",
      "Bpen_SO_perc_10_v       0.011701\n",
      "Bpen_SO_perc_35_h       0.011087\n",
      "Bpen_TB_BB_perc_75_v    0.010631\n",
      "Bpen_TB_BB_perc_35_v    0.010067\n",
      "Bpen_SO_perc_35_v       0.008250\n",
      "Bpen_WHIP_35_v          0.007768\n",
      "Bpen_SO_perc_10_h       0.007248\n",
      "Bpen_WHIP_10_v          0.007166\n",
      "Bpen_TB_BB_perc_75_h    0.007005\n",
      "Bpen_H_BB_perc_10_h     0.006330\n",
      "Bpen_WHIP_75_v          0.005831\n",
      "Strt_H_BB_perc_35_v     0.005565\n",
      "Bpen_WHIP_35_h          0.002784\n",
      "Bpen_WHIP_10_h          0.002147\n",
      "Bpen_H_BB_perc_10_v     0.001737\n",
      "Bpen_TB_BB_perc_35_h    0.001302\n",
      "Bpen_H_BB_perc_75_v     0.001299\n",
      "Bpen_H_BB_perc_35_v     0.001237\n",
      "Bpen_TB_BB_perc_10_h    0.000799\n",
      "Bpen_H_BB_perc_35_h     0.000722\n",
      "dtype: float64\n"
     ]
    }
   ],
   "source": [
    "f_lineup_a_8 =  [\n",
    "            'lineup8_OBP_162_w_h','lineup8_OBP_162_w_v',\n",
    "            'lineup8_SLG_162_w_h','lineup8_SLG_162_w_v',\n",
    "]\n",
    "features6 = features0+f_lineup_a_8\n",
    "d6 = try_features(features6)"
   ]
  },
  {
   "cell_type": "code",
   "execution_count": 18,
   "metadata": {},
   "outputs": [
    {
     "name": "stdout",
     "output_type": "stream",
     "text": [
      "Training until validation scores don't improve for 50 rounds\n",
      "Early stopping, best iteration is:\n",
      "[712]\tvalid_0's binary_logloss: 0.678037\n",
      "\n",
      "Vegas probs: 0.6675629431340582 on test\n",
      "model probs: 0.6717928887141047 on test\n",
      "\n",
      "Difference: 0.0042299455800465235 on test\n",
      "\n",
      "Avg Shap Vals\n",
      "Intercept               0.165670\n",
      "Strt_SO_perc_10_v       0.114638\n",
      "Strt_SO_perc_10_h       0.073691\n",
      "Strt_WHIP_35_v          0.059738\n",
      "lineup9_SLG_350_h       0.053114\n",
      "lineup9_SLG_350_v       0.046867\n",
      "Strt_WHIP_35_h          0.045252\n",
      "OBP_162_h               0.042772\n",
      "Strt_TB_BB_perc_35_h    0.036289\n",
      "Bpen_SO_perc_75_v       0.035473\n",
      "OBP_162_v               0.031507\n",
      "SLG_162_h               0.028687\n",
      "Strt_TB_BB_perc_35_v    0.028664\n",
      "Strt_H_BB_perc_35_h     0.026269\n",
      "SLG_162_v               0.024493\n",
      "lineup9_OBP_350_h       0.019135\n",
      "Bpen_TB_BB_perc_10_v    0.015506\n",
      "lineup9_OBP_75_v        0.014399\n",
      "Bpen_SO_perc_75_h       0.013386\n",
      "Bpen_H_BB_perc_75_h     0.013164\n",
      "lineup9_SLG_75_v        0.012894\n",
      "lineup9_OBP_162_h       0.012324\n",
      "lineup9_OBP_162_v       0.011990\n",
      "lineup9_SLG_162_v       0.010409\n",
      "Bpen_TB_BB_perc_75_v    0.010186\n",
      "Bpen_SO_perc_10_v       0.009994\n",
      "Bpen_TB_BB_perc_35_v    0.009928\n",
      "Bpen_WHIP_75_h          0.009888\n",
      "Bpen_SO_perc_35_v       0.009568\n",
      "Bpen_WHIP_10_v          0.007379\n",
      "lineup9_SLG_75_h        0.007154\n",
      "Bpen_WHIP_35_v          0.007074\n",
      "Bpen_TB_BB_perc_75_h    0.006868\n",
      "lineup9_OBP_350_v       0.006631\n",
      "Bpen_H_BB_perc_10_h     0.006544\n",
      "lineup9_OBP_75_h        0.006189\n",
      "Bpen_SO_perc_10_h       0.005972\n",
      "Strt_H_BB_perc_35_v     0.005339\n",
      "lineup9_SLG_162_h       0.005227\n",
      "Bpen_SO_perc_35_h       0.004951\n",
      "Bpen_WHIP_75_v          0.004490\n",
      "Bpen_WHIP_35_h          0.003162\n",
      "Bpen_WHIP_10_h          0.002238\n",
      "Bpen_H_BB_perc_75_v     0.002195\n",
      "Bpen_H_BB_perc_10_v     0.001043\n",
      "Bpen_TB_BB_perc_35_h    0.000933\n",
      "Bpen_H_BB_perc_35_h     0.000881\n",
      "Bpen_TB_BB_perc_10_h    0.000572\n",
      "Bpen_H_BB_perc_35_v     0.000566\n",
      "dtype: float64\n"
     ]
    }
   ],
   "source": [
    "f_lineup_c = [\n",
    "            'lineup9_OBP_350_h','lineup9_OBP_350_v',\n",
    "            'lineup9_SLG_350_h','lineup9_SLG_350_v',\n",
    "]\n",
    "\n",
    "f_lineup_d = [\n",
    "            'lineup9_OBP_75_h','lineup9_OBP_75_v',\n",
    "            'lineup9_SLG_75_h','lineup9_SLG_75_v',\n",
    "]\n",
    "features7 = features0 + f_lineup_a + f_lineup_c+ f_lineup_d\n",
    "d7 = try_features(features7, max_depth=2)"
   ]
  },
  {
   "cell_type": "code",
   "execution_count": 19,
   "metadata": {},
   "outputs": [
    {
     "name": "stdout",
     "output_type": "stream",
     "text": [
      "Training until validation scores don't improve for 50 rounds\n",
      "Early stopping, best iteration is:\n",
      "[319]\tvalid_0's binary_logloss: 0.686029\n",
      "\n",
      "Vegas probs: 0.6675629431340582 on test\n",
      "model probs: 0.682666852615609 on test\n",
      "\n",
      "Difference: 0.015103909481550826 on test\n",
      "\n",
      "Avg Shap Vals\n",
      "Intercept    0.163937\n",
      "SLG_162_v    0.071026\n",
      "OBP_162_h    0.070643\n",
      "SLG_162_h    0.063297\n",
      "OBP_162_v    0.058117\n",
      "dtype: float64\n"
     ]
    }
   ],
   "source": [
    "f_simple = ['OBP_162_h','OBP_162_v',\n",
    "            'SLG_162_h','SLG_162_v']\n",
    "features8 = f_simple\n",
    "\n",
    "d8 = try_features(features8, max_depth=2)"
   ]
  },
  {
   "attachments": {},
   "cell_type": "markdown",
   "metadata": {},
   "source": [
    "Model Analysis\n",
    "\n",
    "    - Is there any other evidence that this last enhancement \"improved\" the model?\n",
    "\n",
    "    - LV model is still better overall, but are we \"adding any value\"? Is our model \"catching\" anything they are not?"
   ]
  },
  {
   "cell_type": "code",
   "execution_count": 20,
   "metadata": {},
   "outputs": [],
   "source": [
    "discreps_lv0 = (d0['preds_test']-df_test.implied_prob_h_mid).to_numpy() # Without lineup features\n",
    "discreps_lv1 = (d1['preds_test']-df_test.implied_prob_h_mid).to_numpy() # With lineup features"
   ]
  },
  {
   "cell_type": "code",
   "execution_count": 21,
   "metadata": {},
   "outputs": [
    {
     "data": {
      "image/png": "[encoded data removed]",
      "text/plain": [
       "<Figure size 640x480 with 1 Axes>"
      ]
     },
     "metadata": {},
     "output_type": "display_data"
    }
   ],
   "source": [
    "plt.hist(discreps_lv1, bins=np.linspace(-.2,.2,41), alpha=.5, color='red');\n",
    "plt.hist(discreps_lv0, bins=np.linspace(-.2,.2,41), alpha=.5, color='blue');"
   ]
  },
  {
   "attachments": {},
   "cell_type": "markdown",
   "metadata": {},
   "source": [
    "Histogram above shows that we are closer to the Las Vegas model after adding in the lineup features"
   ]
  },
  {
   "cell_type": "code",
   "execution_count": 22,
   "metadata": {},
   "outputs": [
    {
     "data": {
      "text/plain": [
       "(0.04175654640375381, 0.046900118005755706)"
      ]
     },
     "execution_count": 22,
     "metadata": {},
     "output_type": "execute_result"
    }
   ],
   "source": [
    "np.mean(np.abs(discreps_lv1)), np.mean(np.abs(discreps_lv0))"
   ]
  },
  {
   "attachments": {},
   "cell_type": "markdown",
   "metadata": {},
   "source": [
    "Let's look at whether we get better predictions by making a weighted average of our model and the Las Vegas probs"
   ]
  },
  {
   "cell_type": "code",
   "execution_count": 23,
   "metadata": {},
   "outputs": [],
   "source": [
    "weak_model_preds = d8['preds_test']\n",
    "strong_model_preds = d1['preds_test']"
   ]
  },
  {
   "cell_type": "code",
   "execution_count": 24,
   "metadata": {},
   "outputs": [
    {
     "data": {
      "text/plain": [
       "[<matplotlib.lines.Line2D at 0x128548070>]"
      ]
     },
     "execution_count": 24,
     "metadata": {},
     "output_type": "execute_result"
    },
    {
     "data": {
      "image/png": "[encoded data removed]",
      "text/plain": [
       "<Figure size 640x480 with 1 Axes>"
      ]
     },
     "metadata": {},
     "output_type": "display_data"
    }
   ],
   "source": [
    "## Mixing in our first (very simple) model\n",
    "ll_mix_vec_weak = [log_loss(y_test, (k*weak_model_preds+(1-k)*df_test.implied_prob_h_mid)) for k in np.linspace(0,1,101)]\n",
    "plt.plot(ll_mix_vec_weak)"
   ]
  },
  {
   "cell_type": "code",
   "execution_count": 25,
   "metadata": {},
   "outputs": [
    {
     "data": {
      "text/plain": [
       "(5.910794778962725e-06, 2)"
      ]
     },
     "execution_count": 25,
     "metadata": {},
     "output_type": "execute_result"
    }
   ],
   "source": [
    "ll_mix_vec_weak[0] - np.min(ll_mix_vec_weak), np.argmin(ll_mix_vec_weak)"
   ]
  },
  {
   "cell_type": "code",
   "execution_count": 26,
   "metadata": {},
   "outputs": [
    {
     "data": {
      "text/plain": [
       "[<matplotlib.lines.Line2D at 0x1285bf6d0>]"
      ]
     },
     "execution_count": 26,
     "metadata": {},
     "output_type": "execute_result"
    },
    {
     "data": {
      "image/png": "[encoded data removed]",
      "text/plain": [
       "<Figure size 640x480 with 1 Axes>"
      ]
     },
     "metadata": {},
     "output_type": "display_data"
    }
   ],
   "source": [
    "## Mixing in our latest model\n",
    "ll_mix_vec_strong = [log_loss(y_test, (k*strong_model_preds+(1-k)*df_test.implied_prob_h_mid)) for k in np.linspace(0,1,101)]\n",
    "plt.plot(ll_mix_vec_strong)"
   ]
  },
  {
   "cell_type": "code",
   "execution_count": 27,
   "metadata": {},
   "outputs": [
    {
     "data": {
      "text/plain": [
       "(0.00013667134801409464, 15)"
      ]
     },
     "execution_count": 27,
     "metadata": {},
     "output_type": "execute_result"
    }
   ],
   "source": [
    "ll_mix_vec_strong[0] - np.min(ll_mix_vec_strong), np.argmin(ll_mix_vec_strong)"
   ]
  },
  {
   "cell_type": "code",
   "execution_count": 28,
   "metadata": {},
   "outputs": [],
   "source": [
    "# Simulate different model variations on a single test set\n",
    "# Gives a sense of how much different models (each with the same quality)\n",
    "# will vary\n",
    "def ll_model_discrep_shuffle(probvec_true, discreps, num_trials, answers):\n",
    "    # sim_outcome = np.random.binomial(n=1, p=probvec_true)\n",
    "    llvec_mod = np.zeros(num_trials)\n",
    "    discr1 = discreps.copy()\n",
    "    for i in range(num_trials):\n",
    "        np.random.shuffle(discr1)\n",
    "        pv_mod = pv_true  + discr1\n",
    "        llvec_mod[i] = log_loss(answers, pv_mod)\n",
    "    return(llvec_mod)"
   ]
  },
  {
   "cell_type": "code",
   "execution_count": 29,
   "metadata": {},
   "outputs": [],
   "source": [
    "pv_true = df_test.implied_prob_h_mid\n",
    "losses = ll_model_discrep_shuffle(pv_true, discreps_lv1, 10000, y_test)"
   ]
  },
  {
   "cell_type": "code",
   "execution_count": 30,
   "metadata": {},
   "outputs": [
    {
     "data": {
      "text/plain": [
       "<matplotlib.collections.LineCollection at 0x128624bb0>"
      ]
     },
     "execution_count": 30,
     "metadata": {},
     "output_type": "execute_result"
    },
    {
     "data": {
      "image/png": "[encoded data removed]",
      "text/plain": [
       "<Figure size 1200x400 with 1 Axes>"
      ]
     },
     "metadata": {},
     "output_type": "display_data"
    }
   ],
   "source": [
    "plt.figure(figsize=(12,4))\n",
    "plt.hist(losses, bins=100);\n",
    "plt.xlim([.665,.685]);\n",
    "plt.vlines(x=log_loss(y_test, strong_model_preds), ymin=0, ymax=200, color='k', linestyle='--')"
   ]
  },
  {
   "attachments": {},
   "cell_type": "markdown",
   "metadata": {},
   "source": [
    "Conclusions\n",
    "\n",
    "    - We went from ~40bps to ~30bps by adding lineup variables OBS, SLG (for home and away)\n",
    "\n",
    "    - Changing variants, adding more variables did not seem to improve at all\n",
    "\n",
    "    - Vegas model is still better overall, but evidence that our model captures effects that they don't"
   ]
  },
  {
   "attachments": {},
   "cell_type": "markdown",
   "metadata": {},
   "source": [
    "Next Steps\n",
    "\n",
    "    - Want to model runs scored \n",
    "        \n",
    "        -- will certainly be useful for predicting the over / under\n",
    "        \n",
    "        -- may also prove useful for predicting the winner of the game\n",
    "\n",
    "    - Will want to use probabilistic regression to get a distribution on the runs scored rather than a point estimate"
   ]
  }
 ],
 "metadata": {
  "kernelspec": {
   "display_name": "Python 3",
   "language": "python",
   "name": "python3"
  },
  "language_info": {
   "codemirror_mode": {
    "name": "ipython",
    "version": 3
   },
   "file_extension": ".py",
   "mimetype": "text/x-python",
   "name": "python",
   "nbconvert_exporter": "python",
   "pygments_lexer": "ipython3",
   "version": "3.9.6"
  },
  "orig_nbformat": 4
 },
 "nbformat": 4,
 "nbformat_minor": 2
}
