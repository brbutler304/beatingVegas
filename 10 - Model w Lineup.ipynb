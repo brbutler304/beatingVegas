{
 "cells": [
  {
   "attachments": {},
   "cell_type": "markdown",
   "metadata": {},
   "source": [
    "Add Lineup to Model\n",
    "\n",
    "    - Last time we scraped individual batter data for the 7300+ players who have appeared in a starting lineup between 1970 and 2022.\n",
    "\n",
    "    - We then processed the data to get statistics about the trailing performance of each of the players before each game in which they started.\n",
    "\n",
    "    - Using this, we were able to get features related to each player that could be used to predict each game. We then averaged across the lineup in several different ways to come up with a variety of lineup related statistics.\n",
    "    \n",
    "    - Now, we will add these features to the model and see how much improvement we get"
   ]
  },
  {
   "cell_type": "code",
   "execution_count": 1,
   "metadata": {},
   "outputs": [],
   "source": [
    "import numpy as np\n",
    "import pandas as pd\n",
    "import matplotlib.pyplot as plt\n",
    "\n",
    "import lightgbm as lgbm\n",
    "import structureboost as stb\n",
    "import ml_insights as mli\n",
    "from structureboost import log_loss\n",
    "pd.set_option('display.max_columns',1000)\n",
    "pd.set_option('display.max_rows',1000)"
   ]
  },
  {
   "cell_type": "code",
   "execution_count": 2,
   "metadata": {},
   "outputs": [],
   "source": [
    "df = pd.read_csv('df_bp9.csv', low_memory=False)"
   ]
  },
  {
   "attachments": {},
   "cell_type": "markdown",
   "metadata": {},
   "source": [
    "BEGIN MODELING"
   ]
  },
  {
   "cell_type": "code",
   "execution_count": 3,
   "metadata": {},
   "outputs": [],
   "source": [
    "df = df[df.run_diff!=0]\n",
    "df_train = df[(df.season>1970) & (df.season<=2015) & ~(df.OBP_162_h.isnull())]\n",
    "df_valid = df[(df.season>=2016) & (df.season<=2020)]\n",
    "df_test = df[df.season>=2021]\n",
    "df_test_val = df[df.season>=2019]"
   ]
  },
  {
   "cell_type": "code",
   "execution_count": 4,
   "metadata": {},
   "outputs": [
    {
     "data": {
      "text/plain": [
       "(115999, 1235)"
      ]
     },
     "execution_count": 4,
     "metadata": {},
     "output_type": "execute_result"
    }
   ],
   "source": [
    "df.shape"
   ]
  },
  {
   "cell_type": "code",
   "execution_count": 5,
   "metadata": {},
   "outputs": [
    {
     "data": {
      "text/plain": [
       "0.5398545529038206"
      ]
     },
     "execution_count": 5,
     "metadata": {},
     "output_type": "execute_result"
    }
   ],
   "source": [
    "hv_mean = df_train.home_victory.mean()\n",
    "hv_mean"
   ]
  },
  {
   "attachments": {},
   "cell_type": "markdown",
   "metadata": {},
   "source": [
    "Let's add in some lineup features"
   ]
  },
  {
   "cell_type": "code",
   "execution_count": 6,
   "metadata": {},
   "outputs": [],
   "source": [
    "target = 'home_victory'\n",
    "\n",
    "y_train = df_train[target].to_numpy()\n",
    "y_valid = df_valid[target].to_numpy()\n",
    "y_test = df_test[target].to_numpy()"
   ]
  },
  {
   "cell_type": "code",
   "execution_count": 7,
   "metadata": {},
   "outputs": [],
   "source": [
    "def try_features(feat_set, max_depth=2):\n",
    "    target = 'home_victory'\n",
    "    X_train = df_train.loc[:,feat_set]\n",
    "    X_valid = df_valid.loc[:,feat_set]\n",
    "    X_test = df_test.loc[:,feat_set]\n",
    "\n",
    "\n",
    "\n",
    "    lgbm1 = lgbm.LGBMClassifier(n_estimators=1000, learning_rate=.02, max_depth=max_depth)\n",
    "    lgbm1.fit(X_train, y_train, eval_set=(X_valid, y_valid), eval_metric='logloss', \n",
    "          callbacks=[lgbm.early_stopping(stopping_rounds=50)])\n",
    "    \n",
    "    preds_lgbm_test = lgbm1.predict_proba(X_test)[:,1]\n",
    "    ll_test = log_loss(y_test, preds_lgbm_test)\n",
    "\n",
    "    print(f'\\nVegas probs: {log_loss(y_test,df_test.implied_prob_h_mid)} on test')\n",
    "    print(f'model probs: {ll_test} on test')\n",
    "\n",
    "    print(f'\\nDifference: {ll_test - log_loss(y_test,df_test.implied_prob_h_mid)} on test')\n",
    "\n",
    "    sv_lgbm = lgbm1.predict(X_test, pred_contrib=True)\n",
    "    sv_lgbm = pd.DataFrame(sv_lgbm)\n",
    "    sv_lgbm.columns = list(X_test.columns)+['Intercept']\n",
    "    sv_vec = sv_lgbm.abs().mean().sort_values(ascending=False)\n",
    "    print('\\nAvg Shap Vals')\n",
    "    \n",
    "    print(sv_vec)\n",
    "    out_dict={}\n",
    "    out_dict['ll_test'] = ll_test\n",
    "    out_dict['model'] = lgbm1\n",
    "    out_dict['shap_val_avgs'] = sv_vec\n",
    "    out_dict['preds_test'] = preds_lgbm_test\n",
    "    return(out_dict)"
   ]
  },
  {
   "attachments": {},
   "cell_type": "markdown",
   "metadata": {},
   "source": [
    "First, let's revisit our best model from our last modeling session"
   ]
  },
  {
   "cell_type": "code",
   "execution_count": 8,
   "metadata": {},
   "outputs": [],
   "source": [
    "features0 = ['OBP_162_h','OBP_162_v',\n",
    "            'SLG_162_h','SLG_162_v',\n",
    "            'Strt_WHIP_35_h','Strt_WHIP_35_v',\n",
    "            'Strt_TB_BB_perc_35_h', 'Strt_TB_BB_perc_35_v',\n",
    "            'Strt_H_BB_perc_35_h', 'Strt_H_BB_perc_35_v',\n",
    "            'Strt_SO_perc_10_h', 'Strt_SO_perc_10_v',\n",
    "            'Bpen_WHIP_75_h','Bpen_WHIP_75_v',\n",
    "            'Bpen_TB_BB_perc_75_h', 'Bpen_TB_BB_perc_75_v',\n",
    "            'Bpen_H_BB_perc_75_h', 'Bpen_H_BB_perc_75_v',\n",
    "            'Bpen_SO_perc_75_h', 'Bpen_SO_perc_75_v',\n",
    "            'Bpen_WHIP_35_h','Bpen_WHIP_35_v',\n",
    "            'Bpen_TB_BB_perc_35_h', 'Bpen_TB_BB_perc_35_v',\n",
    "            'Bpen_H_BB_perc_35_h', 'Bpen_H_BB_perc_35_v',\n",
    "            'Bpen_SO_perc_35_h', 'Bpen_SO_perc_35_v',\n",
    "            'Bpen_WHIP_10_h','Bpen_WHIP_10_v',\n",
    "            'Bpen_TB_BB_perc_10_h', 'Bpen_TB_BB_perc_10_v',\n",
    "            'Bpen_H_BB_perc_10_h', 'Bpen_H_BB_perc_10_v',\n",
    "            'Bpen_SO_perc_10_h', 'Bpen_SO_perc_10_v']"
   ]
  },
  {
   "cell_type": "code",
   "execution_count": 9,
   "metadata": {},
   "outputs": [
    {
     "name": "stdout",
     "output_type": "stream",
     "text": [
      "Training until validation scores don't improve for 50 rounds\n",
      "Early stopping, best iteration is:\n",
      "[775]\tvalid_0's binary_logloss: 0.676971\n",
      "\n",
      "Vegas probs: 0.6675629431340582 on test\n",
      "model probs: 0.671882436698374 on test\n",
      "\n",
      "Difference: 0.004319493564315824 on test\n",
      "\n",
      "Avg Shap Vals\n",
      "Intercept               0.162363\n",
      "Strt_SO_perc_10_v       0.091345\n",
      "Strt_SO_perc_10_h       0.083929\n",
      "Strt_WHIP_35_v          0.067997\n",
      "Strt_WHIP_35_h          0.059607\n",
      "OBP_162_h               0.058045\n",
      "OBP_162_v               0.056137\n",
      "SLG_162_h               0.047146\n",
      "SLG_162_v               0.038256\n",
      "Strt_TB_BB_perc_35_h    0.032208\n",
      "Strt_H_BB_perc_35_h     0.029595\n",
      "Bpen_SO_perc_75_v       0.026026\n",
      "Strt_TB_BB_perc_35_v    0.023442\n",
      "Bpen_TB_BB_perc_75_h    0.019523\n",
      "Bpen_H_BB_perc_35_h     0.015074\n",
      "Bpen_TB_BB_perc_10_v    0.014737\n",
      "Strt_H_BB_perc_35_v     0.014017\n",
      "Bpen_H_BB_perc_75_h     0.013301\n",
      "Bpen_SO_perc_75_h       0.011724\n",
      "Bpen_SO_perc_10_v       0.011486\n",
      "Bpen_TB_BB_perc_35_v    0.010371\n",
      "Bpen_WHIP_75_h          0.009101\n",
      "Bpen_WHIP_75_v          0.008826\n",
      "Bpen_WHIP_10_v          0.008669\n",
      "Bpen_H_BB_perc_75_v     0.008225\n",
      "Bpen_H_BB_perc_35_v     0.007904\n",
      "Bpen_TB_BB_perc_75_v    0.007568\n",
      "Bpen_SO_perc_35_h       0.007389\n",
      "Bpen_WHIP_35_v          0.003131\n",
      "Bpen_SO_perc_10_h       0.002172\n",
      "Bpen_SO_perc_35_v       0.002062\n",
      "Bpen_H_BB_perc_10_v     0.001524\n",
      "Bpen_WHIP_35_h          0.001202\n",
      "Bpen_H_BB_perc_10_h     0.001192\n",
      "Bpen_TB_BB_perc_10_h    0.001063\n",
      "Bpen_WHIP_10_h          0.001041\n",
      "Bpen_TB_BB_perc_35_h    0.000772\n",
      "dtype: float64\n"
     ]
    }
   ],
   "source": [
    "d0 = try_features(features0)"
   ]
  },
  {
   "cell_type": "code",
   "execution_count": 10,
   "metadata": {},
   "outputs": [],
   "source": [
    "f_lineup_a = [\n",
    "            'lineup9_OBP_162_h','lineup9_OBP_162_v',\n",
    "            'lineup9_SLG_162_h','lineup9_SLG_162_v',\n",
    "]"
   ]
  },
  {
   "cell_type": "code",
   "execution_count": 11,
   "metadata": {},
   "outputs": [
    {
     "name": "stdout",
     "output_type": "stream",
     "text": [
      "Training until validation scores don't improve for 50 rounds\n",
      "Early stopping, best iteration is:\n",
      "[839]\tvalid_0's binary_logloss: 0.676168\n",
      "\n",
      "Vegas probs: 0.6675629431340582 on test\n",
      "model probs: 0.6709105819268425 on test\n",
      "\n",
      "Difference: 0.0033476387927843243 on test\n",
      "\n",
      "Avg Shap Vals\n",
      "Intercept               0.162708\n",
      "Strt_SO_perc_10_v       0.091226\n",
      "Strt_SO_perc_10_h       0.081569\n",
      "Strt_WHIP_35_v          0.063550\n",
      "Strt_WHIP_35_h          0.056239\n",
      "lineup9_OBP_162_h       0.043667\n",
      "OBP_162_v               0.041021\n",
      "lineup9_SLG_162_h       0.040706\n",
      "lineup9_SLG_162_v       0.038281\n",
      "OBP_162_h               0.036636\n",
      "lineup9_OBP_162_v       0.035308\n",
      "Strt_TB_BB_perc_35_h    0.033518\n",
      "SLG_162_h               0.028979\n",
      "Strt_H_BB_perc_35_h     0.025143\n",
      "Strt_TB_BB_perc_35_v    0.024740\n",
      "SLG_162_v               0.020019\n",
      "Bpen_SO_perc_75_v       0.019449\n",
      "Bpen_TB_BB_perc_75_h    0.018750\n",
      "Bpen_H_BB_perc_35_h     0.015254\n",
      "Bpen_TB_BB_perc_10_v    0.015234\n",
      "Bpen_H_BB_perc_75_h     0.012819\n",
      "Strt_H_BB_perc_35_v     0.011753\n",
      "Bpen_SO_perc_10_v       0.010558\n",
      "Bpen_WHIP_10_v          0.008982\n",
      "Bpen_TB_BB_perc_35_v    0.008692\n",
      "Bpen_SO_perc_75_h       0.008573\n",
      "Bpen_WHIP_75_v          0.008397\n",
      "Bpen_H_BB_perc_75_v     0.007571\n",
      "Bpen_H_BB_perc_35_v     0.007219\n",
      "Bpen_TB_BB_perc_75_v    0.006949\n",
      "Bpen_SO_perc_35_h       0.006730\n",
      "Bpen_WHIP_75_h          0.006291\n",
      "Bpen_SO_perc_10_h       0.003407\n",
      "Bpen_WHIP_35_v          0.003124\n",
      "Bpen_H_BB_perc_10_h     0.002915\n",
      "Bpen_H_BB_perc_10_v     0.002432\n",
      "Bpen_SO_perc_35_v       0.002129\n",
      "Bpen_TB_BB_perc_35_h    0.000721\n",
      "Bpen_WHIP_35_h          0.000701\n",
      "Bpen_WHIP_10_h          0.000520\n",
      "Bpen_TB_BB_perc_10_h    0.000416\n",
      "dtype: float64\n"
     ]
    }
   ],
   "source": [
    "features1 = features0 + f_lineup_a\n",
    "d1 = try_features(features1)"
   ]
  },
  {
   "attachments": {},
   "cell_type": "markdown",
   "metadata": {},
   "source": [
    "For comparison sake, let's use the individual batters instead"
   ]
  },
  {
   "cell_type": "code",
   "execution_count": 12,
   "metadata": {},
   "outputs": [],
   "source": [
    "slg_indiv_cols = [x for x in df.columns if '_b' in x and 'SLG_162' in x]\n",
    "obp_indiv_cols = [x for x in df.columns if '_b' in x and 'OBP_162' in x]"
   ]
  },
  {
   "cell_type": "code",
   "execution_count": 13,
   "metadata": {},
   "outputs": [
    {
     "name": "stdout",
     "output_type": "stream",
     "text": [
      "Training until validation scores don't improve for 50 rounds\n",
      "Did not meet early stopping. Best iteration is:\n",
      "[984]\tvalid_0's binary_logloss: 0.675714\n",
      "\n",
      "Vegas probs: 0.6675629431340582 on test\n",
      "model probs: 0.6710834188514149 on test\n",
      "\n",
      "Difference: 0.003520475717356697 on test\n",
      "\n",
      "Avg Shap Vals\n",
      "Intercept               0.162740\n",
      "Strt_SO_perc_10_v       0.090001\n",
      "Strt_SO_perc_10_h       0.077874\n",
      "Strt_WHIP_35_v          0.065818\n",
      "Strt_WHIP_35_h          0.058371\n",
      "OBP_162_h               0.040486\n",
      "OBP_162_v               0.033158\n",
      "Strt_TB_BB_perc_35_h    0.025036\n",
      "Strt_H_BB_perc_35_h     0.024234\n",
      "SLG_162_h               0.022317\n",
      "SLG_162_b6_h            0.021390\n",
      "SLG_162_b2_v            0.020917\n",
      "SLG_162_b9_h            0.019425\n",
      "Strt_TB_BB_perc_35_v    0.018889\n",
      "OBP_162_b3_v            0.018714\n",
      "OBP_162_b5_h            0.018676\n",
      "Bpen_TB_BB_perc_75_h    0.017422\n",
      "OBP_162_b7_h            0.016183\n",
      "OBP_162_b6_v            0.015879\n",
      "OBP_162_b8_h            0.015778\n",
      "OBP_162_b4_h            0.015065\n",
      "Bpen_SO_perc_75_v       0.014600\n",
      "OBP_162_b4_v            0.014540\n",
      "SLG_162_v               0.013811\n",
      "Bpen_TB_BB_perc_10_v    0.013767\n",
      "SLG_162_b6_v            0.013678\n",
      "Bpen_H_BB_perc_35_h     0.013630\n",
      "SLG_162_b2_h            0.013209\n",
      "SLG_162_b9_v            0.013094\n",
      "Bpen_H_BB_perc_35_v     0.012907\n",
      "Strt_H_BB_perc_35_v     0.012438\n",
      "Bpen_H_BB_perc_75_h     0.012369\n",
      "SLG_162_b7_v            0.011467\n",
      "SLG_162_b4_h            0.011441\n",
      "Bpen_SO_perc_75_h       0.010807\n",
      "OBP_162_b8_v            0.010725\n",
      "SLG_162_b1_h            0.010475\n",
      "SLG_162_b5_v            0.008672\n",
      "Bpen_WHIP_10_v          0.008654\n",
      "Bpen_SO_perc_10_v       0.008356\n",
      "OBP_162_b7_v            0.008249\n",
      "Bpen_TB_BB_perc_35_v    0.008042\n",
      "Bpen_WHIP_75_h          0.008005\n",
      "SLG_162_b3_h            0.007901\n",
      "OBP_162_b1_h            0.007637\n",
      "OBP_162_b9_h            0.006943\n",
      "SLG_162_b3_v            0.006636\n",
      "Bpen_WHIP_75_v          0.006519\n",
      "Bpen_TB_BB_perc_75_v    0.006470\n",
      "SLG_162_b4_v            0.005945\n",
      "OBP_162_b9_v            0.005942\n",
      "SLG_162_b7_h            0.005812\n",
      "Bpen_H_BB_perc_75_v     0.005691\n",
      "OBP_162_b5_v            0.004227\n",
      "SLG_162_b1_v            0.004115\n",
      "OBP_162_b1_v            0.004105\n",
      "OBP_162_b2_v            0.004046\n",
      "Bpen_WHIP_35_v          0.003050\n",
      "OBP_162_b2_h            0.002977\n",
      "Bpen_SO_perc_35_h       0.002846\n",
      "SLG_162_b8_v            0.002770\n",
      "OBP_162_b3_h            0.002146\n",
      "OBP_162_b6_h            0.002125\n",
      "Bpen_SO_perc_10_h       0.001830\n",
      "Bpen_H_BB_perc_10_h     0.001806\n",
      "SLG_162_b5_h            0.001654\n",
      "Bpen_WHIP_35_h          0.001386\n",
      "SLG_162_b8_h            0.000539\n",
      "Bpen_SO_perc_35_v       0.000516\n",
      "Bpen_H_BB_perc_10_v     0.000494\n",
      "Bpen_TB_BB_perc_35_h    0.000488\n",
      "Bpen_WHIP_10_h          0.000474\n",
      "Bpen_TB_BB_perc_10_h    0.000000\n",
      "dtype: float64\n"
     ]
    }
   ],
   "source": [
    "features2 = features0 + slg_indiv_cols + obp_indiv_cols\n",
    "d2 = try_features(features2, max_depth=2)"
   ]
  },
  {
   "cell_type": "code",
   "execution_count": 14,
   "metadata": {},
   "outputs": [
    {
     "name": "stdout",
     "output_type": "stream",
     "text": [
      "Training until validation scores don't improve for 50 rounds\n",
      "Did not meet early stopping. Best iteration is:\n",
      "[997]\tvalid_0's binary_logloss: 0.675698\n",
      "\n",
      "Vegas probs: 0.6675629431340582 on test\n",
      "model probs: 0.6708826442373054 on test\n",
      "\n",
      "Difference: 0.003319701103247197 on test\n",
      "\n",
      "Avg Shap Vals\n",
      "Intercept               0.162874\n",
      "Strt_SO_perc_10_v       0.091724\n",
      "Strt_SO_perc_10_h       0.078109\n",
      "Strt_WHIP_35_v          0.062391\n",
      "Strt_WHIP_35_h          0.056248\n",
      "lineup9_OBP_162_h       0.039336\n",
      "lineup9_SLG_162_h       0.034880\n",
      "lineup9_SLG_162_v       0.032370\n",
      "lineup9_OBP_162_v       0.029936\n",
      "Strt_TB_BB_perc_35_h    0.028867\n",
      "OBP_162_h               0.026561\n",
      "OBP_162_v               0.026145\n",
      "Strt_H_BB_perc_35_h     0.024786\n",
      "Strt_TB_BB_perc_35_v    0.022617\n",
      "SLG_162_h               0.021861\n",
      "Bpen_TB_BB_perc_75_h    0.018237\n",
      "OBP_162_b3_v            0.016449\n",
      "Bpen_SO_perc_75_v       0.014430\n",
      "Bpen_TB_BB_perc_10_v    0.014176\n",
      "SLG_162_b2_v            0.014149\n",
      "Bpen_H_BB_perc_75_h     0.013618\n",
      "OBP_162_b4_h            0.013367\n",
      "OBP_162_b4_v            0.013084\n",
      "SLG_162_v               0.012581\n",
      "OBP_162_b5_h            0.012461\n",
      "Bpen_H_BB_perc_35_h     0.012186\n",
      "Strt_H_BB_perc_35_v     0.011933\n",
      "SLG_162_b6_h            0.011204\n",
      "Bpen_H_BB_perc_35_v     0.010157\n",
      "SLG_162_b6_v            0.010080\n",
      "Bpen_WHIP_10_v          0.009611\n",
      "Bpen_TB_BB_perc_35_v    0.008666\n",
      "Bpen_SO_perc_10_v       0.008561\n",
      "Bpen_SO_perc_75_h       0.008322\n",
      "OBP_162_b7_h            0.008150\n",
      "Bpen_H_BB_perc_75_v     0.007603\n",
      "OBP_162_b6_v            0.007199\n",
      "SLG_162_b2_h            0.007119\n",
      "Bpen_WHIP_75_v          0.006658\n",
      "SLG_162_b4_h            0.006246\n",
      "Bpen_WHIP_75_h          0.006113\n",
      "SLG_162_b9_h            0.006063\n",
      "Bpen_SO_perc_35_h       0.005320\n",
      "SLG_162_b1_h            0.005160\n",
      "SLG_162_b3_v            0.005032\n",
      "OBP_162_b7_v            0.004820\n",
      "SLG_162_b3_h            0.004738\n",
      "Bpen_TB_BB_perc_75_v    0.004732\n",
      "Bpen_WHIP_35_v          0.003880\n",
      "OBP_162_b5_v            0.003738\n",
      "SLG_162_b7_v            0.003183\n",
      "OBP_162_b1_h            0.003117\n",
      "OBP_162_b6_h            0.002824\n",
      "Bpen_H_BB_perc_10_h     0.002818\n",
      "SLG_162_b4_v            0.002720\n",
      "SLG_162_b5_v            0.002324\n",
      "SLG_162_b1_v            0.002031\n",
      "SLG_162_b9_v            0.001995\n",
      "OBP_162_b2_v            0.001772\n",
      "SLG_162_b8_v            0.001716\n",
      "Bpen_SO_perc_10_h       0.001698\n",
      "SLG_162_b8_h            0.001666\n",
      "SLG_162_b5_h            0.001647\n",
      "OBP_162_b1_v            0.001534\n",
      "OBP_162_b9_v            0.001309\n",
      "OBP_162_b8_h            0.001167\n",
      "SLG_162_b7_h            0.001074\n",
      "Bpen_WHIP_35_h          0.001040\n",
      "Bpen_H_BB_perc_10_v     0.001029\n",
      "OBP_162_b3_h            0.000795\n",
      "OBP_162_b2_h            0.000434\n",
      "Bpen_SO_perc_35_v       0.000317\n",
      "Bpen_TB_BB_perc_35_h    0.000287\n",
      "Bpen_WHIP_10_h          0.000271\n",
      "OBP_162_b9_h            0.000267\n",
      "Bpen_TB_BB_perc_10_h    0.000000\n",
      "OBP_162_b8_v            0.000000\n",
      "dtype: float64\n"
     ]
    }
   ],
   "source": [
    "features3 = features0 + slg_indiv_cols + obp_indiv_cols + f_lineup_a\n",
    "d3 = try_features(features3)"
   ]
  },
  {
   "cell_type": "code",
   "execution_count": 15,
   "metadata": {},
   "outputs": [
    {
     "name": "stdout",
     "output_type": "stream",
     "text": [
      "Training until validation scores don't improve for 50 rounds\n",
      "Early stopping, best iteration is:\n",
      "[668]\tvalid_0's binary_logloss: 0.676273\n",
      "\n",
      "Vegas probs: 0.6675629431340582 on test\n",
      "model probs: 0.6712943609046206 on test\n",
      "\n",
      "Difference: 0.0037314177705624063 on test\n",
      "\n",
      "Avg Shap Vals\n",
      "Intercept                   0.162423\n",
      "Strt_SO_perc_10_v           0.086342\n",
      "Strt_SO_perc_10_h           0.074177\n",
      "Strt_WHIP_35_v              0.061699\n",
      "Strt_WHIP_35_h              0.053246\n",
      "OBP_162_h                   0.036926\n",
      "OBP_162_v                   0.036846\n",
      "lineup9_OBS_162_h           0.035344\n",
      "Strt_TB_BB_perc_35_h        0.031245\n",
      "lineup9_OBP_162_v           0.026474\n",
      "Strt_H_BB_perc_35_h         0.025822\n",
      "lineup9_OBP_162_h           0.025514\n",
      "SLG_162_h                   0.024750\n",
      "Strt_TB_BB_perc_35_v        0.024423\n",
      "lineup9_SLG_162_v           0.022606\n",
      "lineup9_OBS_162_v           0.022594\n",
      "lineup9_SLGmod_162_h        0.020908\n",
      "Bpen_TB_BB_perc_75_h        0.019519\n",
      "SLG_162_v                   0.017423\n",
      "lineup9_SLG_162_h           0.017095\n",
      "Bpen_SO_perc_75_v           0.016131\n",
      "Bpen_TB_BB_perc_10_v        0.012831\n",
      "Bpen_H_BB_perc_35_h         0.012482\n",
      "Strt_H_BB_perc_35_v         0.011494\n",
      "Bpen_H_BB_perc_75_h         0.010463\n",
      "Bpen_TB_BB_perc_35_v        0.009002\n",
      "lineup9_SLGmod_162_v        0.008555\n",
      "Bpen_H_BB_perc_75_v         0.007723\n",
      "Bpen_WHIP_10_v              0.007597\n",
      "Bpen_WHIP_75_v              0.007578\n",
      "lineup9_SObat_perc_162_v    0.007209\n",
      "Bpen_SO_perc_75_h           0.006830\n",
      "Bpen_WHIP_75_h              0.006430\n",
      "Bpen_H_BB_perc_35_v         0.006157\n",
      "Bpen_SO_perc_10_v           0.005864\n",
      "Bpen_TB_BB_perc_75_v        0.005367\n",
      "Bpen_WHIP_35_v              0.003043\n",
      "Bpen_H_BB_perc_10_v         0.002306\n",
      "Bpen_H_BB_perc_10_h         0.002273\n",
      "lineup9_SObat_perc_162_h    0.001787\n",
      "Bpen_SO_perc_35_v           0.001373\n",
      "Bpen_SO_perc_10_h           0.001339\n",
      "Bpen_SO_perc_35_h           0.000908\n",
      "Bpen_WHIP_35_h              0.000765\n",
      "Bpen_TB_BB_perc_35_h        0.000698\n",
      "Bpen_WHIP_10_h              0.000637\n",
      "Bpen_TB_BB_perc_10_h        0.000544\n",
      "dtype: float64\n"
     ]
    }
   ],
   "source": [
    "f_lineup_b =  [\n",
    "            'lineup9_OBS_162_h','lineup9_OBS_162_v',\n",
    "            'lineup9_SLGmod_162_h','lineup9_SLGmod_162_v',\n",
    "            'lineup9_SObat_perc_162_h','lineup9_SObat_perc_162_v',\n",
    "]\n",
    "features4 = features0  +f_lineup_a + f_lineup_b\n",
    "d4 = try_features(features4)"
   ]
  },
  {
   "cell_type": "code",
   "execution_count": 16,
   "metadata": {},
   "outputs": [
    {
     "name": "stdout",
     "output_type": "stream",
     "text": [
      "Training until validation scores don't improve for 50 rounds\n",
      "Early stopping, best iteration is:\n",
      "[820]\tvalid_0's binary_logloss: 0.676101\n",
      "\n",
      "Vegas probs: 0.6675629431340582 on test\n",
      "model probs: 0.6708200306778161 on test\n",
      "\n",
      "Difference: 0.003257087543757975 on test\n",
      "\n",
      "Avg Shap Vals\n",
      "Intercept               0.162675\n",
      "Strt_SO_perc_10_v       0.090637\n",
      "Strt_SO_perc_10_h       0.082382\n",
      "Strt_WHIP_35_v          0.061427\n",
      "Strt_WHIP_35_h          0.058814\n",
      "lineup9_OBP_162_w_h     0.044779\n",
      "lineup9_SLG_162_w_v     0.042228\n",
      "OBP_162_v               0.041042\n",
      "lineup9_SLG_162_w_h     0.037310\n",
      "OBP_162_h               0.035684\n",
      "Strt_TB_BB_perc_35_h    0.032749\n",
      "lineup9_OBP_162_w_v     0.029805\n",
      "SLG_162_h               0.029434\n",
      "Strt_TB_BB_perc_35_v    0.024327\n",
      "Strt_H_BB_perc_35_h     0.022651\n",
      "Bpen_SO_perc_75_v       0.019912\n",
      "SLG_162_v               0.018851\n",
      "Bpen_TB_BB_perc_75_h    0.018233\n",
      "Bpen_TB_BB_perc_10_v    0.014443\n",
      "Bpen_H_BB_perc_35_h     0.014250\n",
      "Bpen_H_BB_perc_75_h     0.013028\n",
      "Strt_H_BB_perc_35_v     0.012080\n",
      "Bpen_SO_perc_10_v       0.010023\n",
      "Bpen_WHIP_10_v          0.009182\n",
      "Bpen_H_BB_perc_75_v     0.009105\n",
      "Bpen_TB_BB_perc_35_v    0.008922\n",
      "Bpen_SO_perc_75_h       0.008747\n",
      "Bpen_WHIP_75_v          0.008282\n",
      "Bpen_H_BB_perc_35_v     0.007312\n",
      "Bpen_WHIP_75_h          0.006221\n",
      "Bpen_TB_BB_perc_75_v    0.005888\n",
      "Bpen_SO_perc_35_h       0.005609\n",
      "Bpen_SO_perc_10_h       0.003454\n",
      "Bpen_WHIP_35_v          0.003123\n",
      "Bpen_H_BB_perc_10_h     0.002988\n",
      "Bpen_SO_perc_35_v       0.002563\n",
      "Bpen_H_BB_perc_10_v     0.002495\n",
      "Bpen_WHIP_35_h          0.001024\n",
      "Bpen_TB_BB_perc_35_h    0.000814\n",
      "Bpen_WHIP_10_h          0.000813\n",
      "Bpen_TB_BB_perc_10_h    0.000567\n",
      "dtype: float64\n"
     ]
    }
   ],
   "source": [
    "f_lineup_a_w =  [\n",
    "            'lineup9_OBP_162_w_h','lineup9_OBP_162_w_v',\n",
    "            'lineup9_SLG_162_w_h','lineup9_SLG_162_w_v',\n",
    "]\n",
    "features5 = features0+f_lineup_a_w\n",
    "d5 = try_features(features5)"
   ]
  },
  {
   "cell_type": "code",
   "execution_count": 17,
   "metadata": {},
   "outputs": [
    {
     "name": "stdout",
     "output_type": "stream",
     "text": [
      "Training until validation scores don't improve for 50 rounds\n",
      "Early stopping, best iteration is:\n",
      "[839]\tvalid_0's binary_logloss: 0.675958\n",
      "\n",
      "Vegas probs: 0.6675629431340582 on test\n",
      "model probs: 0.6703670273741288 on test\n",
      "\n",
      "Difference: 0.0028040842400706145 on test\n",
      "\n",
      "Avg Shap Vals\n",
      "Intercept               0.162649\n",
      "Strt_SO_perc_10_v       0.091660\n",
      "Strt_SO_perc_10_h       0.081292\n",
      "Strt_WHIP_35_v          0.065794\n",
      "Strt_WHIP_35_h          0.057209\n",
      "lineup8_SLG_162_w_h     0.040208\n",
      "OBP_162_h               0.040135\n",
      "lineup8_SLG_162_w_v     0.039247\n",
      "OBP_162_v               0.038468\n",
      "lineup8_OBP_162_w_h     0.031329\n",
      "Strt_TB_BB_perc_35_h    0.031310\n",
      "SLG_162_h               0.031046\n",
      "Strt_H_BB_perc_35_h     0.029346\n",
      "lineup8_OBP_162_w_v     0.025843\n",
      "Strt_TB_BB_perc_35_v    0.024200\n",
      "Bpen_SO_perc_75_v       0.021244\n",
      "SLG_162_v               0.020931\n",
      "Bpen_TB_BB_perc_75_h    0.019168\n",
      "Bpen_TB_BB_perc_10_v    0.015273\n",
      "Bpen_H_BB_perc_35_h     0.014115\n",
      "Bpen_H_BB_perc_75_h     0.013074\n",
      "Strt_H_BB_perc_35_v     0.012091\n",
      "Bpen_SO_perc_10_v       0.010278\n",
      "Bpen_TB_BB_perc_35_v    0.009668\n",
      "Bpen_WHIP_10_v          0.009291\n",
      "Bpen_WHIP_75_v          0.008721\n",
      "Bpen_SO_perc_75_h       0.008432\n",
      "Bpen_H_BB_perc_75_v     0.008218\n",
      "Bpen_TB_BB_perc_75_v    0.007523\n",
      "Bpen_SO_perc_35_h       0.006868\n",
      "Bpen_H_BB_perc_35_v     0.006855\n",
      "Bpen_WHIP_75_h          0.006575\n",
      "Bpen_WHIP_35_v          0.003459\n",
      "Bpen_SO_perc_35_v       0.002941\n",
      "Bpen_SO_perc_10_h       0.002271\n",
      "Bpen_H_BB_perc_10_v     0.001738\n",
      "Bpen_H_BB_perc_10_h     0.001589\n",
      "Bpen_WHIP_10_h          0.000888\n",
      "Bpen_WHIP_35_h          0.000866\n",
      "Bpen_TB_BB_perc_35_h    0.000707\n",
      "Bpen_TB_BB_perc_10_h    0.000575\n",
      "dtype: float64\n"
     ]
    }
   ],
   "source": [
    "f_lineup_a_8 =  [\n",
    "            'lineup8_OBP_162_w_h','lineup8_OBP_162_w_v',\n",
    "            'lineup8_SLG_162_w_h','lineup8_SLG_162_w_v',\n",
    "]\n",
    "features6 = features0+f_lineup_a_8\n",
    "d6 = try_features(features6)"
   ]
  },
  {
   "cell_type": "code",
   "execution_count": 18,
   "metadata": {},
   "outputs": [
    {
     "name": "stdout",
     "output_type": "stream",
     "text": [
      "Training until validation scores don't improve for 50 rounds\n",
      "Early stopping, best iteration is:\n",
      "[762]\tvalid_0's binary_logloss: 0.675846\n",
      "\n",
      "Vegas probs: 0.6675629431340582 on test\n",
      "model probs: 0.6711537890624325 on test\n",
      "\n",
      "Difference: 0.003590845928374331 on test\n",
      "\n",
      "Avg Shap Vals\n",
      "Intercept               0.162695\n",
      "Strt_SO_perc_10_v       0.089661\n",
      "Strt_SO_perc_10_h       0.078153\n",
      "Strt_WHIP_35_v          0.062269\n",
      "Strt_WHIP_35_h          0.051367\n",
      "lineup9_SLG_350_v       0.037911\n",
      "OBP_162_h               0.034320\n",
      "OBP_162_v               0.033279\n",
      "Strt_TB_BB_perc_35_h    0.031410\n",
      "lineup9_SLG_350_h       0.030330\n",
      "Strt_H_BB_perc_35_h     0.027087\n",
      "SLG_162_h               0.026992\n",
      "Strt_TB_BB_perc_35_v    0.022719\n",
      "lineup9_OBP_350_h       0.018553\n",
      "Bpen_TB_BB_perc_75_h    0.017980\n",
      "Bpen_SO_perc_75_v       0.016317\n",
      "lineup9_OBP_162_h       0.016241\n",
      "lineup9_SLG_75_v        0.015729\n",
      "SLG_162_v               0.015131\n",
      "Bpen_H_BB_perc_35_h     0.013801\n",
      "lineup9_SLG_75_h        0.013640\n",
      "Bpen_TB_BB_perc_10_v    0.013408\n",
      "lineup9_OBP_75_v        0.013254\n",
      "Bpen_H_BB_perc_75_h     0.012557\n",
      "lineup9_OBP_162_v       0.012288\n",
      "Strt_H_BB_perc_35_v     0.010720\n",
      "lineup9_OBP_75_h        0.009121\n",
      "lineup9_OBP_350_v       0.008940\n",
      "lineup9_SLG_162_h       0.008892\n",
      "Bpen_SO_perc_10_v       0.008750\n",
      "Bpen_WHIP_10_v          0.007965\n",
      "Bpen_TB_BB_perc_35_v    0.007856\n",
      "Bpen_H_BB_perc_75_v     0.007410\n",
      "Bpen_WHIP_75_v          0.007328\n",
      "Bpen_H_BB_perc_35_v     0.007015\n",
      "Bpen_SO_perc_75_h       0.006642\n",
      "Bpen_TB_BB_perc_75_v    0.005558\n",
      "Bpen_WHIP_75_h          0.005178\n",
      "lineup9_SLG_162_v       0.004852\n",
      "Bpen_WHIP_35_v          0.003417\n",
      "Bpen_SO_perc_10_h       0.002711\n",
      "Bpen_SO_perc_35_h       0.002437\n",
      "Bpen_H_BB_perc_10_v     0.001993\n",
      "Bpen_SO_perc_35_v       0.001636\n",
      "Bpen_WHIP_35_h          0.001260\n",
      "Bpen_H_BB_perc_10_h     0.001221\n",
      "Bpen_TB_BB_perc_35_h    0.000707\n",
      "Bpen_TB_BB_perc_10_h    0.000560\n",
      "Bpen_WHIP_10_h          0.000521\n",
      "dtype: float64\n"
     ]
    }
   ],
   "source": [
    "f_lineup_c = [\n",
    "            'lineup9_OBP_350_h','lineup9_OBP_350_v',\n",
    "            'lineup9_SLG_350_h','lineup9_SLG_350_v',\n",
    "]\n",
    "\n",
    "f_lineup_d = [\n",
    "            'lineup9_OBP_75_h','lineup9_OBP_75_v',\n",
    "            'lineup9_SLG_75_h','lineup9_SLG_75_v',\n",
    "]\n",
    "features7 = features0 + f_lineup_a + f_lineup_c+ f_lineup_d\n",
    "d7 = try_features(features7, max_depth=2)"
   ]
  },
  {
   "cell_type": "code",
   "execution_count": 19,
   "metadata": {},
   "outputs": [
    {
     "name": "stdout",
     "output_type": "stream",
     "text": [
      "Training until validation scores don't improve for 50 rounds\n",
      "Early stopping, best iteration is:\n",
      "[352]\tvalid_0's binary_logloss: 0.685168\n",
      "\n",
      "Vegas probs: 0.6675629431340582 on test\n",
      "model probs: 0.6838181979882408 on test\n",
      "\n",
      "Difference: 0.016255254854182666 on test\n",
      "\n",
      "Avg Shap Vals\n",
      "Intercept    0.160869\n",
      "OBP_162_h    0.079931\n",
      "OBP_162_v    0.072240\n",
      "SLG_162_v    0.052395\n",
      "SLG_162_h    0.049537\n",
      "dtype: float64\n"
     ]
    }
   ],
   "source": [
    "f_simple = ['OBP_162_h','OBP_162_v',\n",
    "            'SLG_162_h','SLG_162_v']\n",
    "features8 = f_simple\n",
    "\n",
    "d8 = try_features(features8, max_depth=2)"
   ]
  },
  {
   "attachments": {},
   "cell_type": "markdown",
   "metadata": {},
   "source": [
    "Model Analysis\n",
    "\n",
    "    - Is there any other evidence that this last enhancement \"improved\" the model?\n",
    "\n",
    "    - LV model is still better overall, but are we \"adding any value\"? Is our model \"catching\" anything they are not?"
   ]
  },
  {
   "cell_type": "code",
   "execution_count": 20,
   "metadata": {},
   "outputs": [],
   "source": [
    "discreps_lv0 = (d0['preds_test']-df_test.implied_prob_h_mid).to_numpy() # Without lineup features\n",
    "discreps_lv1 = (d1['preds_test']-df_test.implied_prob_h_mid).to_numpy() # With lineup features"
   ]
  },
  {
   "cell_type": "code",
   "execution_count": 21,
   "metadata": {},
   "outputs": [
    {
     "data": {
      "image/png": "[encoded data removed]",
      "text/plain": [
       "<Figure size 640x480 with 1 Axes>"
      ]
     },
     "metadata": {},
     "output_type": "display_data"
    }
   ],
   "source": [
    "plt.hist(discreps_lv1, bins=np.linspace(-.2,.2,41), alpha=.5, color='red');\n",
    "plt.hist(discreps_lv0, bins=np.linspace(-.2,.2,41), alpha=.5, color='blue');"
   ]
  },
  {
   "attachments": {},
   "cell_type": "markdown",
   "metadata": {},
   "source": [
    "Histogram above shows that we are closer to the Las Vegas model after adding in the lineup features"
   ]
  },
  {
   "cell_type": "code",
   "execution_count": 22,
   "metadata": {},
   "outputs": [
    {
     "data": {
      "text/plain": [
       "(0.041226392476188006, 0.04510140018077673)"
      ]
     },
     "execution_count": 22,
     "metadata": {},
     "output_type": "execute_result"
    }
   ],
   "source": [
    "np.mean(np.abs(discreps_lv1)), np.mean(np.abs(discreps_lv0))"
   ]
  },
  {
   "attachments": {},
   "cell_type": "markdown",
   "metadata": {},
   "source": [
    "Let's look at whether we get better predictions by making a weighted average of our model and the Las Vegas probs"
   ]
  },
  {
   "cell_type": "code",
   "execution_count": 23,
   "metadata": {},
   "outputs": [],
   "source": [
    "weak_model_preds = d8['preds_test']\n",
    "strong_model_preds = d1['preds_test']"
   ]
  },
  {
   "cell_type": "code",
   "execution_count": 24,
   "metadata": {},
   "outputs": [
    {
     "data": {
      "text/plain": [
       "[<matplotlib.lines.Line2D at 0x127309610>]"
      ]
     },
     "execution_count": 24,
     "metadata": {},
     "output_type": "execute_result"
    },
    {
     "data": {
      "image/png": "[encoded data removed]",
      "text/plain": [
       "<Figure size 640x480 with 1 Axes>"
      ]
     },
     "metadata": {},
     "output_type": "display_data"
    }
   ],
   "source": [
    "## Mixing in our first (very simple) model\n",
    "ll_mix_vec_weak = [log_loss(y_test, (k*weak_model_preds+(1-k)*df_test.implied_prob_h_mid)) for k in np.linspace(0,1,101)]\n",
    "plt.plot(ll_mix_vec_weak)"
   ]
  },
  {
   "cell_type": "code",
   "execution_count": 25,
   "metadata": {},
   "outputs": [
    {
     "data": {
      "text/plain": [
       "(4.9074286664341216e-06, 2)"
      ]
     },
     "execution_count": 25,
     "metadata": {},
     "output_type": "execute_result"
    }
   ],
   "source": [
    "ll_mix_vec_weak[0] - np.min(ll_mix_vec_weak), np.argmin(ll_mix_vec_weak)"
   ]
  },
  {
   "cell_type": "code",
   "execution_count": 26,
   "metadata": {},
   "outputs": [
    {
     "data": {
      "text/plain": [
       "[<matplotlib.lines.Line2D at 0x127388700>]"
      ]
     },
     "execution_count": 26,
     "metadata": {},
     "output_type": "execute_result"
    },
    {
     "data": {
      "image/png": "[encoded data removed]",
      "text/plain": [
       "<Figure size 640x480 with 1 Axes>"
      ]
     },
     "metadata": {},
     "output_type": "display_data"
    }
   ],
   "source": [
    "## Mixing in our latest model\n",
    "ll_mix_vec_strong = [log_loss(y_test, (k*strong_model_preds+(1-k)*df_test.implied_prob_h_mid)) for k in np.linspace(0,1,101)]\n",
    "plt.plot(ll_mix_vec_strong)"
   ]
  },
  {
   "cell_type": "code",
   "execution_count": 27,
   "metadata": {},
   "outputs": [
    {
     "data": {
      "text/plain": [
       "(0.00023396985792467628, 20)"
      ]
     },
     "execution_count": 27,
     "metadata": {},
     "output_type": "execute_result"
    }
   ],
   "source": [
    "ll_mix_vec_strong[0] - np.min(ll_mix_vec_strong), np.argmin(ll_mix_vec_strong)"
   ]
  },
  {
   "cell_type": "code",
   "execution_count": null,
   "metadata": {},
   "outputs": [],
   "source": [
    "pv_true = df_test.implied_prob_h_mid"
   ]
  },
  {
   "cell_type": "code",
   "execution_count": 28,
   "metadata": {},
   "outputs": [],
   "source": [
    "# Simulate different model variations on a single test set\n",
    "# Gives a sense of how much different models (each with the same quality)\n",
    "# will vary\n",
    "def ll_model_discrep_shuffle(probvec_true, discreps, num_trials, answers):\n",
    "    # sim_outcome = np.random.binomial(n=1, p=probvec_true)\n",
    "    llvec_mod = np.zeros(num_trials)\n",
    "    discr1 = discreps.copy()\n",
    "    for i in range(num_trials):\n",
    "        np.random.shuffle(discr1)\n",
    "        pv_mod = pv_true  + discr1\n",
    "        llvec_mod[i] = log_loss(answers, pv_mod)\n",
    "    return(llvec_mod)"
   ]
  },
  {
   "cell_type": "code",
   "execution_count": 29,
   "metadata": {},
   "outputs": [],
   "source": [
    "losses = ll_model_discrep_shuffle(pv_true, discreps_lv1, 10000, y_test)"
   ]
  },
  {
   "cell_type": "code",
   "execution_count": 30,
   "metadata": {},
   "outputs": [
    {
     "data": {
      "text/plain": [
       "<matplotlib.collections.LineCollection at 0x1273e8ee0>"
      ]
     },
     "execution_count": 30,
     "metadata": {},
     "output_type": "execute_result"
    },
    {
     "data": {
      "image/png": "[encoded data removed]",
      "text/plain": [
       "<Figure size 1200x400 with 1 Axes>"
      ]
     },
     "metadata": {},
     "output_type": "display_data"
    }
   ],
   "source": [
    "plt.figure(figsize=(12,4))\n",
    "plt.hist(losses, bins=100);\n",
    "plt.xlim([.665,.685]);\n",
    "plt.vlines(x=log_loss(y_test, strong_model_preds), ymin=0, ymax=200, color='k', linestyle='--')"
   ]
  },
  {
   "attachments": {},
   "cell_type": "markdown",
   "metadata": {},
   "source": [
    "Conclusions\n",
    "\n",
    "    - We went from ~40bps to ~30bps by adding lineup variables OBS, SLG (for home and away)\n",
    "\n",
    "    - Changing variants, adding more variables did not seem to improve at all\n",
    "\n",
    "    - Vegas model is still better overall, but evidence that our model captures effects that they don't"
   ]
  },
  {
   "attachments": {},
   "cell_type": "markdown",
   "metadata": {},
   "source": [
    "Next Steps\n",
    "\n",
    "    - Want to model runs scored \n",
    "        \n",
    "        -- will certainly be useful for predicting the over / under\n",
    "        \n",
    "        -- may also prove useful for predicting the winner of the game\n",
    "\n",
    "    - Will want to use probabilistic regression to get a distribution on the runs scored rather than a point estimate"
   ]
  }
 ],
 "metadata": {
  "kernelspec": {
   "display_name": "Python 3",
   "language": "python",
   "name": "python3"
  },
  "language_info": {
   "codemirror_mode": {
    "name": "ipython",
    "version": 3
   },
   "file_extension": ".py",
   "mimetype": "text/x-python",
   "name": "python",
   "nbconvert_exporter": "python",
   "pygments_lexer": "ipython3",
   "version": "3.9.6"
  },
  "orig_nbformat": 4
 },
 "nbformat": 4,
 "nbformat_minor": 2
}
