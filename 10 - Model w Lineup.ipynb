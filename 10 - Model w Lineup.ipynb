{
 "cells": [
  {
   "attachments": {},
   "cell_type": "markdown",
   "metadata": {},
   "source": [
    "Add Lineup to Model\n",
    "\n",
    "    - Last time we scraped individual batter data for the 7300+ players who have appeared in a starting lineup between 1970 and 2022.\n",
    "\n",
    "    - We then processed the data to get statistics about the trailing performance of each of the players before each game in which they started.\n",
    "\n",
    "    - Using this, we were able to get features related to each player that could be used to predict each game. We then averaged across the lineup in several different ways to come up with a variety of lineup related statistics.\n",
    "    \n",
    "    - Now, we will add these features to the model and see how much improvement we get"
   ]
  },
  {
   "cell_type": "code",
   "execution_count": 1,
   "metadata": {},
   "outputs": [],
   "source": [
    "import numpy as np\n",
    "import pandas as pd\n",
    "import matplotlib.pyplot as plt\n",
    "\n",
    "import lightgbm as lgbm\n",
    "import structureboost as stb\n",
    "import ml_insights as mli\n",
    "from structureboost import log_loss\n",
    "pd.set_option('display.max_columns',1000)\n",
    "pd.set_option('display.max_rows',1000)"
   ]
  },
  {
   "cell_type": "code",
   "execution_count": 2,
   "metadata": {},
   "outputs": [],
   "source": [
    "df = pd.read_csv('df_bp9.csv', low_memory=False)"
   ]
  },
  {
   "attachments": {},
   "cell_type": "markdown",
   "metadata": {},
   "source": [
    "BEGIN MODELING"
   ]
  },
  {
   "cell_type": "code",
   "execution_count": 3,
   "metadata": {},
   "outputs": [],
   "source": [
    "df = df[df.run_diff!=0]\n",
    "df_train = df[(df.season>2000) & (df.season<=2015) & ~(df.OBP_162_h.isnull())]\n",
    "df_valid = df[(df.season>=2016) & (df.season<=2020)]\n",
    "df_test = df[df.season>=2021]\n",
    "df_test_val = df[df.season>=2019]"
   ]
  },
  {
   "cell_type": "code",
   "execution_count": 4,
   "metadata": {},
   "outputs": [
    {
     "data": {
      "text/plain": [
       "(56765, 1235)"
      ]
     },
     "execution_count": 4,
     "metadata": {},
     "output_type": "execute_result"
    }
   ],
   "source": [
    "df.shape"
   ]
  },
  {
   "cell_type": "code",
   "execution_count": 5,
   "metadata": {},
   "outputs": [
    {
     "data": {
      "text/plain": [
       "0.5408303925893251"
      ]
     },
     "execution_count": 5,
     "metadata": {},
     "output_type": "execute_result"
    }
   ],
   "source": [
    "hv_mean = df_train.home_victory.mean()\n",
    "hv_mean"
   ]
  },
  {
   "attachments": {},
   "cell_type": "markdown",
   "metadata": {},
   "source": [
    "Let's add in some lineup features"
   ]
  },
  {
   "cell_type": "code",
   "execution_count": 6,
   "metadata": {},
   "outputs": [],
   "source": [
    "target = 'home_victory'\n",
    "\n",
    "y_train = df_train[target].to_numpy()\n",
    "y_valid = df_valid[target].to_numpy()\n",
    "y_test = df_test[target].to_numpy()"
   ]
  },
  {
   "cell_type": "code",
   "execution_count": 7,
   "metadata": {},
   "outputs": [],
   "source": [
    "def try_features(feat_set, max_depth=2):\n",
    "    target = 'home_victory'\n",
    "    X_train = df_train.loc[:,feat_set]\n",
    "    X_valid = df_valid.loc[:,feat_set]\n",
    "    X_test = df_test.loc[:,feat_set]\n",
    "\n",
    "\n",
    "\n",
    "    lgbm1 = lgbm.LGBMClassifier(n_estimators=1000, learning_rate=.02, max_depth=max_depth)\n",
    "    lgbm1.fit(X_train, y_train, eval_set=(X_valid, y_valid), eval_metric='logloss', \n",
    "          callbacks=[lgbm.early_stopping(stopping_rounds=50)])\n",
    "    \n",
    "    preds_lgbm_test = lgbm1.predict_proba(X_test)[:,1]\n",
    "    ll_test = log_loss(y_test, preds_lgbm_test)\n",
    "\n",
    "    print(f'\\nVegas probs: {log_loss(y_test,df_test.implied_prob_h_mid)} on test')\n",
    "    print(f'model probs: {ll_test} on test')\n",
    "\n",
    "    print(f'\\nDifference: {ll_test - log_loss(y_test,df_test.implied_prob_h_mid)} on test')\n",
    "\n",
    "    sv_lgbm = lgbm1.predict(X_test, pred_contrib=True)\n",
    "    sv_lgbm = pd.DataFrame(sv_lgbm)\n",
    "    sv_lgbm.columns = list(X_test.columns)+['Intercept']\n",
    "    sv_vec = sv_lgbm.abs().mean().sort_values(ascending=False)\n",
    "    print('\\nAvg Shap Vals')\n",
    "    \n",
    "    print(sv_vec)\n",
    "    out_dict={}\n",
    "    out_dict['ll_test'] = ll_test\n",
    "    out_dict['model'] = lgbm1\n",
    "    out_dict['shap_val_avgs'] = sv_vec\n",
    "    out_dict['preds_test'] = preds_lgbm_test\n",
    "    return(out_dict)"
   ]
  },
  {
   "attachments": {},
   "cell_type": "markdown",
   "metadata": {},
   "source": [
    "First, let's revisit our best model from our last modeling session"
   ]
  },
  {
   "cell_type": "code",
   "execution_count": 10,
   "metadata": {},
   "outputs": [],
   "source": [
    "features0 = ['OBP_162_h','OBP_162_v',\n",
    "            'SLG_162_h','SLG_162_v',\n",
    "            'Strt_WHIP_34_h','Strt_WHIP_34_v',\n",
    "            'Strt_TB_BB_perc_34_h', 'Strt_TB_BB_perc_34_v',\n",
    "            'Strt_H_BB_perc_34_h', 'Strt_H_BB_perc_34_v',\n",
    "            'Strt_SO_perc_6_h', 'Strt_SO_perc_6_v',\n",
    "            'Bpen_WHIP_162_h','Bpen_WHIP_162_v',\n",
    "            'Bpen_TB_BB_perc_162_h', 'Bpen_TB_BB_perc_162_v',\n",
    "            'Bpen_H_BB_perc_162_h', 'Bpen_H_BB_perc_162_v',\n",
    "            'Bpen_SO_perc_162_h', 'Bpen_SO_perc_162_v',\n",
    "            'Bpen_WHIP_30_h','Bpen_WHIP_30_v',\n",
    "            'Bpen_TB_BB_perc_30_h', 'Bpen_TB_BB_perc_30_v',\n",
    "            'Bpen_H_BB_perc_30_h', 'Bpen_H_BB_perc_30_v',\n",
    "            'Bpen_SO_perc_30_h', 'Bpen_SO_perc_30_v',\n",
    "            'Bpen_WHIP_10_h','Bpen_WHIP_10_v',\n",
    "            'Bpen_TB_BB_perc_10_h', 'Bpen_TB_BB_perc_10_v',\n",
    "            'Bpen_H_BB_perc_10_h', 'Bpen_H_BB_perc_10_v',\n",
    "            'Bpen_SO_perc_10_h', 'Bpen_SO_perc_10_v']"
   ]
  },
  {
   "cell_type": "code",
   "execution_count": 11,
   "metadata": {},
   "outputs": [
    {
     "name": "stdout",
     "output_type": "stream",
     "text": [
      "Training until validation scores don't improve for 50 rounds\n",
      "Early stopping, best iteration is:\n",
      "[916]\tvalid_0's binary_logloss: 0.676511\n",
      "\n",
      "Vegas probs: 0.6704071693200951 on test\n",
      "model probs: 0.6762223886743407 on test\n",
      "\n",
      "Difference: 0.00581521935424556 on test\n",
      "\n",
      "Avg Shap Vals\n",
      "Intercept                0.167402\n",
      "Strt_SO_perc_6_h         0.073075\n",
      "Strt_SO_perc_6_v         0.061591\n",
      "SLG_162_h                0.058224\n",
      "OBP_162_v                0.043801\n",
      "OBP_162_h                0.043667\n",
      "Strt_TB_BB_perc_34_h     0.042587\n",
      "Bpen_TB_BB_perc_162_h    0.038928\n",
      "Strt_H_BB_perc_34_h      0.035906\n",
      "Strt_TB_BB_perc_34_v     0.035144\n",
      "SLG_162_v                0.034695\n",
      "Bpen_TB_BB_perc_162_v    0.033763\n",
      "Strt_WHIP_34_v           0.031677\n",
      "Strt_WHIP_34_h           0.031386\n",
      "Strt_H_BB_perc_34_v      0.028371\n",
      "Bpen_TB_BB_perc_30_h     0.027511\n",
      "Bpen_H_BB_perc_162_v     0.022276\n",
      "Bpen_H_BB_perc_162_h     0.017397\n",
      "Bpen_SO_perc_30_v        0.017284\n",
      "Bpen_SO_perc_10_v        0.014919\n",
      "Bpen_H_BB_perc_10_v      0.012872\n",
      "Bpen_TB_BB_perc_10_h     0.011241\n",
      "Bpen_SO_perc_162_v       0.010336\n",
      "Bpen_SO_perc_162_h       0.009818\n",
      "Bpen_WHIP_10_h           0.008995\n",
      "Bpen_WHIP_162_h          0.008344\n",
      "Bpen_WHIP_30_v           0.006307\n",
      "Bpen_H_BB_perc_10_h      0.005662\n",
      "Bpen_TB_BB_perc_30_v     0.005387\n",
      "Bpen_SO_perc_30_h        0.005296\n",
      "Bpen_H_BB_perc_30_v      0.005280\n",
      "Bpen_WHIP_30_h           0.005088\n",
      "Bpen_WHIP_162_v          0.004155\n",
      "Bpen_H_BB_perc_30_h      0.003188\n",
      "Bpen_TB_BB_perc_10_v     0.003018\n",
      "Bpen_WHIP_10_v           0.001773\n",
      "Bpen_SO_perc_10_h        0.001666\n",
      "dtype: float64\n"
     ]
    }
   ],
   "source": [
    "d0 = try_features(features0)"
   ]
  },
  {
   "cell_type": "code",
   "execution_count": 12,
   "metadata": {},
   "outputs": [],
   "source": [
    "f_lineup_a = [\n",
    "            'lineup9_OBP_162_h','lineup9_OBP_162_v',\n",
    "            'lineup9_SLG_162_h','lineup9_SLG_162_v',\n",
    "]"
   ]
  },
  {
   "cell_type": "code",
   "execution_count": 13,
   "metadata": {},
   "outputs": [
    {
     "name": "stdout",
     "output_type": "stream",
     "text": [
      "Training until validation scores don't improve for 50 rounds\n",
      "Early stopping, best iteration is:\n",
      "[728]\tvalid_0's binary_logloss: 0.675921\n",
      "\n",
      "Vegas probs: 0.6704071693200951 on test\n",
      "model probs: 0.6752358609667897 on test\n",
      "\n",
      "Difference: 0.004828691646694527 on test\n",
      "\n",
      "Avg Shap Vals\n",
      "Intercept                0.167458\n",
      "Strt_SO_perc_6_h         0.068086\n",
      "Strt_SO_perc_6_v         0.056888\n",
      "lineup9_SLG_162_v        0.047729\n",
      "lineup9_OBP_162_h        0.046523\n",
      "Strt_TB_BB_perc_34_h     0.041052\n",
      "SLG_162_h                0.040316\n",
      "Strt_H_BB_perc_34_h      0.036134\n",
      "Strt_TB_BB_perc_34_v     0.034572\n",
      "Bpen_TB_BB_perc_162_h    0.032685\n",
      "OBP_162_h                0.032303\n",
      "OBP_162_v                0.031397\n",
      "Strt_WHIP_34_h           0.030340\n",
      "Strt_H_BB_perc_34_v      0.028973\n",
      "Bpen_TB_BB_perc_162_v    0.028679\n",
      "Strt_WHIP_34_v           0.026464\n",
      "Bpen_TB_BB_perc_30_h     0.023846\n",
      "lineup9_SLG_162_h        0.022042\n",
      "Bpen_H_BB_perc_162_v     0.019591\n",
      "Bpen_SO_perc_30_v        0.016900\n",
      "SLG_162_v                0.013300\n",
      "lineup9_OBP_162_v        0.013036\n",
      "Bpen_H_BB_perc_162_h     0.012088\n",
      "Bpen_H_BB_perc_10_v      0.011582\n",
      "Bpen_SO_perc_10_v        0.011141\n",
      "Bpen_SO_perc_162_v       0.009796\n",
      "Bpen_TB_BB_perc_10_h     0.007439\n",
      "Bpen_WHIP_10_h           0.005667\n",
      "Bpen_WHIP_162_h          0.004849\n",
      "Bpen_H_BB_perc_10_h      0.004618\n",
      "Bpen_WHIP_30_v           0.004573\n",
      "Bpen_WHIP_30_h           0.004393\n",
      "Bpen_SO_perc_162_h       0.004307\n",
      "Bpen_SO_perc_30_h        0.004007\n",
      "Bpen_TB_BB_perc_30_v     0.003879\n",
      "Bpen_WHIP_162_v          0.002208\n",
      "Bpen_H_BB_perc_30_v      0.002039\n",
      "Bpen_H_BB_perc_30_h      0.001612\n",
      "Bpen_TB_BB_perc_10_v     0.001527\n",
      "Bpen_SO_perc_10_h        0.000803\n",
      "Bpen_WHIP_10_v           0.000356\n",
      "dtype: float64\n"
     ]
    }
   ],
   "source": [
    "features1 = features0 + f_lineup_a\n",
    "d1 = try_features(features1)"
   ]
  },
  {
   "attachments": {},
   "cell_type": "markdown",
   "metadata": {},
   "source": [
    "For comparison sake, let's use the individual batters instead"
   ]
  },
  {
   "cell_type": "code",
   "execution_count": 14,
   "metadata": {},
   "outputs": [],
   "source": [
    "slg_indiv_cols = [x for x in df.columns if '_b' in x and 'SLG_162' in x]\n",
    "obp_indiv_cols = [x for x in df.columns if '_b' in x and 'OBP_162' in x]"
   ]
  },
  {
   "cell_type": "code",
   "execution_count": 15,
   "metadata": {},
   "outputs": [
    {
     "name": "stdout",
     "output_type": "stream",
     "text": [
      "Training until validation scores don't improve for 50 rounds\n"
     ]
    },
    {
     "name": "stdout",
     "output_type": "stream",
     "text": [
      "Did not meet early stopping. Best iteration is:\n",
      "[998]\tvalid_0's binary_logloss: 0.675581\n",
      "\n",
      "Vegas probs: 0.6704071693200951 on test\n",
      "model probs: 0.6764345036551058 on test\n",
      "\n",
      "Difference: 0.006027334335010681 on test\n",
      "\n",
      "Avg Shap Vals\n",
      "Intercept                0.167686\n",
      "Strt_SO_perc_6_h         0.070596\n",
      "Strt_SO_perc_6_v         0.055621\n",
      "Strt_TB_BB_perc_34_h     0.040424\n",
      "Strt_TB_BB_perc_34_v     0.038722\n",
      "SLG_162_h                0.038412\n",
      "OBP_162_b3_v             0.033859\n",
      "Strt_WHIP_34_h           0.031627\n",
      "OBP_162_b8_h             0.031347\n",
      "Bpen_TB_BB_perc_162_v    0.030138\n",
      "Strt_H_BB_perc_34_v      0.028458\n",
      "Bpen_TB_BB_perc_162_h    0.027980\n",
      "OBP_162_b4_v             0.027226\n",
      "OBP_162_h                0.026970\n",
      "Bpen_TB_BB_perc_30_h     0.026671\n",
      "Strt_WHIP_34_v           0.026497\n",
      "OBP_162_b4_h             0.025637\n",
      "Strt_H_BB_perc_34_h      0.025489\n",
      "Bpen_H_BB_perc_162_v     0.021914\n",
      "SLG_162_b4_v             0.019472\n",
      "SLG_162_b8_h             0.018361\n",
      "SLG_162_v                0.017155\n",
      "SLG_162_b7_v             0.017150\n",
      "OBP_162_b9_h             0.016223\n",
      "OBP_162_b1_h             0.015757\n",
      "Bpen_SO_perc_30_v        0.014515\n",
      "SLG_162_b9_h             0.013651\n",
      "SLG_162_b2_v             0.013468\n",
      "SLG_162_b6_v             0.013445\n",
      "SLG_162_b2_h             0.012567\n",
      "Bpen_H_BB_perc_162_h     0.012424\n",
      "OBP_162_v                0.012218\n",
      "SLG_162_b9_v             0.011654\n",
      "OBP_162_b5_h             0.011409\n",
      "Bpen_SO_perc_10_v        0.010971\n",
      "Bpen_H_BB_perc_10_v      0.010733\n",
      "OBP_162_b7_h             0.010405\n",
      "OBP_162_b9_v             0.010118\n",
      "OBP_162_b6_h             0.009393\n",
      "OBP_162_b6_v             0.009108\n",
      "SLG_162_b6_h             0.007657\n",
      "OBP_162_b5_v             0.007363\n",
      "OBP_162_b3_h             0.007206\n",
      "OBP_162_b8_v             0.007172\n",
      "SLG_162_b8_v             0.006540\n",
      "SLG_162_b3_h             0.005699\n",
      "Bpen_WHIP_162_h          0.005597\n",
      "SLG_162_b3_v             0.005531\n",
      "Bpen_TB_BB_perc_10_h     0.004977\n",
      "OBP_162_b2_v             0.004662\n",
      "OBP_162_b7_v             0.004313\n",
      "Bpen_SO_perc_162_h       0.004255\n",
      "SLG_162_b5_h             0.003978\n",
      "Bpen_WHIP_10_h           0.003964\n",
      "SLG_162_b7_h             0.003881\n",
      "SLG_162_b1_h             0.003824\n",
      "Bpen_H_BB_perc_30_v      0.003811\n",
      "Bpen_SO_perc_30_h        0.003809\n",
      "Bpen_WHIP_30_v           0.003719\n",
      "Bpen_WHIP_30_h           0.003252\n",
      "Bpen_H_BB_perc_30_h      0.003103\n",
      "SLG_162_b1_v             0.002832\n",
      "Bpen_TB_BB_perc_30_v     0.002522\n",
      "SLG_162_b5_v             0.002409\n",
      "Bpen_SO_perc_162_v       0.002360\n",
      "Bpen_WHIP_162_v          0.002199\n",
      "Bpen_H_BB_perc_10_h      0.002087\n",
      "OBP_162_b1_v             0.002083\n",
      "SLG_162_b4_h             0.001567\n",
      "Bpen_TB_BB_perc_10_v     0.000986\n",
      "Bpen_SO_perc_10_h        0.000772\n",
      "OBP_162_b2_h             0.000361\n",
      "Bpen_WHIP_10_v           0.000086\n",
      "dtype: float64\n"
     ]
    }
   ],
   "source": [
    "features2 = features0 + slg_indiv_cols + obp_indiv_cols\n",
    "d2 = try_features(features2, max_depth=2)"
   ]
  },
  {
   "cell_type": "code",
   "execution_count": 16,
   "metadata": {},
   "outputs": [
    {
     "name": "stdout",
     "output_type": "stream",
     "text": [
      "Training until validation scores don't improve for 50 rounds\n",
      "Early stopping, best iteration is:\n",
      "[918]\tvalid_0's binary_logloss: 0.675693\n",
      "\n",
      "Vegas probs: 0.6704071693200951 on test\n",
      "model probs: 0.676152619412875 on test\n",
      "\n",
      "Difference: 0.005745450092779825 on test\n",
      "\n",
      "Avg Shap Vals\n",
      "Intercept                0.167566\n",
      "Strt_SO_perc_6_h         0.068051\n",
      "Strt_SO_perc_6_v         0.055333\n",
      "Strt_TB_BB_perc_34_h     0.040423\n",
      "lineup9_OBP_162_h        0.036556\n",
      "Strt_TB_BB_perc_34_v     0.035825\n",
      "SLG_162_h                0.032309\n",
      "Strt_WHIP_34_h           0.032172\n",
      "lineup9_SLG_162_v        0.032070\n",
      "OBP_162_b3_v             0.031904\n",
      "Bpen_TB_BB_perc_162_v    0.030358\n",
      "Bpen_TB_BB_perc_162_h    0.029034\n",
      "Strt_H_BB_perc_34_v      0.028568\n",
      "OBP_162_h                0.027707\n",
      "Strt_WHIP_34_v           0.026239\n",
      "OBP_162_b4_h             0.025294\n",
      "Strt_H_BB_perc_34_h      0.025163\n",
      "OBP_162_b4_v             0.024769\n",
      "Bpen_TB_BB_perc_30_h     0.024177\n",
      "Bpen_H_BB_perc_162_v     0.019164\n",
      "SLG_162_b4_v             0.016745\n",
      "lineup9_SLG_162_h        0.015877\n",
      "Bpen_SO_perc_30_v        0.015521\n",
      "OBP_162_v                0.012323\n",
      "Bpen_H_BB_perc_10_v      0.011788\n",
      "Bpen_H_BB_perc_162_h     0.011499\n",
      "SLG_162_b9_h             0.011285\n",
      "OBP_162_b1_h             0.010713\n",
      "OBP_162_b8_h             0.010713\n",
      "lineup9_OBP_162_v        0.010679\n",
      "SLG_162_v                0.010564\n",
      "SLG_162_b8_h             0.010142\n",
      "Bpen_SO_perc_10_v        0.009664\n",
      "SLG_162_b6_v             0.009240\n",
      "SLG_162_b2_v             0.008727\n",
      "OBP_162_b9_h             0.008721\n",
      "SLG_162_b7_v             0.008385\n",
      "OBP_162_b6_h             0.007363\n",
      "OBP_162_b5_h             0.006944\n",
      "OBP_162_b7_h             0.006606\n",
      "OBP_162_b3_h             0.006532\n",
      "SLG_162_b2_h             0.006204\n",
      "OBP_162_b9_v             0.006097\n",
      "OBP_162_b2_v             0.005954\n",
      "OBP_162_b6_v             0.005902\n",
      "SLG_162_b9_v             0.005005\n",
      "Bpen_WHIP_162_h          0.004393\n",
      "SLG_162_b3_h             0.004375\n",
      "Bpen_WHIP_30_v           0.004160\n",
      "SLG_162_b8_v             0.004149\n",
      "SLG_162_b7_h             0.003925\n",
      "Bpen_SO_perc_162_h       0.003876\n",
      "Bpen_TB_BB_perc_10_h     0.003823\n",
      "SLG_162_b3_v             0.003821\n",
      "Bpen_H_BB_perc_30_v      0.003575\n",
      "Bpen_SO_perc_30_h        0.003491\n",
      "OBP_162_b5_v             0.003255\n",
      "Bpen_WHIP_10_h           0.002845\n",
      "Bpen_WHIP_30_h           0.002675\n",
      "Bpen_WHIP_162_v          0.002487\n",
      "Bpen_TB_BB_perc_30_v     0.002426\n",
      "Bpen_H_BB_perc_10_h      0.002412\n",
      "SLG_162_b1_h             0.002162\n",
      "OBP_162_b8_v             0.001986\n",
      "SLG_162_b6_h             0.001937\n",
      "Bpen_SO_perc_162_v       0.001886\n",
      "SLG_162_b1_v             0.001709\n",
      "SLG_162_b5_h             0.001419\n",
      "SLG_162_b5_v             0.001344\n",
      "OBP_162_b7_v             0.001292\n",
      "Bpen_H_BB_perc_30_h      0.001280\n",
      "OBP_162_b1_v             0.001099\n",
      "Bpen_SO_perc_10_h        0.000745\n",
      "OBP_162_b2_h             0.000549\n",
      "Bpen_TB_BB_perc_10_v     0.000507\n",
      "SLG_162_b4_h             0.000319\n",
      "Bpen_WHIP_10_v           0.000035\n",
      "dtype: float64\n"
     ]
    }
   ],
   "source": [
    "features3 = features0 + slg_indiv_cols + obp_indiv_cols + f_lineup_a\n",
    "d3 = try_features(features3)"
   ]
  },
  {
   "cell_type": "code",
   "execution_count": 17,
   "metadata": {},
   "outputs": [
    {
     "name": "stdout",
     "output_type": "stream",
     "text": [
      "Training until validation scores don't improve for 50 rounds\n",
      "Early stopping, best iteration is:\n",
      "[863]\tvalid_0's binary_logloss: 0.67577\n",
      "\n",
      "Vegas probs: 0.6704071693200951 on test\n",
      "model probs: 0.6752431813953479 on test\n",
      "\n",
      "Difference: 0.004836012075252749 on test\n",
      "\n",
      "Avg Shap Vals\n",
      "Intercept                   0.167603\n",
      "Strt_SO_perc_6_h            0.069657\n",
      "Strt_SO_perc_6_v            0.058932\n",
      "lineup9_SLGmod_162_h        0.041725\n",
      "Strt_TB_BB_perc_34_h        0.040890\n",
      "SLG_162_h                   0.039727\n",
      "Strt_WHIP_34_h              0.036364\n",
      "OBP_162_h                   0.035962\n",
      "lineup9_SLG_162_v           0.035713\n",
      "lineup9_SObat_perc_162_v    0.034812\n",
      "Bpen_TB_BB_perc_162_h       0.034106\n",
      "Strt_TB_BB_perc_34_v        0.032470\n",
      "lineup9_OBP_162_h           0.032315\n",
      "Strt_H_BB_perc_34_v         0.029625\n",
      "Bpen_TB_BB_perc_162_v       0.029171\n",
      "Strt_H_BB_perc_34_h         0.028574\n",
      "Strt_WHIP_34_v              0.025490\n",
      "OBP_162_v                   0.025245\n",
      "Bpen_TB_BB_perc_30_h        0.023166\n",
      "lineup9_SLGmod_162_v        0.022703\n",
      "lineup9_OBS_162_v           0.018821\n",
      "Bpen_H_BB_perc_162_v        0.018414\n",
      "Bpen_SO_perc_30_v           0.018411\n",
      "lineup9_OBS_162_h           0.017232\n",
      "Bpen_H_BB_perc_162_h        0.016776\n",
      "lineup9_SObat_perc_162_h    0.015568\n",
      "Bpen_H_BB_perc_10_v         0.014722\n",
      "lineup9_OBP_162_v           0.014585\n",
      "SLG_162_v                   0.013986\n",
      "Bpen_SO_perc_10_v           0.010661\n",
      "lineup9_SLG_162_h           0.008755\n",
      "Bpen_TB_BB_perc_10_h        0.008230\n",
      "Bpen_SO_perc_162_v          0.008227\n",
      "Bpen_WHIP_10_h              0.006742\n",
      "Bpen_WHIP_30_v              0.006153\n",
      "Bpen_H_BB_perc_10_h         0.005987\n",
      "Bpen_WHIP_30_h              0.004690\n",
      "Bpen_SO_perc_30_h           0.004660\n",
      "Bpen_H_BB_perc_30_v         0.004580\n",
      "Bpen_WHIP_162_h             0.003903\n",
      "Bpen_SO_perc_162_h          0.003812\n",
      "Bpen_TB_BB_perc_30_v        0.003086\n",
      "Bpen_TB_BB_perc_10_v        0.002896\n",
      "Bpen_H_BB_perc_30_h         0.002585\n",
      "Bpen_WHIP_162_v             0.002185\n",
      "Bpen_SO_perc_10_h           0.001488\n",
      "Bpen_WHIP_10_v              0.000989\n",
      "dtype: float64\n"
     ]
    }
   ],
   "source": [
    "f_lineup_b =  [\n",
    "            'lineup9_OBS_162_h','lineup9_OBS_162_v',\n",
    "            'lineup9_SLGmod_162_h','lineup9_SLGmod_162_v',\n",
    "            'lineup9_SObat_perc_162_h','lineup9_SObat_perc_162_v',\n",
    "]\n",
    "features4 = features0  +f_lineup_a + f_lineup_b\n",
    "d4 = try_features(features4)"
   ]
  },
  {
   "cell_type": "code",
   "execution_count": 18,
   "metadata": {},
   "outputs": [
    {
     "name": "stdout",
     "output_type": "stream",
     "text": [
      "Training until validation scores don't improve for 50 rounds\n",
      "Early stopping, best iteration is:\n",
      "[849]\tvalid_0's binary_logloss: 0.67573\n",
      "\n",
      "Vegas probs: 0.6704071693200951 on test\n",
      "model probs: 0.6753186741868937 on test\n",
      "\n",
      "Difference: 0.004911504866798588 on test\n",
      "\n",
      "Avg Shap Vals\n",
      "Intercept                0.167583\n",
      "Strt_SO_perc_6_h         0.070557\n",
      "Strt_SO_perc_6_v         0.060493\n",
      "lineup9_OBP_162_w_h      0.051756\n",
      "SLG_162_h                0.044877\n",
      "Strt_TB_BB_perc_34_h     0.042450\n",
      "lineup9_SLG_162_w_v      0.040767\n",
      "Strt_TB_BB_perc_34_v     0.035476\n",
      "Bpen_TB_BB_perc_162_h    0.035125\n",
      "Strt_H_BB_perc_34_h      0.034143\n",
      "Strt_WHIP_34_h           0.032400\n",
      "OBP_162_v                0.031505\n",
      "Bpen_TB_BB_perc_162_v    0.029957\n",
      "Strt_H_BB_perc_34_v      0.029445\n",
      "OBP_162_h                0.027341\n",
      "Strt_WHIP_34_v           0.027130\n",
      "Bpen_TB_BB_perc_30_h     0.024316\n",
      "lineup9_OBP_162_w_v      0.021332\n",
      "Bpen_H_BB_perc_162_v     0.018508\n",
      "Bpen_SO_perc_30_v        0.017804\n",
      "lineup9_SLG_162_w_h      0.016381\n",
      "SLG_162_v                0.015969\n",
      "Bpen_H_BB_perc_10_v      0.012807\n",
      "Bpen_SO_perc_10_v        0.012652\n",
      "Bpen_H_BB_perc_162_h     0.010896\n",
      "Bpen_TB_BB_perc_10_h     0.009198\n",
      "Bpen_SO_perc_162_v       0.008647\n",
      "Bpen_WHIP_10_h           0.006892\n",
      "Bpen_H_BB_perc_10_h      0.006181\n",
      "Bpen_SO_perc_162_h       0.005406\n",
      "Bpen_WHIP_30_v           0.005206\n",
      "Bpen_WHIP_162_h          0.005094\n",
      "Bpen_WHIP_30_h           0.004704\n",
      "Bpen_TB_BB_perc_30_v     0.003839\n",
      "Bpen_SO_perc_30_h        0.003510\n",
      "Bpen_H_BB_perc_30_v      0.003246\n",
      "Bpen_WHIP_162_v          0.003009\n",
      "Bpen_SO_perc_10_h        0.002556\n",
      "Bpen_TB_BB_perc_10_v     0.001791\n",
      "Bpen_H_BB_perc_30_h      0.001249\n",
      "Bpen_WHIP_10_v           0.000494\n",
      "dtype: float64\n"
     ]
    }
   ],
   "source": [
    "f_lineup_a_w =  [\n",
    "            'lineup9_OBP_162_w_h','lineup9_OBP_162_w_v',\n",
    "            'lineup9_SLG_162_w_h','lineup9_SLG_162_w_v',\n",
    "]\n",
    "features5 = features0+f_lineup_a_w\n",
    "d5 = try_features(features5)"
   ]
  },
  {
   "cell_type": "code",
   "execution_count": 19,
   "metadata": {},
   "outputs": [
    {
     "name": "stdout",
     "output_type": "stream",
     "text": [
      "Training until validation scores don't improve for 50 rounds\n",
      "Early stopping, best iteration is:\n",
      "[829]\tvalid_0's binary_logloss: 0.675899\n",
      "\n",
      "Vegas probs: 0.6704071693200951 on test\n",
      "model probs: 0.6755964041758682 on test\n",
      "\n",
      "Difference: 0.0051892348557730505 on test\n",
      "\n",
      "Avg Shap Vals\n",
      "Intercept                0.167575\n",
      "Strt_SO_perc_6_h         0.070275\n",
      "Strt_SO_perc_6_v         0.058944\n",
      "Strt_TB_BB_perc_34_h     0.043450\n",
      "lineup8_SLG_162_w_v      0.043357\n",
      "OBP_162_h                0.037248\n",
      "Bpen_TB_BB_perc_162_h    0.037179\n",
      "SLG_162_h                0.036714\n",
      "Strt_TB_BB_perc_34_v     0.036250\n",
      "Strt_H_BB_perc_34_h      0.033231\n",
      "Strt_WHIP_34_v           0.032925\n",
      "Strt_WHIP_34_h           0.032871\n",
      "lineup8_SLG_162_w_h      0.031629\n",
      "Bpen_TB_BB_perc_162_v    0.030416\n",
      "OBP_162_v                0.030341\n",
      "Strt_H_BB_perc_34_v      0.025730\n",
      "lineup8_OBP_162_w_h      0.025641\n",
      "Bpen_TB_BB_perc_30_h     0.025394\n",
      "Bpen_H_BB_perc_162_v     0.020024\n",
      "Bpen_H_BB_perc_162_h     0.017033\n",
      "Bpen_SO_perc_30_v        0.015756\n",
      "SLG_162_v                0.015150\n",
      "Bpen_SO_perc_10_v        0.014349\n",
      "lineup8_OBP_162_w_v      0.013064\n",
      "Bpen_H_BB_perc_10_v      0.011267\n",
      "Bpen_TB_BB_perc_10_h     0.009339\n",
      "Bpen_WHIP_10_h           0.007472\n",
      "Bpen_WHIP_30_v           0.006086\n",
      "Bpen_H_BB_perc_10_h      0.005557\n",
      "Bpen_SO_perc_162_v       0.005502\n",
      "Bpen_WHIP_162_h          0.005477\n",
      "Bpen_SO_perc_162_h       0.005356\n",
      "Bpen_TB_BB_perc_30_v     0.004571\n",
      "Bpen_WHIP_30_h           0.004390\n",
      "Bpen_SO_perc_30_h        0.003580\n",
      "Bpen_H_BB_perc_30_v      0.003433\n",
      "Bpen_WHIP_162_v          0.002990\n",
      "Bpen_H_BB_perc_30_h      0.001777\n",
      "Bpen_TB_BB_perc_10_v     0.001470\n",
      "Bpen_SO_perc_10_h        0.001354\n",
      "Bpen_WHIP_10_v           0.000211\n",
      "dtype: float64\n"
     ]
    }
   ],
   "source": [
    "f_lineup_a_8 =  [\n",
    "            'lineup8_OBP_162_w_h','lineup8_OBP_162_w_v',\n",
    "            'lineup8_SLG_162_w_h','lineup8_SLG_162_w_v',\n",
    "]\n",
    "features6 = features0+f_lineup_a_8\n",
    "d6 = try_features(features6)"
   ]
  },
  {
   "cell_type": "code",
   "execution_count": 22,
   "metadata": {},
   "outputs": [
    {
     "name": "stdout",
     "output_type": "stream",
     "text": [
      "Training until validation scores don't improve for 50 rounds\n",
      "Early stopping, best iteration is:\n",
      "[735]\tvalid_0's binary_logloss: 0.676138\n",
      "\n",
      "Vegas probs: 0.6704071693200951 on test\n",
      "model probs: 0.6749841259063472 on test\n",
      "\n",
      "Difference: 0.004576956586252012 on test\n",
      "\n",
      "Avg Shap Vals\n",
      "Intercept                0.167424\n",
      "Strt_SO_perc_6_h         0.067032\n",
      "Strt_SO_perc_6_v         0.057232\n",
      "SLG_162_h                0.043711\n",
      "Strt_TB_BB_perc_34_h     0.041385\n",
      "Strt_WHIP_34_h           0.035246\n",
      "lineup9_OBP_162_h        0.034927\n",
      "Strt_TB_BB_perc_34_v     0.032436\n",
      "lineup9_SLG_162_v        0.032346\n",
      "Bpen_TB_BB_perc_162_h    0.032244\n",
      "Strt_H_BB_perc_34_v      0.031032\n",
      "Bpen_TB_BB_perc_162_v    0.030416\n",
      "Strt_H_BB_perc_34_h      0.028270\n",
      "Strt_WHIP_34_v           0.027407\n",
      "OBP_162_v                0.024909\n",
      "Bpen_TB_BB_perc_30_h     0.024264\n",
      "OBP_162_h                0.023239\n",
      "lineup9_OBP_81_v         0.020777\n",
      "lineup9_OBP_30_h         0.020748\n",
      "Bpen_H_BB_perc_162_v     0.018739\n",
      "lineup9_SLG_162_h        0.017494\n",
      "Bpen_SO_perc_30_v        0.017140\n",
      "SLG_162_v                0.013397\n",
      "Bpen_H_BB_perc_162_h     0.012909\n",
      "lineup9_SLG_81_v         0.012432\n",
      "Bpen_H_BB_perc_10_v      0.010812\n",
      "Bpen_SO_perc_10_v        0.010603\n",
      "lineup9_OBP_162_v        0.007279\n",
      "Bpen_SO_perc_162_v       0.007056\n",
      "lineup9_OBP_81_h         0.006756\n",
      "lineup9_SLG_81_h         0.006671\n",
      "lineup9_SLG_30_v         0.006382\n",
      "Bpen_TB_BB_perc_10_h     0.005886\n",
      "Bpen_WHIP_10_h           0.004529\n",
      "lineup9_OBP_30_v         0.004480\n",
      "Bpen_WHIP_30_v           0.004463\n",
      "Bpen_WHIP_162_h          0.004231\n",
      "Bpen_WHIP_30_h           0.004157\n",
      "Bpen_SO_perc_30_h        0.004125\n",
      "Bpen_TB_BB_perc_30_v     0.003646\n",
      "Bpen_H_BB_perc_10_h      0.003448\n",
      "Bpen_SO_perc_162_h       0.003294\n",
      "Bpen_WHIP_162_v          0.002672\n",
      "Bpen_SO_perc_10_h        0.002557\n",
      "Bpen_H_BB_perc_30_v      0.002523\n",
      "lineup9_SLG_30_h         0.001663\n",
      "Bpen_TB_BB_perc_10_v     0.001175\n",
      "Bpen_H_BB_perc_30_h      0.000864\n",
      "Bpen_WHIP_10_v           0.000821\n",
      "dtype: float64\n"
     ]
    }
   ],
   "source": [
    "f_lineup_c = [\n",
    "            'lineup9_OBP_81_h','lineup9_OBP_81_v',\n",
    "            'lineup9_SLG_81_h','lineup9_SLG_81_v',\n",
    "]\n",
    "\n",
    "f_lineup_d = [\n",
    "            'lineup9_OBP_30_h','lineup9_OBP_30_v',\n",
    "            'lineup9_SLG_30_h','lineup9_SLG_30_v',\n",
    "]\n",
    "features7 = features0 + f_lineup_a + f_lineup_c+ f_lineup_d\n",
    "d7 = try_features(features7, max_depth=2)"
   ]
  },
  {
   "cell_type": "code",
   "execution_count": 23,
   "metadata": {},
   "outputs": [
    {
     "name": "stdout",
     "output_type": "stream",
     "text": [
      "Training until validation scores don't improve for 50 rounds\n",
      "Early stopping, best iteration is:\n",
      "[309]\tvalid_0's binary_logloss: 0.685304\n",
      "\n",
      "Vegas probs: 0.6704071693200951 on test\n",
      "model probs: 0.6853351908572949 on test\n",
      "\n",
      "Difference: 0.014928021537199743 on test\n",
      "\n",
      "Avg Shap Vals\n",
      "Intercept    0.164907\n",
      "OBP_162_h    0.081119\n",
      "OBP_162_v    0.080885\n",
      "SLG_162_h    0.056084\n",
      "SLG_162_v    0.036130\n",
      "dtype: float64\n"
     ]
    }
   ],
   "source": [
    "f_simple = ['OBP_162_h','OBP_162_v',\n",
    "            'SLG_162_h','SLG_162_v']\n",
    "features8 = f_simple\n",
    "\n",
    "d8 = try_features(features8, max_depth=2)"
   ]
  },
  {
   "attachments": {},
   "cell_type": "markdown",
   "metadata": {},
   "source": [
    "Model Analysis\n",
    "\n",
    "    - Is there any other evidence that this last enhancement \"improved\" the model?\n",
    "\n",
    "    - LV model is still better overall, but are we \"adding any value\"? Is our model \"catching\" anything they are not?"
   ]
  },
  {
   "cell_type": "code",
   "execution_count": 24,
   "metadata": {},
   "outputs": [],
   "source": [
    "discreps_lv0 = (d0['preds_test']-df_test.implied_prob_h_mid).to_numpy() # Without lineup features\n",
    "discreps_lv1 = (d1['preds_test']-df_test.implied_prob_h_mid).to_numpy() # With lineup features"
   ]
  },
  {
   "cell_type": "code",
   "execution_count": 25,
   "metadata": {},
   "outputs": [
    {
     "data": {
      "image/png": "[encoded data removed]",
      "text/plain": [
       "<Figure size 640x480 with 1 Axes>"
      ]
     },
     "metadata": {},
     "output_type": "display_data"
    }
   ],
   "source": [
    "plt.hist(discreps_lv1, bins=np.linspace(-.2,.2,41), alpha=.5, color='red');\n",
    "plt.hist(discreps_lv0, bins=np.linspace(-.2,.2,41), alpha=.5, color='blue');"
   ]
  },
  {
   "attachments": {},
   "cell_type": "markdown",
   "metadata": {},
   "source": [
    "Histogram above shows that we are closer to the Las Vegas model after adding in the lineup features"
   ]
  },
  {
   "cell_type": "code",
   "execution_count": 26,
   "metadata": {},
   "outputs": [
    {
     "data": {
      "text/plain": [
       "(0.04396098462270591, 0.04694740583228808)"
      ]
     },
     "execution_count": 26,
     "metadata": {},
     "output_type": "execute_result"
    }
   ],
   "source": [
    "np.mean(np.abs(discreps_lv1)), np.mean(np.abs(discreps_lv0))"
   ]
  },
  {
   "attachments": {},
   "cell_type": "markdown",
   "metadata": {},
   "source": [
    "Let's look at whether we get better predictions by making a weighted average of our model and the Las Vegas probs"
   ]
  },
  {
   "cell_type": "code",
   "execution_count": 27,
   "metadata": {},
   "outputs": [],
   "source": [
    "weak_model_preds = d8['preds_test']\n",
    "strong_model_preds = d1['preds_test']"
   ]
  },
  {
   "cell_type": "code",
   "execution_count": 28,
   "metadata": {},
   "outputs": [
    {
     "data": {
      "text/plain": [
       "[<matplotlib.lines.Line2D at 0x127a9c100>]"
      ]
     },
     "execution_count": 28,
     "metadata": {},
     "output_type": "execute_result"
    },
    {
     "data": {
      "image/png": "[encoded data removed]",
      "text/plain": [
       "<Figure size 640x480 with 1 Axes>"
      ]
     },
     "metadata": {},
     "output_type": "display_data"
    }
   ],
   "source": [
    "## Mixing in our first (very simple) model\n",
    "ll_mix_vec_weak = [log_loss(y_test, (k*weak_model_preds+(1-k)*df_test.implied_prob_h_mid)) for k in np.linspace(0,1,101)]\n",
    "plt.plot(ll_mix_vec_weak)"
   ]
  },
  {
   "cell_type": "code",
   "execution_count": 29,
   "metadata": {},
   "outputs": [
    {
     "data": {
      "text/plain": [
       "(2.550669643641701e-05, 4)"
      ]
     },
     "execution_count": 29,
     "metadata": {},
     "output_type": "execute_result"
    }
   ],
   "source": [
    "ll_mix_vec_weak[0] - np.min(ll_mix_vec_weak), np.argmin(ll_mix_vec_weak)"
   ]
  },
  {
   "cell_type": "code",
   "execution_count": 30,
   "metadata": {},
   "outputs": [
    {
     "data": {
      "text/plain": [
       "[<matplotlib.lines.Line2D at 0x1279342b0>]"
      ]
     },
     "execution_count": 30,
     "metadata": {},
     "output_type": "execute_result"
    },
    {
     "data": {
      "image/png": "[encoded data removed]",
      "text/plain": [
       "<Figure size 640x480 with 1 Axes>"
      ]
     },
     "metadata": {},
     "output_type": "display_data"
    }
   ],
   "source": [
    "## Mixing in our latest model\n",
    "ll_mix_vec_strong = [log_loss(y_test, (k*strong_model_preds+(1-k)*df_test.implied_prob_h_mid)) for k in np.linspace(0,1,101)]\n",
    "plt.plot(ll_mix_vec_strong)"
   ]
  },
  {
   "cell_type": "code",
   "execution_count": 31,
   "metadata": {},
   "outputs": [
    {
     "data": {
      "text/plain": [
       "(8.738639506111756e-05, 12)"
      ]
     },
     "execution_count": 31,
     "metadata": {},
     "output_type": "execute_result"
    }
   ],
   "source": [
    "ll_mix_vec_strong[0] - np.min(ll_mix_vec_strong), np.argmin(ll_mix_vec_strong)"
   ]
  },
  {
   "cell_type": "code",
   "execution_count": 32,
   "metadata": {},
   "outputs": [],
   "source": [
    "pv_true = df_test.implied_prob_h_mid"
   ]
  },
  {
   "cell_type": "code",
   "execution_count": 33,
   "metadata": {},
   "outputs": [],
   "source": [
    "# Simulate different model variations on a single test set\n",
    "# Gives a sense of how much different models (each with the same quality)\n",
    "# will vary\n",
    "def ll_model_discrep_shuffle(probvec_true, discreps, num_trials, answers):\n",
    "    # sim_outcome = np.random.binomial(n=1, p=probvec_true)\n",
    "    llvec_mod = np.zeros(num_trials)\n",
    "    discr1 = discreps.copy()\n",
    "    for i in range(num_trials):\n",
    "        np.random.shuffle(discr1)\n",
    "        pv_mod = pv_true  + discr1\n",
    "        llvec_mod[i] = log_loss(answers, pv_mod)\n",
    "    return(llvec_mod)"
   ]
  },
  {
   "cell_type": "code",
   "execution_count": 34,
   "metadata": {},
   "outputs": [],
   "source": [
    "losses = ll_model_discrep_shuffle(pv_true, discreps_lv1, 10000, y_test)"
   ]
  },
  {
   "cell_type": "code",
   "execution_count": 35,
   "metadata": {},
   "outputs": [
    {
     "data": {
      "text/plain": [
       "<matplotlib.collections.LineCollection at 0x127adcd60>"
      ]
     },
     "execution_count": 35,
     "metadata": {},
     "output_type": "execute_result"
    },
    {
     "data": {
      "image/png": "[encoded data removed]",
      "text/plain": [
       "<Figure size 1200x400 with 1 Axes>"
      ]
     },
     "metadata": {},
     "output_type": "display_data"
    }
   ],
   "source": [
    "plt.figure(figsize=(12,4))\n",
    "plt.hist(losses, bins=100);\n",
    "plt.xlim([.665,.685]);\n",
    "plt.vlines(x=log_loss(y_test, strong_model_preds), ymin=0, ymax=200, color='k', linestyle='--')"
   ]
  },
  {
   "attachments": {},
   "cell_type": "markdown",
   "metadata": {},
   "source": [
    "Conclusions\n",
    "\n",
    "    - We went from ~40bps to ~30bps by adding lineup variables OBS, SLG (for home and away)\n",
    "\n",
    "    - Changing variants, adding more variables did not seem to improve at all\n",
    "\n",
    "    - Vegas model is still better overall, but evidence that our model captures effects that they don't"
   ]
  },
  {
   "attachments": {},
   "cell_type": "markdown",
   "metadata": {},
   "source": [
    "Next Steps\n",
    "\n",
    "    - Want to model runs scored \n",
    "        \n",
    "        -- will certainly be useful for predicting the over / under\n",
    "        \n",
    "        -- may also prove useful for predicting the winner of the game\n",
    "\n",
    "    - Will want to use probabilistic regression to get a distribution on the runs scored rather than a point estimate"
   ]
  }
 ],
 "metadata": {
  "kernelspec": {
   "display_name": "Python 3",
   "language": "python",
   "name": "python3"
  },
  "language_info": {
   "codemirror_mode": {
    "name": "ipython",
    "version": 3
   },
   "file_extension": ".py",
   "mimetype": "text/x-python",
   "name": "python",
   "nbconvert_exporter": "python",
   "pygments_lexer": "ipython3",
   "version": "3.9.6"
  },
  "orig_nbformat": 4
 },
 "nbformat": 4,
 "nbformat_minor": 2
}
