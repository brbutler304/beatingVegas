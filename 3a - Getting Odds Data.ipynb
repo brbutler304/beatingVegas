{
 "cells": [
  {
   "attachments": {},
   "cell_type": "markdown",
   "metadata": {},
   "source": [
    "Baseball Prediction: 3a - Getting Odds Data\n",
    "\n",
    "In this notebook, we will get historical odds data from oddsshark.com. We will use the pandas read_html function to grab a table into a dataframe, and show how to programmatically sweep through all the necessary urls to get the data we need.\n",
    "\n",
    "We will save this data as a collection of csv files. In the next notebook, we will use these csv files to add the odds information to our primary dataframe."
   ]
  },
  {
   "cell_type": "code",
   "execution_count": null,
   "metadata": {},
   "outputs": [],
   "source": [
    "import numpy as np\n",
    "import pandas as pd\n",
    "import matplotlib.pyplot as plt\n",
    "%matplotlib inline\n",
    "\n",
    "pd.set_option('display.max_columns', 1000)\n",
    "pd.set_option('display.max_rows', 1000)"
   ]
  },
  {
   "cell_type": "code",
   "execution_count": null,
   "metadata": {},
   "outputs": [],
   "source": [
    "import lxml\n",
    "import html5lib\n",
    "from urllib.request import urlopen\n",
    "import time"
   ]
  },
  {
   "cell_type": "code",
   "execution_count": null,
   "metadata": {},
   "outputs": [],
   "source": [
    "df1 = pd.read_html('https://www.oddsshark.com/stats/gamelog/baseball/mlb/27000?season=2021')[0]\n",
    "df1.head(10)"
   ]
  },
  {
   "cell_type": "code",
   "execution_count": null,
   "metadata": {},
   "outputs": [],
   "source": [
    "def line_to_prob(line):\n",
    "    prob_underdog = 100/(np.abs(line)+100) # this is the probability for the \n",
    "    add_term = ((1-np.sign(line))/2) # 0 if negative, 1 if positive\n",
    "    mult_factor = np.sign(line) # -1 if negative, 1 if positive\n",
    "    # if line is positive, team is underdog, give 0 + 1*prob_underdog\n",
    "    # if line is negative, team is favorited give 1 + (-1)*prob_underdog\n",
    "    imp_prob = add_term + mult_factor * prob_underdog \n",
    "    return(imp_prob)"
   ]
  },
  {
   "attachments": {},
   "cell_type": "markdown",
   "metadata": {},
   "source": [
    "\n",
    "Plan of Attack\n",
    "\n",
    "- Get the \"number\" for each team\n",
    "- Read the table for each team, and for each season (2019-2022)\n",
    "- Lightly process the data frame (remove playoffs, process date, add game_number, add \"source_team\", convert line)\n",
    "- Save each file"
   ]
  },
  {
   "cell_type": "code",
   "execution_count": null,
   "metadata": {},
   "outputs": [],
   "source": [
    "# manually figure out what number in url corresponds to which team\n",
    "# use the 3 letter abbrev from retrosheet for each team\n",
    "\n",
    "oddsshark_num_to_team_dict = {}\n",
    "oddsshark_num_to_team_dict[26995]='PHI'\n",
    "oddsshark_num_to_team_dict[26996]='SDN'\n",
    "oddsshark_num_to_team_dict[26997]='SFN'\n",
    "oddsshark_num_to_team_dict[26998]='ANA'\n",
    "oddsshark_num_to_team_dict[26999]='DET'\n",
    "oddsshark_num_to_team_dict[27000]='CIN'\n",
    "oddsshark_num_to_team_dict[27001]='NYA'\n",
    "oddsshark_num_to_team_dict[27002]='TEX'\n",
    "oddsshark_num_to_team_dict[27003]='TBA'\n",
    "oddsshark_num_to_team_dict[27004]='COL'\n",
    "oddsshark_num_to_team_dict[27005]='MIN'\n",
    "oddsshark_num_to_team_dict[27006]='KCA'\n",
    "oddsshark_num_to_team_dict[27007]='ARI'\n",
    "oddsshark_num_to_team_dict[27008]='BAL'\n",
    "oddsshark_num_to_team_dict[27009]='ATL'\n",
    "oddsshark_num_to_team_dict[27010]='TOR'\n",
    "oddsshark_num_to_team_dict[27011]='SEA'\n",
    "oddsshark_num_to_team_dict[27012]='MIL'\n",
    "oddsshark_num_to_team_dict[27013]='PIT'\n",
    "oddsshark_num_to_team_dict[27014]='NYN'\n",
    "oddsshark_num_to_team_dict[27015]='LAN'\n",
    "oddsshark_num_to_team_dict[27016]='OAK'\n",
    "oddsshark_num_to_team_dict[27017]='WAS'\n",
    "oddsshark_num_to_team_dict[27018]='CHA'\n",
    "oddsshark_num_to_team_dict[27019]='SLN'\n",
    "oddsshark_num_to_team_dict[27020]='CHN'\n",
    "oddsshark_num_to_team_dict[27021]='BOS'\n",
    "oddsshark_num_to_team_dict[27022]='MIA'\n",
    "oddsshark_num_to_team_dict[27023]='HOU'\n",
    "oddsshark_num_to_team_dict[27024]='CLE'"
   ]
  },
  {
   "cell_type": "code",
   "execution_count": null,
   "metadata": {},
   "outputs": [],
   "source": [
    "for i in range(26995, 27025):\n",
    "    team_name = oddsshark_num_to_team_dict[i]\n",
    "    print(team_name)\n",
    "    for season in range(2019,2023):\n",
    "        print(season)\n",
    "        url = 'https://www.oddsshark.com/stats/gamelog/baseball/mlb/'+str(i)+'?season='+str(season)\n",
    "        df_temp = pd.read_html(url)[0]\n",
    "        df_temp = df_temp[df_temp.Game=='REG']\n",
    "        print(df_temp.shape)\n",
    "        df_temp['team_source'] = team_name\n",
    "        df_temp['season'] = season\n",
    "        df_temp['date_numeric'] = pd.to_datetime(df_temp.Date).astype(str).str.replace('-','')\n",
    "        df_temp['game_no'] = np.arange(1,df_temp.shape[0]+1)\n",
    "        df_temp['prob_implied'] = line_to_prob(df_temp['Line'])      \n",
    "        next_game_date = np.concatenate((df_temp['date_numeric'].iloc[1:],[0]))\n",
    "        previous_game_date = np.concatenate(([0], df_temp['date_numeric'].iloc[:-1]))\n",
    "        game_1_dblheader = (df_temp.date_numeric.to_numpy()==next_game_date).astype(int)\n",
    "        game_2_dblheader = (df_temp.date_numeric.to_numpy()==previous_game_date).astype(int)*2\n",
    "        df_temp['dblheader_num'] = game_1_dblheader+game_2_dblheader        \n",
    "        fname_out = 'oddsshark_'+team_name+'_'+str(season)+'.csv'\n",
    "        df_temp.to_csv('/Users/gilliancurtis/Desktop/beatingVegas/oddshark/'+fname_out,index=False)\n",
    "        time.sleep(0.5)"
   ]
  }
 ],
 "metadata": {
  "kernelspec": {
   "display_name": "Python 3",
   "language": "python",
   "name": "python3"
  },
  "language_info": {
   "codemirror_mode": {
    "name": "ipython",
    "version": 3
   },
   "file_extension": ".py",
   "mimetype": "text/x-python",
   "name": "python",
   "nbconvert_exporter": "python",
   "pygments_lexer": "ipython3",
   "version": "3.9.6"
  },
  "orig_nbformat": 4
 },
 "nbformat": 4,
 "nbformat_minor": 2
}
